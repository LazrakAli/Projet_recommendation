{
 "cells": [
  {
   "cell_type": "code",
   "execution_count": 2,
   "metadata": {},
   "outputs": [],
   "source": [
    "import pandas as pd\n",
    "from surprise import KNNWithMeans\n",
    "from surprise import Dataset, Reader\n",
    "from surprise.model_selection import cross_validate, train_test_split\n",
    "from surprise import accuracy"
   ]
  },
  {
   "cell_type": "code",
   "execution_count": 3,
   "metadata": {},
   "outputs": [],
   "source": [
    "avis = pd.read_csv(\"BDD/avis_sans_outliers.csv\")"
   ]
  },
  {
   "cell_type": "code",
   "execution_count": 4,
   "metadata": {},
   "outputs": [
    {
     "name": "stdout",
     "output_type": "stream",
     "text": [
      "Computing the cosine similarity matrix...\n",
      "Done computing similarity matrix.\n",
      "MAE:  1.2396\n",
      "RMSE: 1.5741\n"
     ]
    },
    {
     "data": {
      "text/plain": [
       "1.5741406631540633"
      ]
     },
     "execution_count": 4,
     "metadata": {},
     "output_type": "execute_result"
    }
   ],
   "source": [
    "# Define sim_options (can be tuned as needed)\n",
    "sim_options = {\n",
    "    'name': 'cosine',\n",
    "    'user_based': False  # item-based\n",
    "}\n",
    "\n",
    "# Instantiate the KNNWithMeans algorithm\n",
    "algo = KNNWithMeans(sim_options=sim_options)\n",
    "\n",
    "# Dataset loading\n",
    "reader = Reader(line_format='user item rating', rating_scale=(0, 10))\n",
    "data = Dataset.load_from_df(avis[['author', 'title', 'note']], reader)\n",
    "\n",
    "# Splitting the dataset into train and test set for evaluation\n",
    "trainset, testset = train_test_split(data, test_size=0.25)\n",
    "\n",
    "# Train the algorithm on the trainset and predict ratings for the testset\n",
    "algo.fit(trainset)\n",
    "\n",
    "# Predict ratings for the testset\n",
    "predictions = algo.test(testset)\n",
    "\n",
    "# Evaluate the algorithm with MAE and RMSE\n",
    "accuracy.mae(predictions)\n",
    "accuracy.rmse(predictions)"
   ]
  },
  {
   "cell_type": "code",
   "execution_count": 5,
   "metadata": {},
   "outputs": [],
   "source": [
    "# Recommender function\n",
    "def get_top_n_predictions(predictions, n=10):\n",
    "    \"\"\"\n",
    "    Return the top-N recommended items for each user from a set of predictions.\n",
    "    \"\"\"\n",
    "\n",
    "    # First map the predictions to each user.\n",
    "    top_n = {}\n",
    "    for uid, iid, true_r, est, _ in predictions:\n",
    "        if uid not in top_n:\n",
    "            top_n[uid] = []\n",
    "        top_n[uid].append((iid, est))\n",
    "\n",
    "    # Then sort the predictions for each user and retrieve the N highest ones.\n",
    "    for uid, user_ratings in top_n.items():\n",
    "        user_ratings.sort(key=lambda x: x[1], reverse=True)\n",
    "        top_n[uid] = user_ratings[:n]\n",
    "\n",
    "    return top_n"
   ]
  },
  {
   "cell_type": "code",
   "execution_count": 6,
   "metadata": {},
   "outputs": [],
   "source": [
    "top_n = get_top_n_predictions(predictions, n=5)"
   ]
  },
  {
   "cell_type": "code",
   "execution_count": 9,
   "metadata": {},
   "outputs": [
    {
     "name": "stdout",
     "output_type": "stream",
     "text": [
      "Recommendations for user Christophe Massart: ['Dungeon Twister 2 - Prison', 'Unanimo', 'Palazzo Paletti', 'Hamster Rolle', 'Mamma Mia !']\n",
      "Recommendations for user Shaaaady: ['Twelve Heroes', 'Dixit : Origin', 'Le Fou Volant', 'Codenames : Disney', 'When I Dream']\n",
      "Recommendations for user Gorthyn: ['Visionary', 'Medina', 'Mémoire 44', 'Tadsch Mahal', 'Herr der Ringe: Die Entscheidung']\n",
      "Recommendations for user jmguiche: ['Clank! Legacy: Acquisitions Incorporated.', 'Die Brücken von Shangrila', 'Ganymede', 'Saint Pétersbourg', 'Maracaïbo']\n",
      "Recommendations for user tidoltibo: ['WeyKick Football', 'Pandémie : Au Seuil de la Catastrophe', 'Snooker', 'Baby-foot / football de table', 'Kuhhandel Master']\n",
      "Recommendations for user Sicander vincit: [\"Through The Ages : L'Histoire vous appartient\", 'Moai', 'Leader 1 : Hell of the North', 'Mousquetaires du Roy', 'Descent : voyage dans les ténèbres']\n",
      "Recommendations for user Raphaël: ['Pente', 'Medina', 'Mémoire 44', 'Maharaja', 'Richard Cœur de Lion']\n",
      "Recommendations for user Sylow: ['Taboo 2e édition', 'Sumoku', 'Pit', 'Barony', 'Gosu 2  : Tactics']\n",
      "Recommendations for user limp: ['Trickerion: Legends of Illusion', 'La Cité des Pièges', 'La Traversée Infernale', 'Logik Ville', 'Bruxelles 1893']\n",
      "Recommendations for user popol: ['Rallyman (4e édition)', 'La Havane', \"Les Géants de l'île de Pâques\", 'Kubb', 'Assyria']\n"
     ]
    }
   ],
   "source": [
    "# Print the recommended items for the first couple of users\n",
    "first_couple_users = list(top_n.keys())[:10]  # Adjust the number to select the first N users\n",
    "\n",
    "for uid in first_couple_users:\n",
    "    user_ratings = top_n[uid]\n",
    "    print(f\"Recommendations for user {uid}: {[iid for (iid, _) in user_ratings]}\")"
   ]
  },
  {
   "cell_type": "code",
   "execution_count": 8,
   "metadata": {},
   "outputs": [
    {
     "name": "stdout",
     "output_type": "stream",
     "text": [
      "[('Roads & Boats', 8.915360598844542), ('Descent  : Héros de Legende', 8.852162586995277), ('Tigris & Euphrates', 8.731896722756963), (\"Through The Ages : L'Histoire vous appartient\", 8.323886585588575), ('Vasco da Gama', 8.308300652273935)]\n"
     ]
    }
   ],
   "source": [
    "print(top_n[\"Pac\"])"
   ]
  }
 ],
 "metadata": {
  "kernelspec": {
   "display_name": "base",
   "language": "python",
   "name": "python3"
  },
  "language_info": {
   "codemirror_mode": {
    "name": "ipython",
    "version": 3
   },
   "file_extension": ".py",
   "mimetype": "text/x-python",
   "name": "python",
   "nbconvert_exporter": "python",
   "pygments_lexer": "ipython3",
   "version": "3.9.18"
  },
  "orig_nbformat": 4
 },
 "nbformat": 4,
 "nbformat_minor": 2
}
