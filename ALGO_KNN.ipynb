{
 "cells": [
  {
   "cell_type": "code",
   "execution_count": 2,
   "metadata": {},
   "outputs": [],
   "source": [
    "import pandas as pd\n",
    "from surprise import KNNWithZScore\n",
    "from surprise import Dataset, Reader\n",
    "from surprise.model_selection import cross_validate, train_test_split\n",
    "from surprise import accuracy"
   ]
  },
  {
   "cell_type": "code",
   "execution_count": 3,
   "metadata": {},
   "outputs": [],
   "source": [
    "avis = pd.read_csv(\"BDD/avis_sans_outliers.csv\")"
   ]
  },
  {
   "cell_type": "code",
   "execution_count": 4,
   "metadata": {},
   "outputs": [
    {
     "name": "stdout",
     "output_type": "stream",
     "text": [
      "Computing the cosine similarity matrix...\n",
      "Done computing similarity matrix.\n",
      "MAE:  1.2452\n",
      "RMSE: 1.5922\n"
     ]
    },
    {
     "data": {
      "text/plain": [
       "1.5922360585054942"
      ]
     },
     "execution_count": 4,
     "metadata": {},
     "output_type": "execute_result"
    }
   ],
   "source": [
    "# Define sim_options (can be tuned as needed)\n",
    "sim_options = {\n",
    "    'name': 'cosine',\n",
    "    'user_based': True\n",
    "}\n",
    "\n",
    "# Instantiate the KNNWithMeans algorithm\n",
    "algo = KNNWithZScore(sim_options=sim_options, k=20)\n",
    "\n",
    "# Dataset loading\n",
    "reader = Reader(line_format='user item rating', rating_scale=(0, 10))\n",
    "data = Dataset.load_from_df(avis[['author', 'title', 'note']], reader)\n",
    "\n",
    "# Splitting the dataset into train and test set for evaluation\n",
    "trainset, testset = train_test_split(data, test_size=0.25)\n",
    "\n",
    "# Train the algorithm on the trainset and predict ratings for the testset\n",
    "algo.fit(trainset)\n",
    "\n",
    "# Predict ratings for the testset\n",
    "predictions = algo.test(testset)\n",
    "\n",
    "# Evaluate the algorithm with MAE and RMSE\n",
    "accuracy.mae(predictions)\n",
    "accuracy.rmse(predictions)"
   ]
  },
  {
   "cell_type": "code",
   "execution_count": 5,
   "metadata": {},
   "outputs": [],
   "source": [
    "# Recommender function\n",
    "def get_top_n_predictions(predictions, n=10):\n",
    "    \"\"\"\n",
    "    Return the top-N recommended items for each user from a set of predictions.\n",
    "    \"\"\"\n",
    "\n",
    "    # First map the predictions to each user.\n",
    "    top_n = {}\n",
    "    for uid, iid, true_r, est, _ in predictions:\n",
    "        if uid not in top_n:\n",
    "            top_n[uid] = []\n",
    "        top_n[uid].append((iid, est))\n",
    "\n",
    "    # Then sort the predictions for each user and retrieve the N highest ones.\n",
    "    for uid, user_ratings in top_n.items():\n",
    "        user_ratings.sort(key=lambda x: x[1], reverse=True)\n",
    "        top_n[uid] = user_ratings[:n]\n",
    "\n",
    "    return top_n"
   ]
  },
  {
   "cell_type": "code",
   "execution_count": 6,
   "metadata": {},
   "outputs": [],
   "source": [
    "top_n = get_top_n_predictions(predictions, n=5)"
   ]
  },
  {
   "cell_type": "code",
   "execution_count": 7,
   "metadata": {},
   "outputs": [
    {
     "name": "stdout",
     "output_type": "stream",
     "text": [
      "Recommendations for user Tourbillon: ['Mamma Mia !', 'Carson City', 'Le Fou Volant', 'Dindons & Dragons']\n",
      "Recommendations for user elyrelle: ['One Deck Dungeon', 'Cartographers', 'Pix']\n",
      "Recommendations for user Joker75: ['Antiquity', 'The New Era', 'Android: Netrunner - Das Kartenspiel', 'Kingsburg : Forgez un Royaume', \"Through The Ages : L'Histoire vous appartient\"]\n",
      "Recommendations for user momov: ['Le Seigneur des Anneaux : Les Forces des Ténèbres', 'Formule Dé : Zanvoort 2 & Spa-Francorchamps', 'Primordial Soup', 'Tichu', 'Les Aventuriers du Rail']\n",
      "Recommendations for user samuel2277: ['Battlestar Galactica', 'Cyclades', 'Troyes', 'Niagara : Flussgeister am Niagara', 'Hive Pocket']\n",
      "Recommendations for user Radikalkiwi: ['Top Ten', 'Unlock! Timeless Adventures', 'Queendomino Version Géante', 'The 7th Continent', 'Perudo']\n",
      "Recommendations for user lilounette: ['Hop ! Hop ! Galopons !', 'Battle sheep', 'Perlinpinpin', 'Potion Explosion', 'Zombie Kidz Évolution']\n",
      "Recommendations for user damalock: ['Space Hulk', 'El Grande - Edicion 20e Aniversario', 'Citadelles : quatrième édition', 'San Marco', 'Carolus Magnus']\n",
      "Recommendations for user mamamia: ['Agricola', 'Keyflower', 'Goa', 'Myrmes', 'Tribun']\n",
      "Recommendations for user Debievernet: ['Pandemic Legacy Saison 1', 'Abyss Kraken', 'Citadelles : quatrième édition', 'Hive Pocket', 'Nippon']\n"
     ]
    }
   ],
   "source": [
    "# Print the recommended items for the first couple of users\n",
    "first_couple_users = list(top_n.keys())[:10]  # Adjust the number to select the first N users\n",
    "\n",
    "for uid in first_couple_users:\n",
    "    user_ratings = top_n[uid]\n",
    "    print(f\"Recommendations for user {uid}: {[iid for (iid, _) in user_ratings]}\")"
   ]
  },
  {
   "cell_type": "code",
   "execution_count": 8,
   "metadata": {},
   "outputs": [
    {
     "name": "stdout",
     "output_type": "stream",
     "text": [
      "[(\"Through The Ages : L'Histoire vous appartient\", 8.842401531762135), ('Le Seigneur des Anneaux : Les Forces des Ténèbres', 8.78823277454045), ('Richard Cœur de Lion', 8.682561877696372), ('Space Hulk', 8.573064860325767), ('Medina', 8.564822051796867)]\n"
     ]
    }
   ],
   "source": [
    "print(top_n[\"Pac\"])"
   ]
  }
 ],
 "metadata": {
  "kernelspec": {
   "display_name": "base",
   "language": "python",
   "name": "python3"
  },
  "language_info": {
   "codemirror_mode": {
    "name": "ipython",
    "version": 3
   },
   "file_extension": ".py",
   "mimetype": "text/x-python",
   "name": "python",
   "nbconvert_exporter": "python",
   "pygments_lexer": "ipython3",
   "version": "3.9.18"
  },
  "orig_nbformat": 4
 },
 "nbformat": 4,
 "nbformat_minor": 2
}
