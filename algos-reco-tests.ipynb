{
 "cells": [
  {
   "cell_type": "markdown",
   "metadata": {},
   "source": [
    "# ALGOS DE RECO #"
   ]
  },
  {
   "cell_type": "code",
   "execution_count": 60,
   "metadata": {},
   "outputs": [],
   "source": [
    "# on importe les differentes librairies\n",
    "import pandas as pd\n",
    "import seaborn as sns\n",
    "import matplotlib.pyplot as plt\n",
    "import numpy as np\n",
    "from scipy.sparse import csr_matrix\n",
    "\n",
    "# on importe les différentes librairies surprise de scikit\n",
    "from surprise import SVD\n",
    "from surprise import dataset\n",
    "from surprise import Reader\n",
    "from surprise.model_selection import cross_validate\n",
    "from surprise.prediction_algorithms.knns import KNNBasic, KNNWithMeans\n",
    "\n",
    "# on importe notre bdd\n",
    "avis = pd.read_csv(\"BDD/avis.csv\", index_col=\"Unnamed: 0\")\n",
    "jeux = pd.read_csv(\"BDD/jeux.csv\", index_col=\"Unnamed: 0\")"
   ]
  },
  {
   "cell_type": "code",
   "execution_count": 29,
   "metadata": {},
   "outputs": [
    {
     "data": {
      "text/html": [
       "<div>\n",
       "<style scoped>\n",
       "    .dataframe tbody tr th:only-of-type {\n",
       "        vertical-align: middle;\n",
       "    }\n",
       "\n",
       "    .dataframe tbody tr th {\n",
       "        vertical-align: top;\n",
       "    }\n",
       "\n",
       "    .dataframe thead th {\n",
       "        text-align: right;\n",
       "    }\n",
       "</style>\n",
       "<table border=\"1\" class=\"dataframe\">\n",
       "  <thead>\n",
       "    <tr style=\"text-align: right;\">\n",
       "      <th></th>\n",
       "      <th>titre</th>\n",
       "      <th>categories</th>\n",
       "      <th>description</th>\n",
       "      <th>full_title</th>\n",
       "      <th>Note</th>\n",
       "      <th>Nombre d'avis</th>\n",
       "    </tr>\n",
       "  </thead>\n",
       "  <tbody>\n",
       "    <tr>\n",
       "      <th>0</th>\n",
       "      <td>Marvel United</td>\n",
       "      <td>NaN</td>\n",
       "      <td>\\n                      Marvel United : Unis c...</td>\n",
       "      <td>Marvel United (2020)</td>\n",
       "      <td>7.615385</td>\n",
       "      <td>13</td>\n",
       "    </tr>\n",
       "  </tbody>\n",
       "</table>\n",
       "</div>"
      ],
      "text/plain": [
       "           titre categories  \\\n",
       "0  Marvel United        NaN   \n",
       "\n",
       "                                         description            full_title  \\\n",
       "0  \\n                      Marvel United : Unis c...  Marvel United (2020)   \n",
       "\n",
       "       Note  Nombre d'avis  \n",
       "0  7.615385             13  "
      ]
     },
     "execution_count": 29,
     "metadata": {},
     "output_type": "execute_result"
    }
   ],
   "source": [
    "jeux.head(1)"
   ]
  },
  {
   "cell_type": "code",
   "execution_count": 30,
   "metadata": {},
   "outputs": [
    {
     "data": {
      "text/html": [
       "<div>\n",
       "<style scoped>\n",
       "    .dataframe tbody tr th:only-of-type {\n",
       "        vertical-align: middle;\n",
       "    }\n",
       "\n",
       "    .dataframe tbody tr th {\n",
       "        vertical-align: top;\n",
       "    }\n",
       "\n",
       "    .dataframe thead th {\n",
       "        text-align: right;\n",
       "    }\n",
       "</style>\n",
       "<table border=\"1\" class=\"dataframe\">\n",
       "  <thead>\n",
       "    <tr style=\"text-align: right;\">\n",
       "      <th></th>\n",
       "      <th>author</th>\n",
       "      <th>title_review</th>\n",
       "      <th>note</th>\n",
       "      <th>title</th>\n",
       "      <th>comment</th>\n",
       "    </tr>\n",
       "  </thead>\n",
       "  <tbody>\n",
       "    <tr>\n",
       "      <th>0</th>\n",
       "      <td>Monsieur Guillaume</td>\n",
       "      <td>Voyages sur les ailes des papillons</td>\n",
       "      <td>8</td>\n",
       "      <td>Mariposas</td>\n",
       "      <td>Lorsque le jeu est jeu, bon, réflexif, joli po...</td>\n",
       "    </tr>\n",
       "  </tbody>\n",
       "</table>\n",
       "</div>"
      ],
      "text/plain": [
       "               author                         title_review  note      title  \\\n",
       "0  Monsieur Guillaume  Voyages sur les ailes des papillons     8  Mariposas   \n",
       "\n",
       "                                             comment  \n",
       "0  Lorsque le jeu est jeu, bon, réflexif, joli po...  "
      ]
     },
     "execution_count": 30,
     "metadata": {},
     "output_type": "execute_result"
    }
   ],
   "source": [
    "avis.head(1)"
   ]
  },
  {
   "cell_type": "code",
   "execution_count": 72,
   "metadata": {},
   "outputs": [
    {
     "name": "stdout",
     "output_type": "stream",
     "text": [
      "Il y'a 2459 auteurs et 3337 jeux\n",
      "Notre matrice a une sparsité de 1.44% \n"
     ]
    },
    {
     "data": {
      "text/plain": [
       "<1x118107 sparse matrix of type '<class 'numpy.int64'>'\n",
       "\twith 117772 stored elements in Compressed Sparse Row format>"
      ]
     },
     "execution_count": 72,
     "metadata": {},
     "output_type": "execute_result"
    }
   ],
   "source": [
    "num_users  = avis[\"author\"].nunique()\n",
    "num_items  = avis[\"title\"].nunique()\n",
    "\n",
    "print(f\"Il y'a {num_users} auteurs et {num_items} jeux\")\n",
    "\n",
    "sparsity = (len(avis) / (num_users*num_items))*100\n",
    "print(f\"Notre matrice a une sparsité de {sparsity:.2f}% \")\n",
    "\n",
    "matrice_sparse = csr_matrix(avis['note'])\n",
    "matrice_sparse\n",
    "\n"
   ]
  },
  {
   "cell_type": "markdown",
   "metadata": {},
   "source": [
    "## SVD ##"
   ]
  },
  {
   "cell_type": "code",
   "execution_count": 75,
   "metadata": {},
   "outputs": [
    {
     "name": "stdout",
     "output_type": "stream",
     "text": [
      "Evaluating RMSE, MAE of algorithm SVD on 5 split(s).\n",
      "\n",
      "                  Fold 1  Fold 2  Fold 3  Fold 4  Fold 5  Mean    Std     \n",
      "RMSE (testset)    1.8719  1.8634  1.8485  1.8654  1.8588  1.8616  0.0078  \n",
      "MAE (testset)     1.4323  1.4293  1.4209  1.4381  1.4276  1.4297  0.0056  \n",
      "Fit time          0.79    0.77    0.73    0.78    0.82    0.78    0.03    \n",
      "Test time         0.07    0.07    0.07    0.08    0.08    0.07    0.00    \n"
     ]
    },
    {
     "data": {
      "text/plain": [
       "{'test_rmse': array([1.8718834 , 1.86339389, 1.84850026, 1.86538011, 1.85877392]),\n",
       " 'test_mae': array([1.4323081 , 1.42934727, 1.42094964, 1.43814575, 1.4276176 ]),\n",
       " 'fit_time': (0.7942562103271484,\n",
       "  0.7691311836242676,\n",
       "  0.734872579574585,\n",
       "  0.782677173614502,\n",
       "  0.8249273300170898),\n",
       " 'test_time': (0.07341575622558594,\n",
       "  0.07102680206298828,\n",
       "  0.06951332092285156,\n",
       "  0.08241033554077148,\n",
       "  0.07611227035522461)}"
      ]
     },
     "execution_count": 75,
     "metadata": {},
     "output_type": "execute_result"
    }
   ],
   "source": [
    "algo = SVD()\n",
    "\n",
    "reader = Reader(line_format='user item rating', rating_scale=(0,10))\n",
    "\n",
    "class MyDataset(dataset.DatasetAutoFolds):\n",
    "\n",
    "    def __init__(self, jeux, reader):\n",
    "\n",
    "        self.raw_ratings = [(uid, iid, r, None) for (uid, iid, r) in\n",
    "                            zip(avis['author'], avis['title'], avis['note'])]\n",
    "        self.reader=reader\n",
    "\n",
    "data = MyDataset(jeux, reader)\n",
    "cross_validate(algo, data, measures=['RMSE', 'MAE'], cv=5, verbose=True)"
   ]
  },
  {
   "cell_type": "markdown",
   "metadata": {},
   "source": [
    "## k-NN ##"
   ]
  },
  {
   "cell_type": "code",
   "execution_count": 76,
   "metadata": {},
   "outputs": [
    {
     "name": "stdout",
     "output_type": "stream",
     "text": [
      "Computing the msd similarity matrix...\n",
      "Done computing similarity matrix.\n",
      "Computing the msd similarity matrix...\n",
      "Done computing similarity matrix.\n",
      "Computing the msd similarity matrix...\n",
      "Done computing similarity matrix.\n",
      "Computing the msd similarity matrix...\n",
      "Done computing similarity matrix.\n",
      "Computing the msd similarity matrix...\n",
      "Done computing similarity matrix.\n",
      "Evaluating RMSE, MAE of algorithm KNNBasic on 5 split(s).\n",
      "\n",
      "                  Fold 1  Fold 2  Fold 3  Fold 4  Fold 5  Mean    Std     \n",
      "RMSE (testset)    1.9141  1.8932  1.9018  1.9253  1.9285  1.9126  0.0135  \n",
      "MAE (testset)     1.4839  1.4695  1.4721  1.4881  1.4952  1.4818  0.0097  \n",
      "Fit time          0.39    0.39    0.39    0.39    0.39    0.39    0.00    \n",
      "Test time         0.95    1.05    0.91    0.91    0.92    0.95    0.05    \n"
     ]
    },
    {
     "data": {
      "text/plain": [
       "{'test_rmse': array([1.91406615, 1.89318446, 1.90181797, 1.9252659 , 1.92847951]),\n",
       " 'test_mae': array([1.483927  , 1.46954655, 1.47214029, 1.48808983, 1.49517182]),\n",
       " 'fit_time': (0.38590312004089355,\n",
       "  0.3878962993621826,\n",
       "  0.3915421962738037,\n",
       "  0.3913722038269043,\n",
       "  0.39187026023864746),\n",
       " 'test_time': (0.9506194591522217,\n",
       "  1.0524318218231201,\n",
       "  0.9143631458282471,\n",
       "  0.9110374450683594,\n",
       "  0.9218132495880127)}"
      ]
     },
     "execution_count": 76,
     "metadata": {},
     "output_type": "execute_result"
    }
   ],
   "source": [
    "algo = KNNBasic()\n",
    "\n",
    "reader = Reader(line_format='user item rating', rating_scale=(0,10))\n",
    "\n",
    "class MyDataset(dataset.DatasetAutoFolds):\n",
    "\n",
    "    def __init__(self, jeux, reader):\n",
    "\n",
    "        self.raw_ratings = [(uid, iid, r, None) for (uid, iid, r) in\n",
    "                            zip(avis['author'], avis['title'], avis['note'])]\n",
    "        self.reader=reader\n",
    "\n",
    "data = MyDataset(jeux, reader)\n",
    "cross_validate(algo, data, measures=['RMSE', 'MAE'], cv=5, verbose=True)"
   ]
  },
  {
   "cell_type": "code",
   "execution_count": null,
   "metadata": {},
   "outputs": [],
   "source": []
  }
 ],
 "metadata": {
  "kernelspec": {
   "display_name": "Python 3",
   "language": "python",
   "name": "python3"
  },
  "language_info": {
   "codemirror_mode": {
    "name": "ipython",
    "version": 3
   },
   "file_extension": ".py",
   "mimetype": "text/x-python",
   "name": "python",
   "nbconvert_exporter": "python",
   "pygments_lexer": "ipython3",
   "version": "3.11.8"
  }
 },
 "nbformat": 4,
 "nbformat_minor": 2
}
