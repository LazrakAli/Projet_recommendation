{
 "cells": [
  {
   "cell_type": "markdown",
   "metadata": {},
   "source": [
    "# ALGOS DE RECO #"
   ]
  },
  {
   "cell_type": "code",
   "execution_count": 38,
   "metadata": {},
   "outputs": [],
   "source": [
    "# on importe les differentes librairies\n",
    "import pandas as pd\n",
    "import seaborn as sns\n",
    "import matplotlib.pyplot as plt\n",
    "import numpy as np\n",
    "from scipy.sparse import csr_matrix\n",
    "from scipy import stats\n",
    "\n",
    "# on importe les différentes librairies surprise de scikit\n",
    "from surprise import SVD\n",
    "from surprise import dataset\n",
    "from surprise import Reader\n",
    "from surprise.model_selection import GridSearchCV\n",
    "from surprise.model_selection import cross_validate\n",
    "from surprise.prediction_algorithms.knns import KNNBasic, KNNWithMeans\n",
    "\n",
    "# on importe notre fonction de tri\n",
    "from tri_threshold import filter_reviews\n",
    "\n",
    "# on importe notre bdd\n",
    "avis = pd.read_csv(\"BDD/avis.csv\", index_col=\"Unnamed: 0\")\n",
    "avis_norm = pd.read_csv(\"BDD/avis_norm.csv\")"
   ]
  },
  {
   "cell_type": "code",
   "execution_count": 3,
   "metadata": {},
   "outputs": [
    {
     "data": {
      "text/html": [
       "<div>\n",
       "<style scoped>\n",
       "    .dataframe tbody tr th:only-of-type {\n",
       "        vertical-align: middle;\n",
       "    }\n",
       "\n",
       "    .dataframe tbody tr th {\n",
       "        vertical-align: top;\n",
       "    }\n",
       "\n",
       "    .dataframe thead th {\n",
       "        text-align: right;\n",
       "    }\n",
       "</style>\n",
       "<table border=\"1\" class=\"dataframe\">\n",
       "  <thead>\n",
       "    <tr style=\"text-align: right;\">\n",
       "      <th></th>\n",
       "      <th>author</th>\n",
       "      <th>date_published</th>\n",
       "      <th>title_review</th>\n",
       "      <th>note</th>\n",
       "      <th>title</th>\n",
       "      <th>url</th>\n",
       "      <th>comment</th>\n",
       "    </tr>\n",
       "  </thead>\n",
       "  <tbody>\n",
       "    <tr>\n",
       "      <th>0</th>\n",
       "      <td>Monsieur Guillaume</td>\n",
       "      <td>2021-01</td>\n",
       "      <td>Voyages sur les ailes des papillons</td>\n",
       "      <td>8</td>\n",
       "      <td>Mariposas</td>\n",
       "      <td>https://www.trictrac.net/jeu-de-societe/maripo...</td>\n",
       "      <td>Lorsque le jeu est jeu, bon, réflexif, joli po...</td>\n",
       "    </tr>\n",
       "  </tbody>\n",
       "</table>\n",
       "</div>"
      ],
      "text/plain": [
       "               author date_published                         title_review  \\\n",
       "0  Monsieur Guillaume        2021-01  Voyages sur les ailes des papillons   \n",
       "\n",
       "   note      title                                                url  \\\n",
       "0     8  Mariposas  https://www.trictrac.net/jeu-de-societe/maripo...   \n",
       "\n",
       "                                             comment  \n",
       "0  Lorsque le jeu est jeu, bon, réflexif, joli po...  "
      ]
     },
     "execution_count": 3,
     "metadata": {},
     "output_type": "execute_result"
    }
   ],
   "source": [
    "avis.head(1)"
   ]
  },
  {
   "cell_type": "markdown",
   "metadata": {},
   "source": [
    "Il faut mettre en place la matrice sparse (calculer la sparsité + plot cette sparsite)"
   ]
  },
  {
   "cell_type": "code",
   "execution_count": 79,
   "metadata": {},
   "outputs": [
    {
     "name": "stdout",
     "output_type": "stream",
     "text": [
      "Il y'a 2459 auteurs et 3337 jeux\n",
      "Notre matrice a une sparsité de 1.44% \n"
     ]
    },
    {
     "data": {
      "text/plain": [
       "<1x118107 sparse matrix of type '<class 'numpy.int64'>'\n",
       "\twith 117772 stored elements in Compressed Sparse Row format>"
      ]
     },
     "execution_count": 79,
     "metadata": {},
     "output_type": "execute_result"
    }
   ],
   "source": [
    "num_users  = avis[\"author\"].nunique()\n",
    "num_items  = avis[\"title\"].nunique()\n",
    "\n",
    "print(f\"Il y'a {num_users} auteurs et {num_items} jeux\")\n",
    "\n",
    "sparsity = (len(avis) / (num_users*num_items))*100\n",
    "print(f\"Notre matrice a une sparsité de {sparsity:.2f}% \")\n",
    "\n",
    "matrice_sparse = csr_matrix(avis['note'])\n",
    "matrice_sparse\n",
    "\n"
   ]
  },
  {
   "cell_type": "markdown",
   "metadata": {},
   "source": [
    "On test maintenant les differents algos (SVD + KNN pour commencer)"
   ]
  },
  {
   "cell_type": "markdown",
   "metadata": {},
   "source": [
    "## SVD ##"
   ]
  },
  {
   "cell_type": "code",
   "execution_count": 34,
   "metadata": {},
   "outputs": [
    {
     "name": "stdout",
     "output_type": "stream",
     "text": [
      "Evaluating RMSE, MAE of algorithm SVD on 5 split(s).\n",
      "\n",
      "                  Fold 1  Fold 2  Fold 3  Fold 4  Fold 5  Mean    Std     \n",
      "RMSE (testset)    1.8357  1.8436  1.8322  1.8225  1.8354  1.8339  0.0068  \n",
      "MAE (testset)     1.4094  1.4119  1.4052  1.4052  1.4117  1.4087  0.0030  \n",
      "Fit time          0.80    0.76    0.73    0.72    0.74    0.75    0.03    \n",
      "Test time         0.14    0.12    0.24    0.12    0.12    0.15    0.05    \n"
     ]
    },
    {
     "data": {
      "text/plain": [
       "{'test_rmse': array([1.83565491, 1.84359888, 1.83219208, 1.82252249, 1.83537106]),\n",
       " 'test_mae': array([1.40940921, 1.41192308, 1.40521954, 1.40516334, 1.41170408]),\n",
       " 'fit_time': (0.7972726821899414,\n",
       "  0.7590610980987549,\n",
       "  0.7279651165008545,\n",
       "  0.7210249900817871,\n",
       "  0.741337776184082),\n",
       " 'test_time': (0.13532304763793945,\n",
       "  0.1205759048461914,\n",
       "  0.2422800064086914,\n",
       "  0.1186528205871582,\n",
       "  0.11806201934814453)}"
      ]
     },
     "execution_count": 34,
     "metadata": {},
     "output_type": "execute_result"
    }
   ],
   "source": [
    "algo = SVD(n_factors=50,n_epochs=20,lr_all=0.005,reg_all=0.05)\n",
    "\n",
    "reader = Reader(line_format='user item rating', rating_scale=(0,10))\n",
    "\n",
    "class MyDataset(dataset.DatasetAutoFolds):\n",
    "    def __init__(self, df, reader):\n",
    "        self.raw_ratings = [(uid, iid, r, None) for (uid, iid, r) in\n",
    "                            zip(df['author'], df['title'], df['note'])]\n",
    "        self.reader = reader\n",
    "\n",
    "\n",
    "data_test = MyDataset(avis, reader)\n",
    "cross_validate(algo, data_test, measures=['RMSE', 'MAE'], cv=5, verbose=True)"
   ]
  },
  {
   "cell_type": "code",
   "execution_count": 5,
   "metadata": {},
   "outputs": [
    {
     "name": "stdout",
     "output_type": "stream",
     "text": [
      "Evaluating RMSE, MAE of algorithm SVD on 5 split(s).\n",
      "\n",
      "                  Fold 1  Fold 2  Fold 3  Fold 4  Fold 5  Mean    Std     \n",
      "RMSE (testset)    0.1924  0.1936  0.1936  0.1940  0.1936  0.1934  0.0005  \n",
      "MAE (testset)     0.1489  0.1494  0.1501  0.1499  0.1499  0.1496  0.0004  \n",
      "Fit time          1.29    1.18    1.28    1.13    1.13    1.20    0.07    \n",
      "Test time         0.15    0.13    0.23    0.12    0.22    0.17    0.05    \n"
     ]
    },
    {
     "data": {
      "text/plain": [
       "{'test_rmse': array([0.19243127, 0.19357872, 0.19358855, 0.19400189, 0.19355009]),\n",
       " 'test_mae': array([0.14887866, 0.14936135, 0.15006491, 0.14994892, 0.14985967]),\n",
       " 'fit_time': (1.287646770477295,\n",
       "  1.1836957931518555,\n",
       "  1.282294750213623,\n",
       "  1.1305840015411377,\n",
       "  1.1334259510040283),\n",
       " 'test_time': (0.14888310432434082,\n",
       "  0.13055419921875,\n",
       "  0.23337507247924805,\n",
       "  0.12401986122131348,\n",
       "  0.22162699699401855)}"
      ]
     },
     "execution_count": 5,
     "metadata": {},
     "output_type": "execute_result"
    }
   ],
   "source": [
    "# Define the Reader object specifying the rating scale\n",
    "reader = Reader(line_format='user item rating', rating_scale=(0,1))\n",
    "\n",
    "# Custom Dataset class to load our dataset\n",
    "class MyDataset(dataset.DatasetAutoFolds):\n",
    "    def __init__(self, df, reader):\n",
    "        self.raw_ratings = [(uid, iid, r, None) for (uid, iid, r) in\n",
    "                            zip(df['author'], df['title'], df['note'])]\n",
    "        self.reader = reader\n",
    "\n",
    "# Instantiate the dataset with your data\n",
    "data = MyDataset(avis_norm, reader)\n",
    "\n",
    "# Initialize the SVD algorithm\n",
    "algo = SVD()\n",
    "\n",
    "# Perform cross-validation\n",
    "cross_validate(algo, data, measures=['RMSE', 'MAE'], cv=5, verbose=True)\n"
   ]
  },
  {
   "cell_type": "code",
   "execution_count": 23,
   "metadata": {},
   "outputs": [],
   "source": [
    "# Assuming 'avis' is your DataFrame and you're analyzing the 'note' column for outliers\n",
    "z_scores = stats.zscore(avis['note'])\n",
    "abs_z_scores = abs(z_scores)\n",
    "filtered_entries = (abs_z_scores < 2)  # Adjust the threshold as necessary\n",
    "cleaned_data = avis[filtered_entries]"
   ]
  },
  {
   "cell_type": "code",
   "execution_count": 36,
   "metadata": {},
   "outputs": [
    {
     "name": "stdout",
     "output_type": "stream",
     "text": [
      "Evaluating RMSE, MAE of algorithm SVD on 5 split(s).\n",
      "\n",
      "                  Fold 1  Fold 2  Fold 3  Fold 4  Fold 5  Mean    Std     \n",
      "RMSE (testset)    1.5358  1.5511  1.5466  1.5423  1.5585  1.5469  0.0077  \n",
      "MAE (testset)     1.2186  1.2389  1.2309  1.2282  1.2420  1.2317  0.0083  \n",
      "Fit time          0.79    0.78    0.85    0.76    0.77    0.79    0.03    \n",
      "Test time         0.12    0.23    0.12    0.22    0.12    0.16    0.05    \n"
     ]
    },
    {
     "data": {
      "text/plain": [
       "{'test_rmse': array([1.53583739, 1.55111713, 1.54655354, 1.54229144, 1.55852338]),\n",
       " 'test_mae': array([1.21862773, 1.23891788, 1.23088559, 1.22815876, 1.24196016]),\n",
       " 'fit_time': (0.7898938655853271,\n",
       "  0.7755639553070068,\n",
       "  0.8460330963134766,\n",
       "  0.7645361423492432,\n",
       "  0.7690260410308838),\n",
       " 'test_time': (0.12297272682189941,\n",
       "  0.22511911392211914,\n",
       "  0.12236738204956055,\n",
       "  0.22308707237243652,\n",
       "  0.11952781677246094)}"
      ]
     },
     "execution_count": 36,
     "metadata": {},
     "output_type": "execute_result"
    }
   ],
   "source": [
    "# Define the Reader object specifying the rating scale\n",
    "reader = Reader(line_format='user item rating', rating_scale=(0,10))\n",
    "\n",
    "# Custom Dataset class to load our dataset\n",
    "class MyDataset(dataset.DatasetAutoFolds):\n",
    "    def __init__(self, df, reader):\n",
    "        self.raw_ratings = [(uid, iid, r, None) for (uid, iid, r) in\n",
    "                            zip(df['author'], df['title'], df['note'])]\n",
    "        self.reader = reader\n",
    "\n",
    "# Instantiate the dataset with your data\n",
    "data_clean = MyDataset(cleaned_data, reader)\n",
    "\n",
    "# Initialize the SVD algorithm\n",
    "algo = SVD(n_factors=20,n_epochs=30,lr_all=0.005,reg_all=0.2)\n",
    "\n",
    "# Perform cross-validation\n",
    "cross_validate(algo, data_clean, measures=['RMSE', 'MAE'], cv=5, verbose=True)\n"
   ]
  },
  {
   "cell_type": "code",
   "execution_count": 33,
   "metadata": {},
   "outputs": [
    {
     "name": "stdout",
     "output_type": "stream",
     "text": [
      "1.8351725410783521\n",
      "{'n_factors': 50, 'n_epochs': 20, 'lr_all': 0.005, 'reg_all': 0.05}\n"
     ]
    }
   ],
   "source": [
    "# Define the parameter grid\n",
    "param_grid = {\n",
    "    'n_factors': [50, 100, 150],  # Number of factors\n",
    "    'n_epochs': [20, 30],         # Number of iterations\n",
    "    'lr_all': [0.005, 0.01],      # Learning rate\n",
    "    'reg_all': [0.02, 0.05]       # Regularization term\n",
    "}\n",
    "\n",
    "# Setup GridSearchCV\n",
    "gs = GridSearchCV(SVD, param_grid, measures=['rmse', 'mae'], cv=3)\n",
    "\n",
    "# Fit GridSearchCV\n",
    "gs.fit(data_test)\n",
    "\n",
    "# Best RMSE score\n",
    "print(gs.best_score['rmse'])\n",
    "\n",
    "# Combination of parameters that gave the best RMSE score\n",
    "print(gs.best_params['rmse'])\n"
   ]
  },
  {
   "cell_type": "code",
   "execution_count": 35,
   "metadata": {},
   "outputs": [
    {
     "name": "stdout",
     "output_type": "stream",
     "text": [
      "1.5532953164878684\n",
      "{'n_factors': 20, 'n_epochs': 30, 'lr_all': 0.005, 'reg_all': 0.2, 'biased': True}\n"
     ]
    }
   ],
   "source": [
    "param_grid = {\n",
    "    'n_factors': [20, 50, 100, 150, 200],  # More options for the number of factors\n",
    "    'n_epochs': [5, 10, 20, 30, 50],       # Broader range of iterations\n",
    "    'lr_all': [0.002, 0.005, 0.01, 0.02],  # Wider range of learning rates\n",
    "    'reg_all': [0.02, 0.05, 0.1, 0.2],     # Wider range of regularization terms\n",
    "    'biased': [True, False],               # Whether to use baseline factors or not\n",
    "}\n",
    "\n",
    "# Setup GridSearchCV\n",
    "gs = GridSearchCV(SVD, param_grid, measures=['rmse', 'mae'], cv=3)\n",
    "\n",
    "# Fit GridSearchCV\n",
    "gs.fit(data_clean)\n",
    "\n",
    "# Best RMSE score\n",
    "print(gs.best_score['rmse'])\n",
    "\n",
    "# Combination of parameters that gave the best RMSE score\n",
    "print(gs.best_params['rmse'])"
   ]
  },
  {
   "cell_type": "code",
   "execution_count": 41,
   "metadata": {},
   "outputs": [],
   "source": [
    "cleaned_data_processed = filter_reviews(cleaned_data)"
   ]
  },
  {
   "cell_type": "code",
   "execution_count": 42,
   "metadata": {},
   "outputs": [
    {
     "data": {
      "text/html": [
       "<div>\n",
       "<style scoped>\n",
       "    .dataframe tbody tr th:only-of-type {\n",
       "        vertical-align: middle;\n",
       "    }\n",
       "\n",
       "    .dataframe tbody tr th {\n",
       "        vertical-align: top;\n",
       "    }\n",
       "\n",
       "    .dataframe thead th {\n",
       "        text-align: right;\n",
       "    }\n",
       "</style>\n",
       "<table border=\"1\" class=\"dataframe\">\n",
       "  <thead>\n",
       "    <tr style=\"text-align: right;\">\n",
       "      <th></th>\n",
       "      <th>note</th>\n",
       "    </tr>\n",
       "  </thead>\n",
       "  <tbody>\n",
       "    <tr>\n",
       "      <th>count</th>\n",
       "      <td>117680.000000</td>\n",
       "    </tr>\n",
       "    <tr>\n",
       "      <th>mean</th>\n",
       "      <td>7.587483</td>\n",
       "    </tr>\n",
       "    <tr>\n",
       "      <th>std</th>\n",
       "      <td>1.792083</td>\n",
       "    </tr>\n",
       "    <tr>\n",
       "      <th>min</th>\n",
       "      <td>4.000000</td>\n",
       "    </tr>\n",
       "    <tr>\n",
       "      <th>25%</th>\n",
       "      <td>6.000000</td>\n",
       "    </tr>\n",
       "    <tr>\n",
       "      <th>50%</th>\n",
       "      <td>8.000000</td>\n",
       "    </tr>\n",
       "    <tr>\n",
       "      <th>75%</th>\n",
       "      <td>9.000000</td>\n",
       "    </tr>\n",
       "    <tr>\n",
       "      <th>max</th>\n",
       "      <td>10.000000</td>\n",
       "    </tr>\n",
       "  </tbody>\n",
       "</table>\n",
       "</div>"
      ],
      "text/plain": [
       "                note\n",
       "count  117680.000000\n",
       "mean        7.587483\n",
       "std         1.792083\n",
       "min         4.000000\n",
       "25%         6.000000\n",
       "50%         8.000000\n",
       "75%         9.000000\n",
       "max        10.000000"
      ]
     },
     "execution_count": 42,
     "metadata": {},
     "output_type": "execute_result"
    }
   ],
   "source": [
    "cleaned_data_processed.describe()"
   ]
  },
  {
   "cell_type": "code",
   "execution_count": 43,
   "metadata": {},
   "outputs": [
    {
     "name": "stdout",
     "output_type": "stream",
     "text": [
      "Evaluating RMSE, MAE of algorithm SVD on 5 split(s).\n",
      "\n",
      "                  Fold 1  Fold 2  Fold 3  Fold 4  Fold 5  Mean    Std     \n",
      "RMSE (testset)    1.5379  1.5478  1.5563  1.5368  1.5405  1.5439  0.0073  \n",
      "MAE (testset)     1.2238  1.2321  1.2406  1.2248  1.2233  1.2289  0.0067  \n",
      "Fit time          0.81    0.79    0.81    0.80    0.82    0.81    0.01    \n",
      "Test time         0.11    0.41    0.11    0.11    0.11    0.17    0.12    \n"
     ]
    },
    {
     "data": {
      "text/plain": [
       "{'test_rmse': array([1.53794386, 1.54783974, 1.55625567, 1.53678063, 1.54054518]),\n",
       " 'test_mae': array([1.22382164, 1.23211835, 1.240613  , 1.22479521, 1.22327498]),\n",
       " 'fit_time': (0.806251049041748,\n",
       "  0.7937178611755371,\n",
       "  0.8136401176452637,\n",
       "  0.80082106590271,\n",
       "  0.8179540634155273),\n",
       " 'test_time': (0.11278700828552246,\n",
       "  0.41478991508483887,\n",
       "  0.10965609550476074,\n",
       "  0.10850787162780762,\n",
       "  0.10822772979736328)}"
      ]
     },
     "execution_count": 43,
     "metadata": {},
     "output_type": "execute_result"
    }
   ],
   "source": [
    "# Define the Reader object specifying the rating scale\n",
    "reader = Reader(line_format='user item rating', rating_scale=(0,10))\n",
    "\n",
    "# Custom Dataset class to load our dataset\n",
    "class MyDataset(dataset.DatasetAutoFolds):\n",
    "    def __init__(self, df, reader):\n",
    "        self.raw_ratings = [(uid, iid, r, None) for (uid, iid, r) in\n",
    "                            zip(df['author'], df['title'], df['note'])]\n",
    "        self.reader = reader\n",
    "\n",
    "# Instantiate the dataset with your data\n",
    "data_clean_proc = MyDataset(cleaned_data_processed, reader)\n",
    "\n",
    "# Initialize the SVD algorithm\n",
    "algo = SVD(n_factors=20,n_epochs=30,lr_all=0.005,reg_all=0.2)\n",
    "\n",
    "# Perform cross-validation\n",
    "cross_validate(algo, data_clean_proc, measures=['RMSE', 'MAE'], cv=5, verbose=True)\n"
   ]
  },
  {
   "cell_type": "markdown",
   "metadata": {},
   "source": [
    "## k-NN ##"
   ]
  },
  {
   "cell_type": "code",
   "execution_count": 81,
   "metadata": {},
   "outputs": [
    {
     "name": "stdout",
     "output_type": "stream",
     "text": [
      "Computing the msd similarity matrix...\n",
      "Done computing similarity matrix.\n",
      "Computing the msd similarity matrix...\n",
      "Done computing similarity matrix.\n",
      "Computing the msd similarity matrix...\n",
      "Done computing similarity matrix.\n",
      "Computing the msd similarity matrix...\n",
      "Done computing similarity matrix.\n",
      "Computing the msd similarity matrix...\n",
      "Done computing similarity matrix.\n",
      "Evaluating RMSE, MAE of algorithm KNNBasic on 5 split(s).\n",
      "\n",
      "                  Fold 1  Fold 2  Fold 3  Fold 4  Fold 5  Mean    Std     \n",
      "RMSE (testset)    1.9243  1.8922  1.9211  1.9242  1.8988  1.9121  0.0138  \n",
      "MAE (testset)     1.4846  1.4692  1.4867  1.4951  1.4724  1.4816  0.0095  \n",
      "Fit time          0.39    0.41    0.41    0.42    0.40    0.41    0.01    \n",
      "Test time         0.94    0.95    0.91    0.96    0.90    0.93    0.02    \n"
     ]
    },
    {
     "data": {
      "text/plain": [
       "{'test_rmse': array([1.92429276, 1.89222614, 1.92111249, 1.92417751, 1.89876231]),\n",
       " 'test_mae': array([1.48456234, 1.46921646, 1.48668215, 1.49510341, 1.47237861]),\n",
       " 'fit_time': (0.38838887214660645,\n",
       "  0.41173720359802246,\n",
       "  0.4122331142425537,\n",
       "  0.41510462760925293,\n",
       "  0.40060949325561523),\n",
       " 'test_time': (0.9362239837646484,\n",
       "  0.945655107498169,\n",
       "  0.9128246307373047,\n",
       "  0.9616246223449707,\n",
       "  0.9030351638793945)}"
      ]
     },
     "execution_count": 81,
     "metadata": {},
     "output_type": "execute_result"
    }
   ],
   "source": [
    "algo = KNNBasic()\n",
    "\n",
    "reader = Reader(line_format='user item rating', rating_scale=(0,10))\n",
    "\n",
    "class MyDataset(dataset.DatasetAutoFolds):\n",
    "\n",
    "    def __init__(self, jeux, reader):\n",
    "\n",
    "        self.raw_ratings = [(uid, iid, r, None) for (uid, iid, r) in\n",
    "                            zip(avis['author'], avis['title'], avis['note'])]\n",
    "        self.reader=reader\n",
    "\n",
    "data = MyDataset(jeux, reader)\n",
    "cross_validate(algo, data, measures=['RMSE', 'MAE'], cv=5, verbose=True)"
   ]
  },
  {
   "cell_type": "code",
   "execution_count": null,
   "metadata": {},
   "outputs": [],
   "source": []
  }
 ],
 "metadata": {
  "kernelspec": {
   "display_name": "Python 3",
   "language": "python",
   "name": "python3"
  },
  "language_info": {
   "codemirror_mode": {
    "name": "ipython",
    "version": 3
   },
   "file_extension": ".py",
   "mimetype": "text/x-python",
   "name": "python",
   "nbconvert_exporter": "python",
   "pygments_lexer": "ipython3",
   "version": "3.9.18"
  }
 },
 "nbformat": 4,
 "nbformat_minor": 2
}
