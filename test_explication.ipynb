{
 "cells": [
  {
   "cell_type": "code",
   "execution_count": 27,
   "metadata": {},
   "outputs": [],
   "source": [
    "import pandas as pd"
   ]
  },
  {
   "cell_type": "code",
   "execution_count": 28,
   "metadata": {},
   "outputs": [],
   "source": [
    "data = pd.read_csv(\"BDD/avis_sans_outliers.csv\")"
   ]
  },
  {
   "cell_type": "code",
   "execution_count": 29,
   "metadata": {},
   "outputs": [],
   "source": [
    "# Drop unnecessary columns and handle missing values\n",
    "data_cleaned = data.drop(columns=['Unnamed: 0', 'url', 'title_review', 'date_published'])\n",
    "data_cleaned['comment'] = data_cleaned['comment'].fillna('')  # Fill missing comments"
   ]
  },
  {
   "cell_type": "code",
   "execution_count": 34,
   "metadata": {},
   "outputs": [
    {
     "name": "stdout",
     "output_type": "stream",
     "text": [
      "Computing the cosine similarity matrix...\n",
      "Done computing similarity matrix.\n"
     ]
    }
   ],
   "source": [
    "from surprise import Dataset, Reader, KNNWithZScore\n",
    "from collections import defaultdict\n",
    "\n",
    "# Prepare data for surprise\n",
    "reader = Reader(rating_scale=(1, 10))  # Assuming rating scale is from 1 to 10\n",
    "data_surprise = Dataset.load_from_df(data[['author', 'title', 'note']], reader)\n",
    "\n",
    "# Build full trainset\n",
    "trainset = data_surprise.build_full_trainset()\n",
    "\n",
    "# Initialize KNN with Z-Score algorithm for user-based collaborative filtering\n",
    "algo = KNNWithZScore(sim_options={'name': 'cosine', 'user_based': True}, k=20, min_k=1)\n",
    "algo.fit(trainset)\n",
    "\n",
    "def get_neighbors(user_id, game_title, k=20):\n",
    "    # Retrieve inner ID of the user\n",
    "    user_inner_id = trainset.to_inner_uid(user_id)\n",
    "    \n",
    "    # Retrieve inner ID of the game\n",
    "    try:\n",
    "        game_inner_id = trainset.to_inner_iid(game_title)\n",
    "    except ValueError:\n",
    "        return f\"No data available for the game '{game_title}'.\"\n",
    "    \n",
    "    # Retrieve the k nearest neighbors of the user\n",
    "    neighbors = algo.get_neighbors(user_inner_id, k)\n",
    "    # Convert inner IDs of the neighbors back to raw IDs\n",
    "    neighbors_ids = [trainset.to_raw_uid(inner_id) for inner_id in neighbors]\n",
    "    print(neighbors_ids)\n",
    "    # Filter the dataset to find the neighbors who have rated the specified game\n",
    "    filtered_comments = data[(data['author'].isin(neighbors_ids)) & (data['title'] == game_title)]\n",
    "    \n",
    "    # Collect and return usernames and their comments on the specified game\n",
    "    return filtered_comments[['author', 'comment']].values.tolist()\n"
   ]
  },
  {
   "cell_type": "code",
   "execution_count": 35,
   "metadata": {},
   "outputs": [
    {
     "name": "stdout",
     "output_type": "stream",
     "text": [
      "[317, 318, 322, 421, 456, 590, 748, 916, 1038, 1044, 1086, 1146, 1150, 1266, 1267, 1272, 1275, 1285, 1287, 1346]\n",
      "['Alundra', 'montrem', 'Genseric', 'Crunsk', 'Kiwi_74', 'XanderLeaDaren', 'DuncanIdaho', 'Pyjam', 'GutsOh', 'Syl', 'Golgoth_Be', 'aglaglas', 'Vauxhall', 'gianakin', 'Takumi13', 'LeBouffon', 'metapsy', 'draco', 'florentjfr', 'Zoulex']\n"
     ]
    }
   ],
   "source": [
    "neighbors_comments = get_neighbors('morlockbob', 'Mariposas', k=20)"
   ]
  },
  {
   "cell_type": "code",
   "execution_count": 47,
   "metadata": {},
   "outputs": [],
   "source": [
    "def get_neighbors_who_commented_game(user_id, game_title, k=20):\n",
    "    # Ensure user exists in dataset\n",
    "    try:\n",
    "        user_inner_id = trainset.to_inner_uid(user_id)\n",
    "    except ValueError:\n",
    "        return f\"No data available for user '{user_id}'.\"\n",
    "\n",
    "    # Filter the dataset for users who have commented on the game\n",
    "    game_users = data[data['title'] == game_title]['author'].unique()\n",
    "\n",
    "    # Convert raw user IDs to inner IDs where possible\n",
    "    game_users_inner_ids = [trainset.to_inner_uid(uid) for uid in game_users if trainset.knows_user(uid)]\n",
    "\n",
    "    # Check if there are any valid game user inner IDs\n",
    "    if not game_users_inner_ids:\n",
    "        return \"No neighboring users have commented on this game and are in the trainset.\"\n",
    "\n",
    "    # Get the similarity matrix\n",
    "    user_similarities = algo.compute_similarities()\n",
    "\n",
    "    # Create a list of (similarity, user_id) tuples, ensure we don't compare user to themselves\n",
    "    similarities = [(user_similarities[user_inner_id][inner_id], trainset.to_raw_uid(inner_id))\n",
    "                    for inner_id in game_users_inner_ids if inner_id != user_inner_id]\n",
    "\n",
    "    # Sort based on similarity (higher is more similar)\n",
    "    sorted_similar_neighbors = sorted(similarities, key=lambda x: x[0], reverse=True)[:k]\n",
    "\n",
    "    # If no valid similarities found\n",
    "    if not sorted_similar_neighbors:\n",
    "        return \"No similar users found based on the similarity criteria.\"\n",
    "\n",
    "    # Retrieve the comments from the sorted similar users\n",
    "    neighbors_ids = [uid for _, uid in sorted_similar_neighbors]\n",
    "    filtered_comments = data[(data['author'].isin(neighbors_ids)) & (data['title'] == game_title)]\n",
    "\n",
    "    # Collect and return usernames and their comments on the specified game\n",
    "    return filtered_comments[['author', 'comment']].values.tolist()"
   ]
  },
  {
   "cell_type": "code",
   "execution_count": 51,
   "metadata": {},
   "outputs": [
    {
     "name": "stdout",
     "output_type": "stream",
     "text": [
      "No neighboring users have commented on this game and are in the trainset.\n"
     ]
    }
   ],
   "source": [
    "neighbors_comments = get_neighbors_who_commented_game('morlockbob', 'Trader', k=20)\n",
    "print(neighbors_comments)"
   ]
  },
  {
   "cell_type": "code",
   "execution_count": 33,
   "metadata": {},
   "outputs": [
    {
     "data": {
      "text/html": [
       "<div>\n",
       "<style scoped>\n",
       "    .dataframe tbody tr th:only-of-type {\n",
       "        vertical-align: middle;\n",
       "    }\n",
       "\n",
       "    .dataframe tbody tr th {\n",
       "        vertical-align: top;\n",
       "    }\n",
       "\n",
       "    .dataframe thead th {\n",
       "        text-align: right;\n",
       "    }\n",
       "</style>\n",
       "<table border=\"1\" class=\"dataframe\">\n",
       "  <thead>\n",
       "    <tr style=\"text-align: right;\">\n",
       "      <th></th>\n",
       "      <th>title</th>\n",
       "      <th>comment</th>\n",
       "    </tr>\n",
       "  </thead>\n",
       "  <tbody>\n",
       "    <tr>\n",
       "      <th>1</th>\n",
       "      <td>Mariposas</td>\n",
       "      <td>Comment continuer après un mega hit ? Simpleme...</td>\n",
       "    </tr>\n",
       "    <tr>\n",
       "      <th>25</th>\n",
       "      <td>Mysterium Park</td>\n",
       "      <td>C'est une phrase récurrente que j'entends dans...</td>\n",
       "    </tr>\n",
       "    <tr>\n",
       "      <th>55</th>\n",
       "      <td>Quetzal</td>\n",
       "      <td>Jeu magnifiquement illustré qui donne envie de...</td>\n",
       "    </tr>\n",
       "    <tr>\n",
       "      <th>119</th>\n",
       "      <td>Troyes Dice</td>\n",
       "      <td>Faute de grive on mange du merle. Rééditer Tro...</td>\n",
       "    </tr>\n",
       "    <tr>\n",
       "      <th>206</th>\n",
       "      <td>Harry Potter : Bataille à Poudlard - Défense c...</td>\n",
       "      <td>Jolie boîte au matériel fourni mais, à priori ...</td>\n",
       "    </tr>\n",
       "    <tr>\n",
       "      <th>...</th>\n",
       "      <td>...</td>\n",
       "      <td>...</td>\n",
       "    </tr>\n",
       "    <tr>\n",
       "      <th>116658</th>\n",
       "      <td>Carcassonne: La Ruée vers l'Or</td>\n",
       "      <td>APres \"MArtine au zoo\", \"martine et les gendar...</td>\n",
       "    </tr>\n",
       "    <tr>\n",
       "      <th>116747</th>\n",
       "      <td>Orléans</td>\n",
       "      <td>Passé la laideur de la boîte (je voulais faire...</td>\n",
       "    </tr>\n",
       "    <tr>\n",
       "      <th>116869</th>\n",
       "      <td>Mystic Vale</td>\n",
       "      <td>MV ose l'originalité (quoi que Gloom est déjà ...</td>\n",
       "    </tr>\n",
       "    <tr>\n",
       "      <th>117147</th>\n",
       "      <td>Village</td>\n",
       "      <td>Vu le nombre de commentaires positifs sur ce j...</td>\n",
       "    </tr>\n",
       "    <tr>\n",
       "      <th>117334</th>\n",
       "      <td>Trader</td>\n",
       "      <td>J'ai du voir ce jeu traîner dans un carton pen...</td>\n",
       "    </tr>\n",
       "  </tbody>\n",
       "</table>\n",
       "<p>832 rows × 2 columns</p>\n",
       "</div>"
      ],
      "text/plain": [
       "                                                    title  \\\n",
       "1                                               Mariposas   \n",
       "25                                         Mysterium Park   \n",
       "55                                                Quetzal   \n",
       "119                                           Troyes Dice   \n",
       "206     Harry Potter : Bataille à Poudlard - Défense c...   \n",
       "...                                                   ...   \n",
       "116658                     Carcassonne: La Ruée vers l'Or   \n",
       "116747                                            Orléans   \n",
       "116869                                        Mystic Vale   \n",
       "117147                                            Village   \n",
       "117334                                             Trader   \n",
       "\n",
       "                                                  comment  \n",
       "1       Comment continuer après un mega hit ? Simpleme...  \n",
       "25      C'est une phrase récurrente que j'entends dans...  \n",
       "55      Jeu magnifiquement illustré qui donne envie de...  \n",
       "119     Faute de grive on mange du merle. Rééditer Tro...  \n",
       "206     Jolie boîte au matériel fourni mais, à priori ...  \n",
       "...                                                   ...  \n",
       "116658  APres \"MArtine au zoo\", \"martine et les gendar...  \n",
       "116747  Passé la laideur de la boîte (je voulais faire...  \n",
       "116869  MV ose l'originalité (quoi que Gloom est déjà ...  \n",
       "117147  Vu le nombre de commentaires positifs sur ce j...  \n",
       "117334  J'ai du voir ce jeu traîner dans un carton pen...  \n",
       "\n",
       "[832 rows x 2 columns]"
      ]
     },
     "execution_count": 33,
     "metadata": {},
     "output_type": "execute_result"
    }
   ],
   "source": [
    "data[['title','comment']].loc[data['author']=='morlockbob']"
   ]
  }
 ],
 "metadata": {
  "kernelspec": {
   "display_name": "base",
   "language": "python",
   "name": "python3"
  },
  "language_info": {
   "codemirror_mode": {
    "name": "ipython",
    "version": 3
   },
   "file_extension": ".py",
   "mimetype": "text/x-python",
   "name": "python",
   "nbconvert_exporter": "python",
   "pygments_lexer": "ipython3",
   "version": "3.9.18"
  },
  "orig_nbformat": 4
 },
 "nbformat": 4,
 "nbformat_minor": 2
}
