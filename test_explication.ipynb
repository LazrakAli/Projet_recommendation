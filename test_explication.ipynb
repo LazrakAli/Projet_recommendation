{
 "cells": [
  {
   "cell_type": "code",
   "execution_count": 1,
   "metadata": {},
   "outputs": [],
   "source": [
    "import pandas as pd                        # Importe la bibliothèque pandas et la renomme en pd\n",
    "import spacy                               # Importe la bibliothèque spacy\n",
    "import numpy as np                         # Importe la bibliothèque numpy et la renomme en np\n",
    "import surprise\n",
    "import os\n",
    "from surprise import Dataset, Reader, KNNWithZScore  # Importe les classes Dataset, Reader et KNNWithZScore depuis la bibliothèque surprise\n",
    "from collections import defaultdict       # Importe la classe defaultdict depuis la bibliothèque collections\n",
    "import openai\n",
    "\n",
    "# Préparation des données pour surprise\n",
    "from surprise import Reader, Dataset      # Importe les classes Reader et Dataset depuis la bibliothèque surprise\n",
    "from surprise.prediction_algorithms.knns import KNNWithZScore  # Importe la classe KNNWithZScore depuis le module knns de la bibliothèque surprise\n"
   ]
  },
  {
   "cell_type": "code",
   "execution_count": 2,
   "metadata": {},
   "outputs": [],
   "source": [
    "data = pd.read_csv(\"BDD/avis_sans_outliers.csv\")"
   ]
  },
  {
   "cell_type": "code",
   "execution_count": 3,
   "metadata": {},
   "outputs": [
    {
     "name": "stdout",
     "output_type": "stream",
     "text": [
      "1.26.4\n",
      "1.1.3\n"
     ]
    }
   ],
   "source": [
    "# Drop unnecessary columns and handle missing values\n",
    "data_cleaned = data.drop(columns=['Unnamed: 0', 'url', 'title_review', 'date_published'])\n",
    "data_cleaned['comment'] = data_cleaned['comment'].fillna('')  # Fill missing comments\n",
    "print(np.__version__)\n",
    "print(surprise.__version__)"
   ]
  },
  {
   "cell_type": "code",
   "execution_count": 4,
   "metadata": {},
   "outputs": [
    {
     "name": "stdout",
     "output_type": "stream",
     "text": [
      "Computing the cosine similarity matrix...\n",
      "Done computing similarity matrix.\n"
     ]
    }
   ],
   "source": [
    "from surprise import Dataset, Reader, KNNWithZScore\n",
    "from collections import defaultdict\n",
    "\n",
    "# Prepare data for surprise\n",
    "reader = Reader(rating_scale=(1, 10))  # Assuming rating scale is from 1 to 10\n",
    "data_surprise = Dataset.load_from_df(data_cleaned[['author', 'title', 'note']], reader)\n",
    "\n",
    "# Build full trainset\n",
    "trainset = data_surprise.build_full_trainset()\n",
    "\n",
    "# Initialize KNN with Z-Score algorithm for user-based collaborative filtering\n",
    "algo = KNNWithZScore(sim_options={'name': 'cosine', 'user_based': True}, k=20, min_k=1)\n",
    "algo.fit(trainset)\n",
    "\n",
    "def get_neighbors(user_id, game_title, k=20):\n",
    "    # Retrieve inner ID of the user\n",
    "    user_inner_id = trainset.to_inner_uid(user_id)\n",
    "    \n",
    "    # Retrieve inner ID of the game\n",
    "    try:\n",
    "        game_inner_id = trainset.to_inner_iid(game_title)\n",
    "    except ValueError:\n",
    "        return f\"No data available for the game '{game_title}'.\"\n",
    "    \n",
    "    # Retrieve the k nearest neighbors of the user\n",
    "    neighbors = algo.get_neighbors(user_inner_id, k)\n",
    "    # Convert inner IDs of the neighbors back to raw IDs\n",
    "    neighbors_ids = [trainset.to_raw_uid(inner_id) for inner_id in neighbors]\n",
    "    print(neighbors_ids)\n",
    "    # Filter the dataset to find the neighbors who have rated the specified game\n",
    "    filtered_comments = data_cleaned[(data_cleaned['author'].isin(neighbors_ids)) & (data_cleaned['title'] == game_title)]\n",
    "    \n",
    "    # Collect and return usernames and their comments on the specified game\n",
    "    return filtered_comments[['author', 'comment']].values.tolist()\n"
   ]
  },
  {
   "cell_type": "code",
   "execution_count": 5,
   "metadata": {},
   "outputs": [
    {
     "name": "stdout",
     "output_type": "stream",
     "text": [
      "['prunelles', 'Olfenw', 'Lilly', 'letroyenfou', 'Empédocle', 'Ricardo31', 'Player One', 'Sempre Sainté', 'grotesk', 'Olène', 'Greta', 'Patmol', 'Delorean', 'plumesdanges', 'Didi5962', 'Sirien', 'Pollo', 'Meeplejuice', 'Gido_L4', 'Tigragon22']\n"
     ]
    }
   ],
   "source": [
    "neighbors_comments = get_neighbors('Monsieur Guillaume', 'Mariposas', k=20)\n",
    "with open('output_comments.txt', 'w') as file:\n",
    "    for c in neighbors_comments :\n",
    "        file.write(str(c)+\"\\n\")\n",
    "        "
   ]
  },
  {
   "cell_type": "code",
   "execution_count": 6,
   "metadata": {},
   "outputs": [
    {
     "name": "stdout",
     "output_type": "stream",
     "text": [
      "['prunelles', 'Olfenw', 'Lilly', 'letroyenfou', 'Empédocle', 'Ricardo31', 'Player One', 'Sempre Sainté', 'grotesk', 'Olène', 'Greta', 'Patmol', 'Delorean', 'plumesdanges', 'Didi5962', 'Sirien', 'Pollo', 'Meeplejuice', 'Gido_L4', 'Tigragon22']\n",
      "['prunelles', 'Très joli bijou que ce jeu-là ! Le matériel, les illustrations, l\\'histoire et le propos du jeu, tout donne envie de contribuer à sauver ces papillons.\\\\nBelle courbe d\\'apprentissage, impossible de tout faire même si on essaie parfois.\\\\nLe mini bemol serait les papillons qu\\'on n\\'arrive pas toujours à visualiser parce que certaines couleurs sont proches mais en même ça nous permet de les camoufler aussi aux yeux de nos adversaires.\\\\nPensez à aller regarder les différentes variantes concernant les cartes \"cycle de vie\". \\\\nUne belle réussite !']\n",
      "\n",
      "['Olfenw', '']\n",
      "\n",
      "['Lilly', \"Mariposas est un jeu ou la tension va s'exacerber au cours de la partie, ou devrais-je dire : au fil des saisons.\\\\n\\\\nOn joue des papillons, on se balade, on a pas la possibilité d'embêter l'autre ni même de se faire embêter. En somme, on a le même setting de départ, et grâce à 1 carte deplacment par tour, il faudra optimiser pour acumuler plus de points que les adversaires.\\\\nC'est donc une course où l'optimisation de déplacements et d'actions pet vous faire remporter la mise !\"]\n",
      "\n",
      "['letroyenfou', \"On prend un certain plaisir à faire évoluer ses petits papillons avec la meilleur stratégie possible. \\\\nSeul hic le manque d'interaction entre les joueurs: chacun fait sa petite tambouille de son côté.\"]\n",
      "\n",
      "['Empédocle', 'Très accessible, pour jouer avec les enfants (dès dix ans) ou un public occasionnel.']\n",
      "\n",
      "['Ricardo31', \"J'aime jouer à Mariposas de temps à autre. Quand on a envie de réfléchir, mais sans se brûler la cervelle, il est très adapté. En prime il est joli et bien thématisé.\\\\nAu niveau mécanique de jeu, on est dans le calcul pour optimiser les déplacements et les naissances de ses papillons, on essaye de coller aux objectifs de manche, d'obtenir les bons bonus et de visiter certains lieux avant les autres pour bénéficier du dé bonus.\\\\nJ'utilise une variante qui réduit le hasard des pions que l'on retourne lorsque l'on visite une ville en 1er, en retournant, au même moment, un autre pion ailleurs, dans une ville encore inexplorée. Je mets ce pion à l'envers, pour le différencier des pions déjà retournés. Cela évite d'avoir trop d'informations cachées : si on sait que l'on cherche une collection complète qui oblige à traverser tout le plateau, on va y réfléchir à deux fois avant d’entreprendre le voyage...\"]\n",
      "\n",
      "['Player One', \"Sous son air pittoresque, au visuel épuré, Mariposas est un jeu de gestion redoutable, mécaniquement simple mais profondément riche. Le but du jeu parait simple, faire évoluer ses papillons jusqu'au Nord de l'Amérique, créer des naissances et les faire revenir au point de départ. Mais le voyage ne sera pas si simple, car il faudra récolter des fleurs, se poser sur les bonnes cases, développer sa nuée et la gérer intelligemment. Stratégiquement le jeu n'est pas punitif, et l'interaction est faible, voire inexistante, mais la tension est permanente et à chacun de faire le nécessaire pour ramener un maximum de papillons au Mexique. Mariposas a eu moins de succès que Wingspan (les 2 jeux étant de Elizabeth Hargrave), mais reste intéressant et agréable à jouer.\"]\n",
      "\n",
      "['Sempre Sainté', '']\n",
      "\n",
      "['grotesk', 'Il est très difficile de déterminer si Mariposas est vraiment bien conçu ou pas, en particulier au niveau de sa courbe de progression: peut-on vraiment devenir bon sans utiliser une des variantes facilitant les cycles de vie ou rallongant les saisons ??? \\\\nJe m\\'explique: vous êtes sensé organiser la migration saisonnière des papillons Monarques entre le Mexique et le Québec mais il n\\'y a pas de point à atteindre systématiquement pour valider la migration, donc on peut parfaitement s\\'arrêter à la moitié du chemin et ramener plein de papillons pour scorer au maximum. L\\'autre façon de faire des points est de relever les défis saisonniers, mais certains ne semblent pas du tout raisonnables car ils impliquent de visiter les lointaines régions proche du Québec (l\\'aboutissement théorique de la migration). Typiquement, on se contentera donc de monter paresseusement vers le nord est, plus accessible, puis revenir dare-dare pour scorer, et il semble que cette technique gagne à tous les coups, un peu comme collectionner les cartes dans Cartagéna pour faire un méga combo plus tard, alors que les autres essayent d\\'aller le plus vite possible. On est dans l\\'opportunisme cynique, du genre \"j\\'ai pigé comment gagner et vous n\\'avez aucune chance\".\\\\nJe suis donc passé par plusieurs phases avec ce jeu, en pensant d\\'abord qu\\'il s\\'agissait d\\'une sorte de version géante et moins stressante de Deep Sea Adventure (\"Allez, faut rentrer à la maison maintenant!\"), puis je me suis rendu compe que cet aspect course aller-retour n\\'avait rien d\\'une obligation et je l\\'ai regretté puisque j\\'avais l\\'impression de gagner trop facilement.\\\\nMais peut-être que ça vaudrait quand même parfois le coup d\\'aller faire un tour au nord-est? Est-ce que je pourrais encore améliorer mon score en y faisant un tour, si les objectifs tirés semblaient valables et les cycle de vie révélés à temps et répartis avantageusement? J\\'ai tenté et pour le moment je n\\'y parviens pas: mes scores sont plutôt inférieurs à ma technique classique d\\'élevage intensif de Papillons 4ème génération aptes au retour.\\\\nAu final, c\\'est peut-être cette courbe de progression longue et incertaine que les concepteurs avaient derrière la tête: certains exploits papillonesques ne seraient tentés que lorsque les conditions s\\'y prêteraient, et là peut-être qu\\'on pourrait faire un score exceptionnel. On reste dans l\\'opportunisme élitiste à la Cartagena, mais en deux modes distincts selon le tirage de la partie: soit je me cantonne sur mes acquis soit je me lance à l\\'aventure. Pour l\\'instant, les seules parties où on a vraiment pu cartonner avec cette seconde option furent celles où l\\'on a modifié les règles: plus de tours de cartes (5-6-7), relais retournés dès le début... Ca facilite grandement les choses et ça rend le jeu beaucoup plus grand public ! Au fond, Mariposas est sans doute un pari délicat: faire un jeu familial qui cache un jeu expert, le cache même si bien qu\\'on croit à un problème de règles déséquilibrées ! Pourtant, il aurait été si facile de proposer dans le livret les variantes \"familiales\" évoquées plus haut, comme le font tellement de jeux avec leur mode débutant.']\n",
      "\n"
     ]
    }
   ],
   "source": [
    "cs = get_neighbors('Monsieur Guillaume','Mariposas')\n",
    "for c in cs:\n",
    "    print(c)\n",
    "    print()"
   ]
  },
  {
   "cell_type": "code",
   "execution_count": 7,
   "metadata": {},
   "outputs": [],
   "source": [
    "def filter_comments_by_word_count(comments, min_word_count):\n",
    "    \"\"\"\n",
    "    Filters a list of comments to include only those with a word count greater or equal to min_word_count.\n",
    "    \n",
    "    Args:\n",
    "    comments (list of str): A list of comments.\n",
    "    min_word_count (int): The minimum number of words required for a comment to be included in the return list.\n",
    "    \n",
    "    Returns:\n",
    "    list of str: A list containing only comments that meet or exceed the word count requirement.\n",
    "    \"\"\"\n",
    "    # Filter comments based on word count\n",
    "    filtered_comments = [comment for comment in comments if len(comment.split()) >= min_word_count]\n",
    "    return filtered_comments"
   ]
  },
  {
   "cell_type": "code",
   "execution_count": 8,
   "metadata": {},
   "outputs": [],
   "source": [
    "def get_top_comments(user_id, game_title, N, word_count_threshold):\n",
    "    \"\"\"\n",
    "    Retrieves the top N comments from the nearest neighbors of a specified user about a specific game,\n",
    "    using the KNNWithZScore algorithm from Surprise. Only comments with a word count above a certain threshold are considered.\n",
    "    Expands the search if initial neighbors have not commented on the game. Includes the rank of each commenting user based on proximity.\n",
    "\n",
    "    Args:\n",
    "    user_id (str): The user ID of the interested user.\n",
    "    game_title (str): The title of the game for which comments are being retrieved.\n",
    "    N (int): The number of top comments to return based on relevance.\n",
    "    word_count_threshold (int): The minimum number of words required for comments to be considered.\n",
    "\n",
    "    Returns:\n",
    "    list of tuples: A list containing tuples of (rank, author, comment) if available, or a status message.\n",
    "    \"\"\"\n",
    "    try:\n",
    "        # Retrieve inner ID of the user\n",
    "        user_inner_id = trainset.to_inner_uid(user_id)\n",
    "    except ValueError:\n",
    "        return f\"No data available for the user ID '{user_id}'.\"\n",
    "\n",
    "    try:\n",
    "        # Retrieve inner ID of the game\n",
    "        game_inner_id = trainset.to_inner_iid(game_title)\n",
    "    except ValueError:\n",
    "        return f\"No data available for the game '{game_title}'.\"\n",
    "\n",
    "    # Initialize variables for searching neighbors and tracking unique comments\n",
    "    k = 20\n",
    "    max_neighbors = trainset.n_users  # Maximum possible neighbors\n",
    "    found_comments = []\n",
    "    processed_neighbor_ids = set()  # Set to track processed neighbors\n",
    "\n",
    "    # Retrieve neighbors and expand search until enough comments are found or all users are checked\n",
    "    while len(found_comments) < N and k <= max_neighbors:\n",
    "        # Retrieve the k nearest neighbors of the user\n",
    "        neighbors = algo.get_neighbors(user_inner_id, k=k)\n",
    "        # Convert inner IDs of the neighbors back to raw IDs and store with ranks\n",
    "        neighbors_with_ranks = [(rank + 1, trainset.to_raw_uid(inner_id)) for rank, inner_id in enumerate(neighbors) if trainset.to_raw_uid(inner_id) not in processed_neighbor_ids]\n",
    "\n",
    "        # Filter the dataset to find the neighbors who have rated the specified game\n",
    "        for rank, neighbor_id in neighbors_with_ranks:\n",
    "            if neighbor_id not in processed_neighbor_ids:\n",
    "                processed_neighbor_ids.add(neighbor_id)\n",
    "                neighbor_comments = data_cleaned[(data_cleaned['author'] == neighbor_id) & (data_cleaned['title'] == game_title)]\n",
    "                # Apply enhanced word count filter\n",
    "                valid_comments = filter_comments_by_word_count(neighbor_comments['comment'].tolist(), word_count_threshold)\n",
    "                for comment in valid_comments:\n",
    "                    found_comments.append((rank, neighbor_id, comment))\n",
    "\n",
    "        # Increase the number of neighbors for the next iteration if necessary\n",
    "        k += 20\n",
    "\n",
    "    # If comments are found, sort them by length and return the top N\n",
    "    if found_comments:\n",
    "        found_comments.sort(key=lambda x: len(x[2]), reverse=True)  # Sort by comment length\n",
    "        return found_comments[:N]\n",
    "    else:\n",
    "        return f\"No comments found for the game '{game_title}' from nearest neighbors that meet the word threshold.\"\n"
   ]
  },
  {
   "cell_type": "code",
   "execution_count": 9,
   "metadata": {},
   "outputs": [
    {
     "data": {
      "text/html": [
       "<div>\n",
       "<style scoped>\n",
       "    .dataframe tbody tr th:only-of-type {\n",
       "        vertical-align: middle;\n",
       "    }\n",
       "\n",
       "    .dataframe tbody tr th {\n",
       "        vertical-align: top;\n",
       "    }\n",
       "\n",
       "    .dataframe thead th {\n",
       "        text-align: right;\n",
       "    }\n",
       "</style>\n",
       "<table border=\"1\" class=\"dataframe\">\n",
       "  <thead>\n",
       "    <tr style=\"text-align: right;\">\n",
       "      <th></th>\n",
       "      <th>author</th>\n",
       "      <th>note</th>\n",
       "      <th>title</th>\n",
       "      <th>comment</th>\n",
       "    </tr>\n",
       "  </thead>\n",
       "  <tbody>\n",
       "    <tr>\n",
       "      <th>0</th>\n",
       "      <td>Monsieur Guillaume</td>\n",
       "      <td>8</td>\n",
       "      <td>Mariposas</td>\n",
       "      <td>Lorsque le jeu est jeu, bon, réflexif, joli po...</td>\n",
       "    </tr>\n",
       "    <tr>\n",
       "      <th>1</th>\n",
       "      <td>morlockbob</td>\n",
       "      <td>7</td>\n",
       "      <td>Mariposas</td>\n",
       "      <td>Comment continuer après un mega hit ? Simpleme...</td>\n",
       "    </tr>\n",
       "    <tr>\n",
       "      <th>2</th>\n",
       "      <td>SwatSh</td>\n",
       "      <td>7</td>\n",
       "      <td>Mariposas</td>\n",
       "      <td>Vin d'jeu: Avec Mariposas, Elizabeth Hargrave ...</td>\n",
       "    </tr>\n",
       "    <tr>\n",
       "      <th>3</th>\n",
       "      <td>Timi JeuxATheme</td>\n",
       "      <td>8</td>\n",
       "      <td>Mariposas</td>\n",
       "      <td></td>\n",
       "    </tr>\n",
       "    <tr>\n",
       "      <th>4</th>\n",
       "      <td>prunelles</td>\n",
       "      <td>9</td>\n",
       "      <td>Mariposas</td>\n",
       "      <td>Très joli bijou que ce jeu-là ! Le matériel, l...</td>\n",
       "    </tr>\n",
       "  </tbody>\n",
       "</table>\n",
       "</div>"
      ],
      "text/plain": [
       "               author  note      title  \\\n",
       "0  Monsieur Guillaume     8  Mariposas   \n",
       "1          morlockbob     7  Mariposas   \n",
       "2              SwatSh     7  Mariposas   \n",
       "3     Timi JeuxATheme     8  Mariposas   \n",
       "4           prunelles     9  Mariposas   \n",
       "\n",
       "                                             comment  \n",
       "0  Lorsque le jeu est jeu, bon, réflexif, joli po...  \n",
       "1  Comment continuer après un mega hit ? Simpleme...  \n",
       "2  Vin d'jeu: Avec Mariposas, Elizabeth Hargrave ...  \n",
       "3                                                     \n",
       "4  Très joli bijou que ce jeu-là ! Le matériel, l...  "
      ]
     },
     "execution_count": 9,
     "metadata": {},
     "output_type": "execute_result"
    }
   ],
   "source": [
    "data_cleaned.head()"
   ]
  },
  {
   "cell_type": "code",
   "execution_count": 10,
   "metadata": {},
   "outputs": [
    {
     "name": "stdout",
     "output_type": "stream",
     "text": [
      "(295, 'ioucounou', 'Voilà exactement le jeu que j’adore. L’un des meilleurs sortis cette année, selon moi.Invasions est typiquement le genre de jeu qui a été développé autour de son thème. Et ça se sent ! Tout est fait pour qu’on s’y croit. C’est un jeu épique où l’on planifie ses campagnes avec soins. Vais-je aller piller la côte anglaise ? Ou bien faire du commerce dans l’est ? Les possibilités sont nombreuses et toutes requiert une préparation minutieuse sous peine de perdre un temps précieux en aller/retour ! Il faut anticiper la météo, prévoir combien de guerriers seront nécessaires, et surtout, et c’est là que le jeu mérite son 5/5, il faut toujours essayer d’anticiper ce que vont faire les autres jarls !En effet, Invasions est aussi un jeu interactifs, où l’on peut être très méchant.Toute la finesse du jeu consiste à profiter de la moindre faiblesse dans ce que font les autres. Et cela engendre à tous les coups rancœurs et vengeances mémorables.Bref, Invasions est un jeu à thème fort, très fort même, sans être trop lourd.Un jeu plutôt maîtrisable, mais avec ce qu’il faut de jets de dés pour pimenter le tout de retournements et de cris de joie (ou de désespoir).Un très bon compromis : un jeu à l’ancienne de l’école des jeux américains des années 80, mais plus léger, enrichi de l’expérience des années suivantes…J’adore !!!')\n",
      "\n",
      "(288, 'AJF-43', \"Plein de parties jouées, scores serrés. Aucun défaut notable. Je possède ce jeu.Un de mes jeux préférés. Il y a plusieurs possibilités pour marquer des points, même si l'on peut un temps se focaliser sur l'une d'entre elle (à moins de cinq joueurs). On peut se taper dessus entre joueurs; cela n'est pas systématique, mais cela me semble inévitable. De toute façon, cela ne crée pas de conflit entre les joueurs.Le thème est respecté historiquement, avec un équilibre commerce/raid/colonisation qui évolue dans le temps et en cohérence avec l'Histoire.Le seul (petit) défaut de ce jeu: ponctuellement, on est amené à se poser des questions sur un ou deux points de règle, questions que l'on peut résoudre en s'accordant rapidement entre joueurs.J'aurais voulu être un Vikiiiiiiiiiiiing,Pour pouvoir naviguer sur l'eau,Découvrir l'détroit de Bering,Et piller les villes des péquenooooooots !\")\n",
      "\n",
      "(284, 'Emlyn', 'Lors de la première partie, ce jeu m\\'avait fait une première impression très positive. Il faut dire que le thème est très bien rendu, ce qui devient rare de nos jours où la mode est de plus en plus aux jeux abstraits sur lesquels on colle un habillage héroïque.Une deuxième partie m\\'amène à tempérer mon enthousiasme initial: si la partie reste plaisante il apparaît cependant qu\\'elle est, selon moi, un peu trop longue pour un jeu où le hasard tient en définitive une place très importante. (compter au moins deux heures au lieu des nonante minutes indiquées sur la boite).Je serais tenté d\\'y rejouer, mais alors en retirant d\\'avantage de cartes \"Saga\" de façon à écourter le jeu.')\n",
      "\n",
      "(289, 'Zaroff', \"Soyons clair au début on est un peu perdu, il faut calculer, se souvenir des actions qui ne coûtent rien et anticiper un peu. Mais une fois pris en main, vogue le drakkar, commerçons, pillons et colonisons. N'hésitez pas à coloniser, ça peut rapporter gros.Bref un bon jeu, alors pourquoi pas très bon? Eh bien à cause des cartes runes qui apportent le chaos et la tempête dans le jeu, et qui en plus vous permettent de vous facher avec vos amis (vos 2 derniers vikings perdus dans une tempête juste avant de rentrer dans le port de Rome...).Du coup on se demande si ces cartes apportent vraiment quelque chose.\")\n",
      "\n",
      "(68, 'Xav', \"Le thème est particulièrement bien retranscrit dans ce jeu au matériel splendide !On prend plaisir à commercer, piller et coloniser... surtout lorsqu'on peut finir une saga au nez et à la barbe d'un jarl qui l'a entamée... Il existe plusieurs façons d'engranger les points de victoire et les stratégies de jeu peuvent être mises sur pied en dépit d'une part de hasard présente mais pas désagréable.Le souffle épique des Walkyries est sur ce jeu aux plaisirs infinis !\")\n",
      "\n"
     ]
    }
   ],
   "source": [
    "top_comments_with_rank = get_top_comments('Monsieur Guillaume', 'Invasions', 5, 10)\n",
    "for comment in top_comments_with_rank:\n",
    "    print(comment)\n",
    "    print()"
   ]
  },
  {
   "cell_type": "code",
   "execution_count": 11,
   "metadata": {},
   "outputs": [
    {
     "data": {
      "text/plain": [
       "2458"
      ]
     },
     "execution_count": 11,
     "metadata": {},
     "output_type": "execute_result"
    }
   ],
   "source": [
    "data_cleaned['author'].nunique()"
   ]
  },
  {
   "cell_type": "code",
   "execution_count": 12,
   "metadata": {},
   "outputs": [
    {
     "name": "stdout",
     "output_type": "stream",
     "text": [
      "... mais jamais ne faiblira car toujours là je serai pour ce jeu aux potentiels infinis (ou presque) et tous aussi enthousiasmant les uns que les autres...Du très bon matériel (avec la technique de l'eau chaude, tout devient encore plus beau et plus droit), des règles qui en donnent beaucoups et qui en promettent encore plus, des créatures, des conseils de guerres, des tuiles qu'on rêvent de voir, d'autres qu'on a qu'on rêve de mettre en 3D...Non, ce jeu, c'est du rêve, de l'amusement puissance dix en boîte... et j'attends mars sans impatience pour les prochaines extensions car jusque là, j'ai déjà largement de quoi faire dans une boite qui peut se suffire à elle-même pour les plus récalcitrant...que du bonheur!!\n",
      "En effet, c'est un bonheur pour moi d'avoir de la place, de manoeuvrer avec des armées plus grandes, de pouvoir jouer plus longtemps...Bon, je pourrais jouer sans, bien sûr, car justement, maintenant, le jeu est modulable à souhait en fonction du temps, du niveau, etc... voulu!!\n",
      "Au départ, les retours effectués en coulant son Drakkar m'ont surpris également... puis, en y réfléchissant, je me suis dit que finalement, pour ne pas rallonger inutilement le jeu en faisant des voyages retours à vide juste pour faire le voyage retour, c'était effectivement une idée... on peut considérer que le temps de voyage (quand on y va) est en fait un temps d'aller-retour, ce qui me paraît satisfaisant comme explication de mécanisme. Pour les Drakkars coulés, le fait de retourner en zone d'hivernage directement met fin au tour du joueur... à lui de voir comment il gère son tour pour le jouer au mieux : \"vais-je tenter le pillage de cette ville avec mes deux troupes vikings alors que je n'en suis qu'à ma deuxième journée de voyage ou pas???\" Les sagas qui ne sont pas toutes prises, et qui sont différentes dans leur but mais aussi suivant le pays qu'elles servent assurent un renouvellement des parties... les runes amènent une bonne interactivité ou un bon coup de main, sans déséquilibre flagrant (et puis de toute façon, à chacun de choisir s'il pioche ou non les runes). Le fait que ce soit seulement le dernier à finir les conditions d'une saga qui l'emporte est aussi à bien prendre en compte, mais ça amène toute l'interactivité du jeu... (presque toute... ) Maintenant, le hasard des dés est parfois un peu pregnant... trop, je ne crois pas, car on lance souvent les dés... on peut aussi ne pas les lancer du tout (on ne fait que du commerce!!)... Mais il est vrai que prendre Paris sur un six en lançant son premier dés, alors que le joueur d'à côté, qui a fait du commerce sur une ville à deux (donc difficulté -1 pour le pillage) et qui fait trois un de suite, perdant trois fiers vikings et ne gardant que ses yeux pour pleurer peut sembler particulièrement axé \"chance et c'est tout...\" Je prends volontairement les exemples extrêmes, bien sûr; n'oublions pas que j'ai dit plus haut qu'on lance les dés souvent (c'est pas toutes les trente secondes non plus, hein, attention...) ce qui lisse ce côté chance sur une partie d'une heure trente à deux heures. Pour ce faire, j'avoue être tenter d'essayer une règle maison pour booster son attaque... du style : \"je sacrifie d'entrée un viking pour avoir +1 à mon dé, deux vikings pour avoir +2... mais je lance quand même le dé car le 1 est un échec automatique!!\"... enfin, un truc du style pour permettre un peu plus de contre-balancement pour la non-moule... le tableau ci-dessus me paraît pas mal non plus... ou alors voir à donner un bonus d'expérience par échec obtenu (comme l'Arcane de BattleLore : tu rates, mais ça te sert pour après)... Pour finir, j'ai vraiment apprécié ce jeu et j'attends avec impatience d'en refaire pour confirmer ça... pour les dés, soit je préviendrai avant et ça se joue très bien comme ça (je ne suis pas du tout allergique aux dés et ne ressents pas l'effet \"petits chevaux\" décrit ci-dessus car il y a beaucoups à faire au-delà des dés) ou à tester avec variante pour les allergiques au hasard...\n",
      "... mais collé à la boite...En effet, le côté gestion d'équipe, de pouvoirs, d'alliés, le petit côté stratégique du \"dans quel ordre je vais faire mes actions, et quelles actions je vais faire d'abord....\", les bastons à coups de dés contre tous les autres joueurs qui sont rien que des méchants, et même des fois des ultimes méchants diaboliques, le tout bien immersif à mon sens dans l'univers des supers-héros... non, là, je vous le dis...On tient un très bon jeu... et pour ma part, un très très bon jeu qui, sans être devin, restera longtemps cher à mon coeur...Chifoumi\n",
      "et bien et bien... moi qui était, avec toute la petite famille (une cinquantaine de personnes) derrière, fan de ce jeu, voilà-t-y pas qu'avec cette extension, on en redemande encore... et encore... On prend plaisir, encore plus de plaisir, à manipuler tout ce beau matériel, dans un sens, dans un autre, on y réfléchie encore plus pour tenter sa stratégie à la \"si t'avais pas mis ton nuage, je gagnais...!!\"J'aime ce jeu, ce jeu est aimé, et avec l'extension, on a vraiment un top nickel jeu familialChifoumi\n",
      "... en fait, il y a tout pour passer un bon moment avec ce jeu, et c'est ce qui arrive!!En effet, jouer sans réfléchir, et se rendre compte que ça peut marcher; jouer en comptant les cartes \"rame\" des autres joueurs et se rendre compte que ça peut ne pas marcher... et bien c'est amusant... car on y réfléchit, on sait que la configuration (nbre de joueur, météo, opportunité) influe, mais pas seulement... les discussions autour de la table aussi : \"tiens, mon coeur, si tu joues ta météo en -1, il n'y aura plus de courant\"\"ab oui, tiens, c'est rigolo!!\" (... bouge le nuage, et hop, pile poil ce que je voulais... lol).On tente ou pas de deviner ce qui se passe, on se bluffe soi-même parfois, on s'étonne... bref on vit un bon moment ensemble, que ce soit famille, amis, etc... et même pour les plus jeunes, dés qu'on sait compter jusqu'à 6, c'est drôle!!Bon, j'vous laisse, j'ai encore un rubis à remonter avant de pouvoir enlever mon gilet!!!\n",
      "... et je pèse mes mots!!Je trouve ce jeu très très bien vu, et, ayant eu la chance de pouvoir le commander, le matèriel, sortant un peu de l'ordinaire, tout en étant de facture très agréable à manipuler, à regarder, à toucher, ajoute un plus dans le déroulement et le plaisir ludique de ce jeu...J'irai même jusqu'à dire que si le jeu est un peu déséquilibré si les joueurs ne sont pas de même niveau, ils s'amusent quand-même dans cette joyeuse course-poursuite à manipuler les pions, les approchant ou les éloignant les uns des autres, les éclairant et les éteignant, faisant monter peu-à-peu la pression autour du coupable.Un très bon jeu qui mérite l'édition à grande échelle, et une expérience que l'on rêve effectivement de pouvoir partager à plus que deux, même si, dans sa forme actuelle, deux joueurs est effectivement le nombre pour lequelle il est conçu (comprenez qu'il n'est pas évident en l'état de jouer à plusieurs juste en changeant un poil les règles comme ça peut parfois s'envisager sur d'autres jeux à deux).Une réussite, un plaisir de réflexion, d'amusement joyeux, grâce aussi aux illustrations très agréables, bref... je suis ravi de mon achat, moi!!Accroche-toi à ta pipe, Sherlock, ça va fumer sec sous le chapeau!!\n"
     ]
    }
   ],
   "source": [
    "MG=data_cleaned[['title','comment','note']].loc[data_cleaned['author']=='Monsieur Guillaume']\n",
    "list=MG['comment'].loc[MG['note']==10].tolist()\n",
    "for c in list:\n",
    "    print(c)"
   ]
  },
  {
   "cell_type": "code",
   "execution_count": 13,
   "metadata": {},
   "outputs": [
    {
     "data": {
      "text/html": [
       "<div>\n",
       "<style scoped>\n",
       "    .dataframe tbody tr th:only-of-type {\n",
       "        vertical-align: middle;\n",
       "    }\n",
       "\n",
       "    .dataframe tbody tr th {\n",
       "        vertical-align: top;\n",
       "    }\n",
       "\n",
       "    .dataframe thead th {\n",
       "        text-align: right;\n",
       "    }\n",
       "</style>\n",
       "<table border=\"1\" class=\"dataframe\">\n",
       "  <thead>\n",
       "    <tr style=\"text-align: right;\">\n",
       "      <th></th>\n",
       "      <th>title</th>\n",
       "      <th>comment</th>\n",
       "    </tr>\n",
       "  </thead>\n",
       "  <tbody>\n",
       "    <tr>\n",
       "      <th>32239</th>\n",
       "      <td>BattleLore Seconde Édition</td>\n",
       "      <td>... mais jamais ne faiblira car toujours là je...</td>\n",
       "    </tr>\n",
       "    <tr>\n",
       "      <th>86158</th>\n",
       "      <td>Epic BattleLore : Batailles épiques</td>\n",
       "      <td>En effet, c'est un bonheur pour moi d'avoir de...</td>\n",
       "    </tr>\n",
       "    <tr>\n",
       "      <th>87387</th>\n",
       "      <td>Invasions</td>\n",
       "      <td>Au départ, les retours effectués en coulant so...</td>\n",
       "    </tr>\n",
       "    <tr>\n",
       "      <th>88107</th>\n",
       "      <td>Marvel Heroes</td>\n",
       "      <td>... mais collé à la boite...En effet, le côté ...</td>\n",
       "    </tr>\n",
       "    <tr>\n",
       "      <th>91155</th>\n",
       "      <td>Niagara : Flussgeister am Niagara</td>\n",
       "      <td>et bien et bien... moi qui était, avec toute l...</td>\n",
       "    </tr>\n",
       "    <tr>\n",
       "      <th>98297</th>\n",
       "      <td>Niagara</td>\n",
       "      <td>... en fait, il y a tout pour passer un bon mo...</td>\n",
       "    </tr>\n",
       "    <tr>\n",
       "      <th>116893</th>\n",
       "      <td>Mr. Jack - London</td>\n",
       "      <td>... et je pèse mes mots!!Je trouve ce jeu très...</td>\n",
       "    </tr>\n",
       "  </tbody>\n",
       "</table>\n",
       "</div>"
      ],
      "text/plain": [
       "                                      title  \\\n",
       "32239            BattleLore Seconde Édition   \n",
       "86158   Epic BattleLore : Batailles épiques   \n",
       "87387                             Invasions   \n",
       "88107                         Marvel Heroes   \n",
       "91155     Niagara : Flussgeister am Niagara   \n",
       "98297                               Niagara   \n",
       "116893                    Mr. Jack - London   \n",
       "\n",
       "                                                  comment  \n",
       "32239   ... mais jamais ne faiblira car toujours là je...  \n",
       "86158   En effet, c'est un bonheur pour moi d'avoir de...  \n",
       "87387   Au départ, les retours effectués en coulant so...  \n",
       "88107   ... mais collé à la boite...En effet, le côté ...  \n",
       "91155   et bien et bien... moi qui était, avec toute l...  \n",
       "98297   ... en fait, il y a tout pour passer un bon mo...  \n",
       "116893  ... et je pèse mes mots!!Je trouve ce jeu très...  "
      ]
     },
     "execution_count": 13,
     "metadata": {},
     "output_type": "execute_result"
    }
   ],
   "source": [
    "MG[['title','comment']].loc[MG['note']==10]"
   ]
  },
  {
   "cell_type": "code",
   "execution_count": 14,
   "metadata": {},
   "outputs": [],
   "source": [
    "# Charger le modèle de langue française\n",
    "nlp = spacy.load('fr_core_news_sm')\n",
    "\n",
    "# Fonction adaptée pour traiter chaque commentaire individuellement\n",
    "def filtrer_commentaire(commentaire):\n",
    "    doc = nlp(commentaire)\n",
    "    pos_exclues = ['DET', 'CONJ', 'PRON', 'ADP', 'CCONJ', 'PUNCT']  # Ajout de 'PUNCT' à la liste des exclusions\n",
    "    #mots_exclus = ['jeu', 'jeux'] and token.lemma_.lower() not in mots_exclus\n",
    "    # Filtrer les tokens qui ne sont pas dans pos_exclues et dont le lemme n'est pas dans mots_exclus\n",
    "    mots_filtres = [token.text for token in doc if token.pos_ not in pos_exclues ]\n",
    "    return ' '.join(mots_filtres)\n",
    "# S'assurer que tous les commentaires sont des chaînes de caractères\n",
    "MG['comment'] = MG['comment'].astype(str)"
   ]
  },
  {
   "cell_type": "code",
   "execution_count": 15,
   "metadata": {},
   "outputs": [
    {
     "name": "stdout",
     "output_type": "stream",
     "text": [
      "                                       comment_filtrer\n",
      "0    Lorsque jeu est jeu bon réflexif joli est sens...\n",
      "73   Edition Univers Direction artistique Matériel ...\n",
      "205  Edition Univers Direction artistique Matériel ...\n",
      "216  Marions est cas dire thème finalement peu usit...\n",
      "308  Oui parce que là faudra peu masser neurones au...\n"
     ]
    }
   ],
   "source": [
    "MG['comment_filtrer'] = MG['comment'].apply(filtrer_commentaire)\n",
    "print(MG[['comment_filtrer']].head())"
   ]
  },
  {
   "cell_type": "code",
   "execution_count": 16,
   "metadata": {},
   "outputs": [],
   "source": [
    "def tokeniser(commentaire):\n",
    "    doc = nlp(commentaire)\n",
    "    tokens = [token.text for token in doc]\n",
    "    return tokens\n",
    "\n",
    "# Appliquer la tokenisation sur la colonne des commentaires traités\n",
    "MG['tokens'] = MG['comment_filtrer'].apply(tokeniser)\n"
   ]
  },
  {
   "cell_type": "code",
   "execution_count": 17,
   "metadata": {
    "scrolled": true
   },
   "outputs": [
    {
     "name": "stdout",
     "output_type": "stream",
     "text": [
      "0         [Lorsque, jeu, est, jeu, bon, réflexif, joli, ...\n",
      "73        [Edition, Univers, Direction, artistique, Maté...\n",
      "205       [Edition, Univers, Direction, artistique, Maté...\n",
      "216       [Marions, est, cas, dire, thème, finalement, p...\n",
      "308       [Oui, parce, que, là, faudra, peu, masser, neu...\n",
      "1046      [est, Renegade, France, repartons, recherche, ...\n",
      "1426      [Edition, Univers, Direction, artistique, Maté...\n",
      "1587      [Edition, Univers, Direction, artistique, Maté...\n",
      "1649      [Très, bien, vu, Monsieur, Sing, console, Cap,...\n",
      "1825      [Edition, Univers, Direction, artistique, Maté...\n",
      "1937      [Edition, Univers, Direction, artistique, Maté...\n",
      "2345      [Largement, faire, autour, jeu, permet, retrou...\n",
      "2424      [Petit, jeu, mot, extension, Heroquest, aura, ...\n",
      "2435      [plaisir, mécanisme, peu, exploité, aimants, m...\n",
      "2703      [Edition, Univers, Direction, artistique, Maté...\n",
      "2760      [jeu, agréable, dynamique, attention, léger, s...\n",
      "2807      [Ah, plaisir, humain, ranger, classant, plus, ...\n",
      "4257      [Retrouvez, eurogame, interaction, directe, fo...\n",
      "5173                                                     []\n",
      "5473      [est, peu, série, quelque, part, sommes, accro...\n",
      "5605      [plaisir, draw, write, voit, thème, adéquation...\n",
      "5700      [voulez, -vous, que, soit, grâce, Marie-Ange, ...\n",
      "5711      [Non, n, ', est, pas, souci, carte, bleue, rab...\n",
      "17379     [non, avis, quoiqu, ', dise, titre, n, ', est,...\n",
      "19262     [hop, contrats, sont, poche, va, falloir, mett...\n",
      "32239     [jamais, ne, faiblira, toujours, là, serai, je...\n",
      "33003                                                    []\n",
      "43262     [Très, intéressant, jeu, pli, soutient, poulai...\n",
      "44362     [intrications, mécaniques, Ginkgopolis, sont, ...\n",
      "45352     [Non, est, vrai, fait, pas, peur, a, vraiment,...\n",
      "59549     [est, bon, jeu, copains, rôlistes, copines, rô...\n",
      "74498     [extension, Wanted, a, bien, plus, dirai, même...\n",
      "77478     [Oui, jeu, coopératif, boite, témoin, genre, l...\n",
      "86158     [effet, est, bonheur, avoir, place, manoeuvrer...\n",
      "87387     [départ, retours, effectués, coulant, Drakkar,...\n",
      "88107     [collé, boite, effet, côté, gestion, équipe, p...\n",
      "91155     [bien, bien, était, toute, petite, famille, ci...\n",
      "92097     [que, termine, petits, voisines!!!Quelle, bonn...\n",
      "93179     [là, faut, évidement, zeste, bonne, humeur, de...\n",
      "94196     [Chbbrroufff, surtout, bien, cuit, lolen, voil...\n",
      "95786     [parce, qu, ', viennent, bouffer, enfant, bien...\n",
      "96361     [hein, ah, bon, pas, temps, faut, dire, est, v...\n",
      "96692     [a, là, tous, composants, bon, jeu, matériel, ...\n",
      "98297     [fait, a, tout, passer, bon, moment, jeu, est,...\n",
      "99568     [petit, jeu, évolution, conquête, baston, me, ...\n",
      "100367    [Pas, problème, format, présentation, attire, ...\n",
      "102131    [rapide, agréable, stimulant, lançant, suite, ...\n",
      "106275    [fais, gagner, points, voisin, aussi, est, pas...\n",
      "108356    [étonnant, dirai, même, que, suis, agréablemen...\n",
      "111467    [Non, pas, tout, sert, miser, sert, marquer, m...\n",
      "112492    [fait, bien, sympa, jeu, installe, plateau, ve...\n",
      "115797    [petit, jeu, chaise, musical, fait, fort, symp...\n",
      "116893    [pèse, mots!!Je, trouve, jeu, très, très, bien...\n",
      "Name: tokens, dtype: object\n"
     ]
    }
   ],
   "source": [
    "print(MG['tokens'])"
   ]
  },
  {
   "cell_type": "code",
   "execution_count": 24,
   "metadata": {},
   "outputs": [
    {
     "name": "stdout",
     "output_type": "stream",
     "text": [
      "Nombre total de tokens: 5106\n"
     ]
    }
   ],
   "source": [
    "total_tokens = sum(len(tokens) for tokens in MG['tokens'])\n",
    "print(\"Nombre total de tokens:\", total_tokens)\n"
   ]
  },
  {
   "cell_type": "code",
   "execution_count": 22,
   "metadata": {},
   "outputs": [
    {
     "ename": "RateLimitError",
     "evalue": "Error code: 429 - {'error': {'message': 'You exceeded your current quota, please check your plan and billing details. For more information on this error, read the docs: https://platform.openai.com/docs/guides/error-codes/api-errors.', 'type': 'insufficient_quota', 'param': None, 'code': 'insufficient_quota'}}",
     "output_type": "error",
     "traceback": [
      "\u001b[1;31m---------------------------------------------------------------------------\u001b[0m",
      "\u001b[1;31mRateLimitError\u001b[0m                            Traceback (most recent call last)",
      "Cell \u001b[1;32mIn[22], line 29\u001b[0m\n\u001b[0;32m     27\u001b[0m \u001b[38;5;66;03m# Exemple d'utilisation\u001b[39;00m\n\u001b[0;32m     28\u001b[0m api_key \u001b[38;5;241m=\u001b[39m \u001b[38;5;124m\"\u001b[39m\u001b[38;5;124msk-proj-17CQuXWNpWoNU2vCjxXUT3BlbkFJ6KFmtiG506MzO1QCcbBy\u001b[39m\u001b[38;5;124m\"\u001b[39m\n\u001b[1;32m---> 29\u001b[0m positive_comment, negative_comment \u001b[38;5;241m=\u001b[39m generate_aggregated_comments(MG, api_key)\n\u001b[0;32m     30\u001b[0m \u001b[38;5;28mprint\u001b[39m(\u001b[38;5;124m\"\u001b[39m\u001b[38;5;124mCommentaire Positif:\u001b[39m\u001b[38;5;124m\"\u001b[39m, positive_comment)\n\u001b[0;32m     31\u001b[0m \u001b[38;5;28mprint\u001b[39m(\u001b[38;5;124m\"\u001b[39m\u001b[38;5;124mCommentaire Négatif:\u001b[39m\u001b[38;5;124m\"\u001b[39m, negative_comment)\n",
      "Cell \u001b[1;32mIn[22], line 14\u001b[0m, in \u001b[0;36mgenerate_aggregated_comments\u001b[1;34m(dataframe, api_key, model)\u001b[0m\n\u001b[0;32m     11\u001b[0m client \u001b[38;5;241m=\u001b[39m openai\u001b[38;5;241m.\u001b[39mOpenAI(api_key\u001b[38;5;241m=\u001b[39mapi_key)\n\u001b[0;32m     13\u001b[0m \u001b[38;5;66;03m# Générer un commentaire positif\u001b[39;00m\n\u001b[1;32m---> 14\u001b[0m positive_response \u001b[38;5;241m=\u001b[39m client\u001b[38;5;241m.\u001b[39mchat\u001b[38;5;241m.\u001b[39mcompletions\u001b[38;5;241m.\u001b[39mcreate(\n\u001b[0;32m     15\u001b[0m     model\u001b[38;5;241m=\u001b[39mmodel,\n\u001b[0;32m     16\u001b[0m     messages\u001b[38;5;241m=\u001b[39m[{\u001b[38;5;124m\"\u001b[39m\u001b[38;5;124mrole\u001b[39m\u001b[38;5;124m\"\u001b[39m: \u001b[38;5;124m\"\u001b[39m\u001b[38;5;124muser\u001b[39m\u001b[38;5;124m\"\u001b[39m, \u001b[38;5;124m\"\u001b[39m\u001b[38;5;124mcontent\u001b[39m\u001b[38;5;124m\"\u001b[39m: \u001b[38;5;124mf\u001b[39m\u001b[38;5;124m\"\u001b[39m\u001b[38;5;124mGenerate a positive comment based on: \u001b[39m\u001b[38;5;132;01m{\u001b[39;00mtoken_string\u001b[38;5;132;01m}\u001b[39;00m\u001b[38;5;124m\"\u001b[39m}]\n\u001b[0;32m     17\u001b[0m )\n\u001b[0;32m     19\u001b[0m \u001b[38;5;66;03m# Générer un commentaire négatif\u001b[39;00m\n\u001b[0;32m     20\u001b[0m negative_response \u001b[38;5;241m=\u001b[39m client\u001b[38;5;241m.\u001b[39mchat\u001b[38;5;241m.\u001b[39mcompletions\u001b[38;5;241m.\u001b[39mcreate(\n\u001b[0;32m     21\u001b[0m     model\u001b[38;5;241m=\u001b[39mmodel,\n\u001b[0;32m     22\u001b[0m     messages\u001b[38;5;241m=\u001b[39m[{\u001b[38;5;124m\"\u001b[39m\u001b[38;5;124mrole\u001b[39m\u001b[38;5;124m\"\u001b[39m: \u001b[38;5;124m\"\u001b[39m\u001b[38;5;124muser\u001b[39m\u001b[38;5;124m\"\u001b[39m, \u001b[38;5;124m\"\u001b[39m\u001b[38;5;124mcontent\u001b[39m\u001b[38;5;124m\"\u001b[39m: \u001b[38;5;124mf\u001b[39m\u001b[38;5;124m\"\u001b[39m\u001b[38;5;124mGenerate a negative comment based on: \u001b[39m\u001b[38;5;132;01m{\u001b[39;00mtoken_string\u001b[38;5;132;01m}\u001b[39;00m\u001b[38;5;124m\"\u001b[39m}]\n\u001b[0;32m     23\u001b[0m )\n",
      "File \u001b[1;32m~\\anaconda3\\Lib\\site-packages\\openai\\_utils\\_utils.py:277\u001b[0m, in \u001b[0;36mrequired_args.<locals>.inner.<locals>.wrapper\u001b[1;34m(*args, **kwargs)\u001b[0m\n\u001b[0;32m    275\u001b[0m             msg \u001b[38;5;241m=\u001b[39m \u001b[38;5;124mf\u001b[39m\u001b[38;5;124m\"\u001b[39m\u001b[38;5;124mMissing required argument: \u001b[39m\u001b[38;5;132;01m{\u001b[39;00mquote(missing[\u001b[38;5;241m0\u001b[39m])\u001b[38;5;132;01m}\u001b[39;00m\u001b[38;5;124m\"\u001b[39m\n\u001b[0;32m    276\u001b[0m     \u001b[38;5;28;01mraise\u001b[39;00m \u001b[38;5;167;01mTypeError\u001b[39;00m(msg)\n\u001b[1;32m--> 277\u001b[0m \u001b[38;5;28;01mreturn\u001b[39;00m func(\u001b[38;5;241m*\u001b[39margs, \u001b[38;5;241m*\u001b[39m\u001b[38;5;241m*\u001b[39mkwargs)\n",
      "File \u001b[1;32m~\\anaconda3\\Lib\\site-packages\\openai\\resources\\chat\\completions.py:579\u001b[0m, in \u001b[0;36mCompletions.create\u001b[1;34m(self, messages, model, frequency_penalty, function_call, functions, logit_bias, logprobs, max_tokens, n, presence_penalty, response_format, seed, stop, stream, temperature, tool_choice, tools, top_logprobs, top_p, user, extra_headers, extra_query, extra_body, timeout)\u001b[0m\n\u001b[0;32m    548\u001b[0m \u001b[38;5;129m@required_args\u001b[39m([\u001b[38;5;124m\"\u001b[39m\u001b[38;5;124mmessages\u001b[39m\u001b[38;5;124m\"\u001b[39m, \u001b[38;5;124m\"\u001b[39m\u001b[38;5;124mmodel\u001b[39m\u001b[38;5;124m\"\u001b[39m], [\u001b[38;5;124m\"\u001b[39m\u001b[38;5;124mmessages\u001b[39m\u001b[38;5;124m\"\u001b[39m, \u001b[38;5;124m\"\u001b[39m\u001b[38;5;124mmodel\u001b[39m\u001b[38;5;124m\"\u001b[39m, \u001b[38;5;124m\"\u001b[39m\u001b[38;5;124mstream\u001b[39m\u001b[38;5;124m\"\u001b[39m])\n\u001b[0;32m    549\u001b[0m \u001b[38;5;28;01mdef\u001b[39;00m \u001b[38;5;21mcreate\u001b[39m(\n\u001b[0;32m    550\u001b[0m     \u001b[38;5;28mself\u001b[39m,\n\u001b[1;32m   (...)\u001b[0m\n\u001b[0;32m    577\u001b[0m     timeout: \u001b[38;5;28mfloat\u001b[39m \u001b[38;5;241m|\u001b[39m httpx\u001b[38;5;241m.\u001b[39mTimeout \u001b[38;5;241m|\u001b[39m \u001b[38;5;28;01mNone\u001b[39;00m \u001b[38;5;241m|\u001b[39m NotGiven \u001b[38;5;241m=\u001b[39m NOT_GIVEN,\n\u001b[0;32m    578\u001b[0m ) \u001b[38;5;241m-\u001b[39m\u001b[38;5;241m>\u001b[39m ChatCompletion \u001b[38;5;241m|\u001b[39m Stream[ChatCompletionChunk]:\n\u001b[1;32m--> 579\u001b[0m     \u001b[38;5;28;01mreturn\u001b[39;00m \u001b[38;5;28mself\u001b[39m\u001b[38;5;241m.\u001b[39m_post(\n\u001b[0;32m    580\u001b[0m         \u001b[38;5;124m\"\u001b[39m\u001b[38;5;124m/chat/completions\u001b[39m\u001b[38;5;124m\"\u001b[39m,\n\u001b[0;32m    581\u001b[0m         body\u001b[38;5;241m=\u001b[39mmaybe_transform(\n\u001b[0;32m    582\u001b[0m             {\n\u001b[0;32m    583\u001b[0m                 \u001b[38;5;124m\"\u001b[39m\u001b[38;5;124mmessages\u001b[39m\u001b[38;5;124m\"\u001b[39m: messages,\n\u001b[0;32m    584\u001b[0m                 \u001b[38;5;124m\"\u001b[39m\u001b[38;5;124mmodel\u001b[39m\u001b[38;5;124m\"\u001b[39m: model,\n\u001b[0;32m    585\u001b[0m                 \u001b[38;5;124m\"\u001b[39m\u001b[38;5;124mfrequency_penalty\u001b[39m\u001b[38;5;124m\"\u001b[39m: frequency_penalty,\n\u001b[0;32m    586\u001b[0m                 \u001b[38;5;124m\"\u001b[39m\u001b[38;5;124mfunction_call\u001b[39m\u001b[38;5;124m\"\u001b[39m: function_call,\n\u001b[0;32m    587\u001b[0m                 \u001b[38;5;124m\"\u001b[39m\u001b[38;5;124mfunctions\u001b[39m\u001b[38;5;124m\"\u001b[39m: functions,\n\u001b[0;32m    588\u001b[0m                 \u001b[38;5;124m\"\u001b[39m\u001b[38;5;124mlogit_bias\u001b[39m\u001b[38;5;124m\"\u001b[39m: logit_bias,\n\u001b[0;32m    589\u001b[0m                 \u001b[38;5;124m\"\u001b[39m\u001b[38;5;124mlogprobs\u001b[39m\u001b[38;5;124m\"\u001b[39m: logprobs,\n\u001b[0;32m    590\u001b[0m                 \u001b[38;5;124m\"\u001b[39m\u001b[38;5;124mmax_tokens\u001b[39m\u001b[38;5;124m\"\u001b[39m: max_tokens,\n\u001b[0;32m    591\u001b[0m                 \u001b[38;5;124m\"\u001b[39m\u001b[38;5;124mn\u001b[39m\u001b[38;5;124m\"\u001b[39m: n,\n\u001b[0;32m    592\u001b[0m                 \u001b[38;5;124m\"\u001b[39m\u001b[38;5;124mpresence_penalty\u001b[39m\u001b[38;5;124m\"\u001b[39m: presence_penalty,\n\u001b[0;32m    593\u001b[0m                 \u001b[38;5;124m\"\u001b[39m\u001b[38;5;124mresponse_format\u001b[39m\u001b[38;5;124m\"\u001b[39m: response_format,\n\u001b[0;32m    594\u001b[0m                 \u001b[38;5;124m\"\u001b[39m\u001b[38;5;124mseed\u001b[39m\u001b[38;5;124m\"\u001b[39m: seed,\n\u001b[0;32m    595\u001b[0m                 \u001b[38;5;124m\"\u001b[39m\u001b[38;5;124mstop\u001b[39m\u001b[38;5;124m\"\u001b[39m: stop,\n\u001b[0;32m    596\u001b[0m                 \u001b[38;5;124m\"\u001b[39m\u001b[38;5;124mstream\u001b[39m\u001b[38;5;124m\"\u001b[39m: stream,\n\u001b[0;32m    597\u001b[0m                 \u001b[38;5;124m\"\u001b[39m\u001b[38;5;124mtemperature\u001b[39m\u001b[38;5;124m\"\u001b[39m: temperature,\n\u001b[0;32m    598\u001b[0m                 \u001b[38;5;124m\"\u001b[39m\u001b[38;5;124mtool_choice\u001b[39m\u001b[38;5;124m\"\u001b[39m: tool_choice,\n\u001b[0;32m    599\u001b[0m                 \u001b[38;5;124m\"\u001b[39m\u001b[38;5;124mtools\u001b[39m\u001b[38;5;124m\"\u001b[39m: tools,\n\u001b[0;32m    600\u001b[0m                 \u001b[38;5;124m\"\u001b[39m\u001b[38;5;124mtop_logprobs\u001b[39m\u001b[38;5;124m\"\u001b[39m: top_logprobs,\n\u001b[0;32m    601\u001b[0m                 \u001b[38;5;124m\"\u001b[39m\u001b[38;5;124mtop_p\u001b[39m\u001b[38;5;124m\"\u001b[39m: top_p,\n\u001b[0;32m    602\u001b[0m                 \u001b[38;5;124m\"\u001b[39m\u001b[38;5;124muser\u001b[39m\u001b[38;5;124m\"\u001b[39m: user,\n\u001b[0;32m    603\u001b[0m             },\n\u001b[0;32m    604\u001b[0m             completion_create_params\u001b[38;5;241m.\u001b[39mCompletionCreateParams,\n\u001b[0;32m    605\u001b[0m         ),\n\u001b[0;32m    606\u001b[0m         options\u001b[38;5;241m=\u001b[39mmake_request_options(\n\u001b[0;32m    607\u001b[0m             extra_headers\u001b[38;5;241m=\u001b[39mextra_headers, extra_query\u001b[38;5;241m=\u001b[39mextra_query, extra_body\u001b[38;5;241m=\u001b[39mextra_body, timeout\u001b[38;5;241m=\u001b[39mtimeout\n\u001b[0;32m    608\u001b[0m         ),\n\u001b[0;32m    609\u001b[0m         cast_to\u001b[38;5;241m=\u001b[39mChatCompletion,\n\u001b[0;32m    610\u001b[0m         stream\u001b[38;5;241m=\u001b[39mstream \u001b[38;5;129;01mor\u001b[39;00m \u001b[38;5;28;01mFalse\u001b[39;00m,\n\u001b[0;32m    611\u001b[0m         stream_cls\u001b[38;5;241m=\u001b[39mStream[ChatCompletionChunk],\n\u001b[0;32m    612\u001b[0m     )\n",
      "File \u001b[1;32m~\\anaconda3\\Lib\\site-packages\\openai\\_base_client.py:1240\u001b[0m, in \u001b[0;36mSyncAPIClient.post\u001b[1;34m(self, path, cast_to, body, options, files, stream, stream_cls)\u001b[0m\n\u001b[0;32m   1226\u001b[0m \u001b[38;5;28;01mdef\u001b[39;00m \u001b[38;5;21mpost\u001b[39m(\n\u001b[0;32m   1227\u001b[0m     \u001b[38;5;28mself\u001b[39m,\n\u001b[0;32m   1228\u001b[0m     path: \u001b[38;5;28mstr\u001b[39m,\n\u001b[1;32m   (...)\u001b[0m\n\u001b[0;32m   1235\u001b[0m     stream_cls: \u001b[38;5;28mtype\u001b[39m[_StreamT] \u001b[38;5;241m|\u001b[39m \u001b[38;5;28;01mNone\u001b[39;00m \u001b[38;5;241m=\u001b[39m \u001b[38;5;28;01mNone\u001b[39;00m,\n\u001b[0;32m   1236\u001b[0m ) \u001b[38;5;241m-\u001b[39m\u001b[38;5;241m>\u001b[39m ResponseT \u001b[38;5;241m|\u001b[39m _StreamT:\n\u001b[0;32m   1237\u001b[0m     opts \u001b[38;5;241m=\u001b[39m FinalRequestOptions\u001b[38;5;241m.\u001b[39mconstruct(\n\u001b[0;32m   1238\u001b[0m         method\u001b[38;5;241m=\u001b[39m\u001b[38;5;124m\"\u001b[39m\u001b[38;5;124mpost\u001b[39m\u001b[38;5;124m\"\u001b[39m, url\u001b[38;5;241m=\u001b[39mpath, json_data\u001b[38;5;241m=\u001b[39mbody, files\u001b[38;5;241m=\u001b[39mto_httpx_files(files), \u001b[38;5;241m*\u001b[39m\u001b[38;5;241m*\u001b[39moptions\n\u001b[0;32m   1239\u001b[0m     )\n\u001b[1;32m-> 1240\u001b[0m     \u001b[38;5;28;01mreturn\u001b[39;00m cast(ResponseT, \u001b[38;5;28mself\u001b[39m\u001b[38;5;241m.\u001b[39mrequest(cast_to, opts, stream\u001b[38;5;241m=\u001b[39mstream, stream_cls\u001b[38;5;241m=\u001b[39mstream_cls))\n",
      "File \u001b[1;32m~\\anaconda3\\Lib\\site-packages\\openai\\_base_client.py:921\u001b[0m, in \u001b[0;36mSyncAPIClient.request\u001b[1;34m(self, cast_to, options, remaining_retries, stream, stream_cls)\u001b[0m\n\u001b[0;32m    912\u001b[0m \u001b[38;5;28;01mdef\u001b[39;00m \u001b[38;5;21mrequest\u001b[39m(\n\u001b[0;32m    913\u001b[0m     \u001b[38;5;28mself\u001b[39m,\n\u001b[0;32m    914\u001b[0m     cast_to: Type[ResponseT],\n\u001b[1;32m   (...)\u001b[0m\n\u001b[0;32m    919\u001b[0m     stream_cls: \u001b[38;5;28mtype\u001b[39m[_StreamT] \u001b[38;5;241m|\u001b[39m \u001b[38;5;28;01mNone\u001b[39;00m \u001b[38;5;241m=\u001b[39m \u001b[38;5;28;01mNone\u001b[39;00m,\n\u001b[0;32m    920\u001b[0m ) \u001b[38;5;241m-\u001b[39m\u001b[38;5;241m>\u001b[39m ResponseT \u001b[38;5;241m|\u001b[39m _StreamT:\n\u001b[1;32m--> 921\u001b[0m     \u001b[38;5;28;01mreturn\u001b[39;00m \u001b[38;5;28mself\u001b[39m\u001b[38;5;241m.\u001b[39m_request(\n\u001b[0;32m    922\u001b[0m         cast_to\u001b[38;5;241m=\u001b[39mcast_to,\n\u001b[0;32m    923\u001b[0m         options\u001b[38;5;241m=\u001b[39moptions,\n\u001b[0;32m    924\u001b[0m         stream\u001b[38;5;241m=\u001b[39mstream,\n\u001b[0;32m    925\u001b[0m         stream_cls\u001b[38;5;241m=\u001b[39mstream_cls,\n\u001b[0;32m    926\u001b[0m         remaining_retries\u001b[38;5;241m=\u001b[39mremaining_retries,\n\u001b[0;32m    927\u001b[0m     )\n",
      "File \u001b[1;32m~\\anaconda3\\Lib\\site-packages\\openai\\_base_client.py:1005\u001b[0m, in \u001b[0;36mSyncAPIClient._request\u001b[1;34m(self, cast_to, options, remaining_retries, stream, stream_cls)\u001b[0m\n\u001b[0;32m   1003\u001b[0m \u001b[38;5;28;01mif\u001b[39;00m retries \u001b[38;5;241m>\u001b[39m \u001b[38;5;241m0\u001b[39m \u001b[38;5;129;01mand\u001b[39;00m \u001b[38;5;28mself\u001b[39m\u001b[38;5;241m.\u001b[39m_should_retry(err\u001b[38;5;241m.\u001b[39mresponse):\n\u001b[0;32m   1004\u001b[0m     err\u001b[38;5;241m.\u001b[39mresponse\u001b[38;5;241m.\u001b[39mclose()\n\u001b[1;32m-> 1005\u001b[0m     \u001b[38;5;28;01mreturn\u001b[39;00m \u001b[38;5;28mself\u001b[39m\u001b[38;5;241m.\u001b[39m_retry_request(\n\u001b[0;32m   1006\u001b[0m         options,\n\u001b[0;32m   1007\u001b[0m         cast_to,\n\u001b[0;32m   1008\u001b[0m         retries,\n\u001b[0;32m   1009\u001b[0m         err\u001b[38;5;241m.\u001b[39mresponse\u001b[38;5;241m.\u001b[39mheaders,\n\u001b[0;32m   1010\u001b[0m         stream\u001b[38;5;241m=\u001b[39mstream,\n\u001b[0;32m   1011\u001b[0m         stream_cls\u001b[38;5;241m=\u001b[39mstream_cls,\n\u001b[0;32m   1012\u001b[0m     )\n\u001b[0;32m   1014\u001b[0m \u001b[38;5;66;03m# If the response is streamed then we need to explicitly read the response\u001b[39;00m\n\u001b[0;32m   1015\u001b[0m \u001b[38;5;66;03m# to completion before attempting to access the response text.\u001b[39;00m\n\u001b[0;32m   1016\u001b[0m \u001b[38;5;28;01mif\u001b[39;00m \u001b[38;5;129;01mnot\u001b[39;00m err\u001b[38;5;241m.\u001b[39mresponse\u001b[38;5;241m.\u001b[39mis_closed:\n",
      "File \u001b[1;32m~\\anaconda3\\Lib\\site-packages\\openai\\_base_client.py:1053\u001b[0m, in \u001b[0;36mSyncAPIClient._retry_request\u001b[1;34m(self, options, cast_to, remaining_retries, response_headers, stream, stream_cls)\u001b[0m\n\u001b[0;32m   1049\u001b[0m \u001b[38;5;66;03m# In a synchronous context we are blocking the entire thread. Up to the library user to run the client in a\u001b[39;00m\n\u001b[0;32m   1050\u001b[0m \u001b[38;5;66;03m# different thread if necessary.\u001b[39;00m\n\u001b[0;32m   1051\u001b[0m time\u001b[38;5;241m.\u001b[39msleep(timeout)\n\u001b[1;32m-> 1053\u001b[0m \u001b[38;5;28;01mreturn\u001b[39;00m \u001b[38;5;28mself\u001b[39m\u001b[38;5;241m.\u001b[39m_request(\n\u001b[0;32m   1054\u001b[0m     options\u001b[38;5;241m=\u001b[39moptions,\n\u001b[0;32m   1055\u001b[0m     cast_to\u001b[38;5;241m=\u001b[39mcast_to,\n\u001b[0;32m   1056\u001b[0m     remaining_retries\u001b[38;5;241m=\u001b[39mremaining,\n\u001b[0;32m   1057\u001b[0m     stream\u001b[38;5;241m=\u001b[39mstream,\n\u001b[0;32m   1058\u001b[0m     stream_cls\u001b[38;5;241m=\u001b[39mstream_cls,\n\u001b[0;32m   1059\u001b[0m )\n",
      "File \u001b[1;32m~\\anaconda3\\Lib\\site-packages\\openai\\_base_client.py:1005\u001b[0m, in \u001b[0;36mSyncAPIClient._request\u001b[1;34m(self, cast_to, options, remaining_retries, stream, stream_cls)\u001b[0m\n\u001b[0;32m   1003\u001b[0m \u001b[38;5;28;01mif\u001b[39;00m retries \u001b[38;5;241m>\u001b[39m \u001b[38;5;241m0\u001b[39m \u001b[38;5;129;01mand\u001b[39;00m \u001b[38;5;28mself\u001b[39m\u001b[38;5;241m.\u001b[39m_should_retry(err\u001b[38;5;241m.\u001b[39mresponse):\n\u001b[0;32m   1004\u001b[0m     err\u001b[38;5;241m.\u001b[39mresponse\u001b[38;5;241m.\u001b[39mclose()\n\u001b[1;32m-> 1005\u001b[0m     \u001b[38;5;28;01mreturn\u001b[39;00m \u001b[38;5;28mself\u001b[39m\u001b[38;5;241m.\u001b[39m_retry_request(\n\u001b[0;32m   1006\u001b[0m         options,\n\u001b[0;32m   1007\u001b[0m         cast_to,\n\u001b[0;32m   1008\u001b[0m         retries,\n\u001b[0;32m   1009\u001b[0m         err\u001b[38;5;241m.\u001b[39mresponse\u001b[38;5;241m.\u001b[39mheaders,\n\u001b[0;32m   1010\u001b[0m         stream\u001b[38;5;241m=\u001b[39mstream,\n\u001b[0;32m   1011\u001b[0m         stream_cls\u001b[38;5;241m=\u001b[39mstream_cls,\n\u001b[0;32m   1012\u001b[0m     )\n\u001b[0;32m   1014\u001b[0m \u001b[38;5;66;03m# If the response is streamed then we need to explicitly read the response\u001b[39;00m\n\u001b[0;32m   1015\u001b[0m \u001b[38;5;66;03m# to completion before attempting to access the response text.\u001b[39;00m\n\u001b[0;32m   1016\u001b[0m \u001b[38;5;28;01mif\u001b[39;00m \u001b[38;5;129;01mnot\u001b[39;00m err\u001b[38;5;241m.\u001b[39mresponse\u001b[38;5;241m.\u001b[39mis_closed:\n",
      "File \u001b[1;32m~\\anaconda3\\Lib\\site-packages\\openai\\_base_client.py:1053\u001b[0m, in \u001b[0;36mSyncAPIClient._retry_request\u001b[1;34m(self, options, cast_to, remaining_retries, response_headers, stream, stream_cls)\u001b[0m\n\u001b[0;32m   1049\u001b[0m \u001b[38;5;66;03m# In a synchronous context we are blocking the entire thread. Up to the library user to run the client in a\u001b[39;00m\n\u001b[0;32m   1050\u001b[0m \u001b[38;5;66;03m# different thread if necessary.\u001b[39;00m\n\u001b[0;32m   1051\u001b[0m time\u001b[38;5;241m.\u001b[39msleep(timeout)\n\u001b[1;32m-> 1053\u001b[0m \u001b[38;5;28;01mreturn\u001b[39;00m \u001b[38;5;28mself\u001b[39m\u001b[38;5;241m.\u001b[39m_request(\n\u001b[0;32m   1054\u001b[0m     options\u001b[38;5;241m=\u001b[39moptions,\n\u001b[0;32m   1055\u001b[0m     cast_to\u001b[38;5;241m=\u001b[39mcast_to,\n\u001b[0;32m   1056\u001b[0m     remaining_retries\u001b[38;5;241m=\u001b[39mremaining,\n\u001b[0;32m   1057\u001b[0m     stream\u001b[38;5;241m=\u001b[39mstream,\n\u001b[0;32m   1058\u001b[0m     stream_cls\u001b[38;5;241m=\u001b[39mstream_cls,\n\u001b[0;32m   1059\u001b[0m )\n",
      "File \u001b[1;32m~\\anaconda3\\Lib\\site-packages\\openai\\_base_client.py:1020\u001b[0m, in \u001b[0;36mSyncAPIClient._request\u001b[1;34m(self, cast_to, options, remaining_retries, stream, stream_cls)\u001b[0m\n\u001b[0;32m   1017\u001b[0m         err\u001b[38;5;241m.\u001b[39mresponse\u001b[38;5;241m.\u001b[39mread()\n\u001b[0;32m   1019\u001b[0m     log\u001b[38;5;241m.\u001b[39mdebug(\u001b[38;5;124m\"\u001b[39m\u001b[38;5;124mRe-raising status error\u001b[39m\u001b[38;5;124m\"\u001b[39m)\n\u001b[1;32m-> 1020\u001b[0m     \u001b[38;5;28;01mraise\u001b[39;00m \u001b[38;5;28mself\u001b[39m\u001b[38;5;241m.\u001b[39m_make_status_error_from_response(err\u001b[38;5;241m.\u001b[39mresponse) \u001b[38;5;28;01mfrom\u001b[39;00m \u001b[38;5;28;01mNone\u001b[39;00m\n\u001b[0;32m   1022\u001b[0m \u001b[38;5;28;01mreturn\u001b[39;00m \u001b[38;5;28mself\u001b[39m\u001b[38;5;241m.\u001b[39m_process_response(\n\u001b[0;32m   1023\u001b[0m     cast_to\u001b[38;5;241m=\u001b[39mcast_to,\n\u001b[0;32m   1024\u001b[0m     options\u001b[38;5;241m=\u001b[39moptions,\n\u001b[1;32m   (...)\u001b[0m\n\u001b[0;32m   1027\u001b[0m     stream_cls\u001b[38;5;241m=\u001b[39mstream_cls,\n\u001b[0;32m   1028\u001b[0m )\n",
      "\u001b[1;31mRateLimitError\u001b[0m: Error code: 429 - {'error': {'message': 'You exceeded your current quota, please check your plan and billing details. For more information on this error, read the docs: https://platform.openai.com/docs/guides/error-codes/api-errors.', 'type': 'insufficient_quota', 'param': None, 'code': 'insufficient_quota'}}"
     ]
    }
   ],
   "source": [
    "def generate_aggregated_comments(dataframe, api_key, model=\"gpt-3.5-turbo\"):\n",
    "    # Concaténation de tous les tokens en une seule liste\n",
    "    all_tokens = []\n",
    "    for tokens in dataframe['tokens']:\n",
    "        all_tokens.extend(tokens)\n",
    "    \n",
    "    # Conversion de la liste de tokens en une chaîne de caractères\n",
    "    token_string = \" \".join(all_tokens)\n",
    "    \n",
    "    # Initialisation du client OpenAI\n",
    "    client = openai.OpenAI(api_key=api_key)\n",
    "    \n",
    "    # Générer un commentaire positif\n",
    "    positive_response = client.chat.completions.create(\n",
    "        model=model,\n",
    "        messages=[{\"role\": \"user\", \"content\": f\"Generate a positive comment based on: {token_string}\"}]\n",
    "    )\n",
    "    \n",
    "    # Générer un commentaire négatif\n",
    "    negative_response = client.chat.completions.create(\n",
    "        model=model,\n",
    "        messages=[{\"role\": \"user\", \"content\": f\"Generate a negative comment based on: {token_string}\"}]\n",
    "    )\n",
    "    \n",
    "    return positive_response.choices[0].message['content'], negative_response.choices[0].message['content']\n",
    "\n",
    "# Exemple d'utilisation\n",
    "api_key = \"sk-proj-17CQuXWNpWoNU2vCjxXUT3BlbkFJ6KFmtiG506MzO1QCcbBy\"\n",
    "positive_comment, negative_comment = generate_aggregated_comments(MG, api_key)\n",
    "print(\"Commentaire Positif:\", positive_comment)\n",
    "print(\"Commentaire Négatif:\", negative_comment)\n"
   ]
  },
  {
   "cell_type": "code",
   "execution_count": 18,
   "metadata": {},
   "outputs": [],
   "source": [
    "def generate_comments_for_each_list(dataframe, model=\"gpt-3.5-turbo\", api_key=\"Votre_Clé_API\"):\n",
    "    \"\"\"\n",
    "    Génère un commentaire positif et un commentaire négatif pour chaque liste de tokens dans un DataFrame.\n",
    "    \n",
    "    Args:\n",
    "    dataframe (DataFrame): DataFrame contenant les listes de tokens.\n",
    "    model (str): Modèle GPT à utiliser.\n",
    "    api_key (str): Clé API pour OpenAI.\n",
    "    \n",
    "    Returns:\n",
    "    DataFrame: DataFrame contenant les commentaires positifs et négatifs générés pour chaque liste.\n",
    "    \"\"\"\n",
    "    # Initialisation du client OpenAI avec la clé API\n",
    "    client = openai.OpenAI(api_key=api_key)\n",
    "    comments = []\n",
    "\n",
    "    for token_list in dataframe['tokens']:\n",
    "        if token_list:  # Assure que la liste de tokens n'est pas vide\n",
    "            context = \" \".join(token_list)\n",
    "\n",
    "            # Générer un commentaire positif\n",
    "            positive_response = client.chat.completions.create(\n",
    "                model=model,\n",
    "                messages=[{\"role\": \"user\", \"content\": f\"Commentaire positif basé sur les mots-clés suivants: {context}\"}]\n",
    "            )\n",
    "\n",
    "            # Générer un commentaire négatif\n",
    "            negative_response = client.chat.completions.create(\n",
    "                model=model,\n",
    "                messages=[{\"role\": \"user\", \"content\": f\"Commentaire négatif basé sur les mots-clés suivants: {context}\"}]\n",
    "            )\n",
    "\n",
    "            # Ajouter les résultats au tableau des commentaires\n",
    "            comments.append({\n",
    "                \"tokens\": context,\n",
    "                \"positive_comment\": positive_response['choices'][0]['message']['content'].strip(),\n",
    "                \"negative_comment\": negative_response['choices'][0]['message']['content'].strip()\n",
    "            })\n",
    "\n",
    "    return pd.DataFrame(comments)\n",
    "\n"
   ]
  },
  {
   "cell_type": "code",
   "execution_count": 19,
   "metadata": {},
   "outputs": [
    {
     "name": "stdout",
     "output_type": "stream",
     "text": [
      "1.25.0\n"
     ]
    }
   ],
   "source": [
    "print(openai.__version__)"
   ]
  },
  {
   "cell_type": "code",
   "execution_count": 20,
   "metadata": {},
   "outputs": [
    {
     "ename": "RateLimitError",
     "evalue": "Error code: 429 - {'error': {'message': 'You exceeded your current quota, please check your plan and billing details. For more information on this error, read the docs: https://platform.openai.com/docs/guides/error-codes/api-errors.', 'type': 'insufficient_quota', 'param': None, 'code': 'insufficient_quota'}}",
     "output_type": "error",
     "traceback": [
      "\u001b[1;31m---------------------------------------------------------------------------\u001b[0m",
      "\u001b[1;31mRateLimitError\u001b[0m                            Traceback (most recent call last)",
      "Cell \u001b[1;32mIn[20], line 5\u001b[0m\n\u001b[0;32m      2\u001b[0m api_key \u001b[38;5;241m=\u001b[39m \u001b[38;5;124m\"\u001b[39m\u001b[38;5;124msk-proj-17CQuXWNpWoNU2vCjxXUT3BlbkFJ6KFmtiG506MzO1QCcbBy\u001b[39m\u001b[38;5;124m\"\u001b[39m\n\u001b[0;32m      4\u001b[0m \u001b[38;5;66;03m# Appel de la fonction pour générer les commentaires\u001b[39;00m\n\u001b[1;32m----> 5\u001b[0m results \u001b[38;5;241m=\u001b[39m generate_comments_for_each_list(MG, model\u001b[38;5;241m=\u001b[39m\u001b[38;5;124m\"\u001b[39m\u001b[38;5;124mgpt-3.5-turbo\u001b[39m\u001b[38;5;124m\"\u001b[39m, api_key\u001b[38;5;241m=\u001b[39mapi_key)\n\u001b[0;32m      7\u001b[0m \u001b[38;5;66;03m# Afficher les résultats\u001b[39;00m\n\u001b[0;32m      8\u001b[0m \u001b[38;5;28mprint\u001b[39m(results)\n",
      "Cell \u001b[1;32mIn[18], line 22\u001b[0m, in \u001b[0;36mgenerate_comments_for_each_list\u001b[1;34m(dataframe, model, api_key)\u001b[0m\n\u001b[0;32m     19\u001b[0m context \u001b[38;5;241m=\u001b[39m \u001b[38;5;124m\"\u001b[39m\u001b[38;5;124m \u001b[39m\u001b[38;5;124m\"\u001b[39m\u001b[38;5;241m.\u001b[39mjoin(token_list)\n\u001b[0;32m     21\u001b[0m \u001b[38;5;66;03m# Générer un commentaire positif\u001b[39;00m\n\u001b[1;32m---> 22\u001b[0m positive_response \u001b[38;5;241m=\u001b[39m client\u001b[38;5;241m.\u001b[39mchat\u001b[38;5;241m.\u001b[39mcompletions\u001b[38;5;241m.\u001b[39mcreate(\n\u001b[0;32m     23\u001b[0m     model\u001b[38;5;241m=\u001b[39mmodel,\n\u001b[0;32m     24\u001b[0m     messages\u001b[38;5;241m=\u001b[39m[{\u001b[38;5;124m\"\u001b[39m\u001b[38;5;124mrole\u001b[39m\u001b[38;5;124m\"\u001b[39m: \u001b[38;5;124m\"\u001b[39m\u001b[38;5;124muser\u001b[39m\u001b[38;5;124m\"\u001b[39m, \u001b[38;5;124m\"\u001b[39m\u001b[38;5;124mcontent\u001b[39m\u001b[38;5;124m\"\u001b[39m: \u001b[38;5;124mf\u001b[39m\u001b[38;5;124m\"\u001b[39m\u001b[38;5;124mCommentaire positif basé sur les mots-clés suivants: \u001b[39m\u001b[38;5;132;01m{\u001b[39;00mcontext\u001b[38;5;132;01m}\u001b[39;00m\u001b[38;5;124m\"\u001b[39m}]\n\u001b[0;32m     25\u001b[0m )\n\u001b[0;32m     27\u001b[0m \u001b[38;5;66;03m# Générer un commentaire négatif\u001b[39;00m\n\u001b[0;32m     28\u001b[0m negative_response \u001b[38;5;241m=\u001b[39m client\u001b[38;5;241m.\u001b[39mchat\u001b[38;5;241m.\u001b[39mcompletions\u001b[38;5;241m.\u001b[39mcreate(\n\u001b[0;32m     29\u001b[0m     model\u001b[38;5;241m=\u001b[39mmodel,\n\u001b[0;32m     30\u001b[0m     messages\u001b[38;5;241m=\u001b[39m[{\u001b[38;5;124m\"\u001b[39m\u001b[38;5;124mrole\u001b[39m\u001b[38;5;124m\"\u001b[39m: \u001b[38;5;124m\"\u001b[39m\u001b[38;5;124muser\u001b[39m\u001b[38;5;124m\"\u001b[39m, \u001b[38;5;124m\"\u001b[39m\u001b[38;5;124mcontent\u001b[39m\u001b[38;5;124m\"\u001b[39m: \u001b[38;5;124mf\u001b[39m\u001b[38;5;124m\"\u001b[39m\u001b[38;5;124mCommentaire négatif basé sur les mots-clés suivants: \u001b[39m\u001b[38;5;132;01m{\u001b[39;00mcontext\u001b[38;5;132;01m}\u001b[39;00m\u001b[38;5;124m\"\u001b[39m}]\n\u001b[0;32m     31\u001b[0m )\n",
      "File \u001b[1;32m~\\anaconda3\\Lib\\site-packages\\openai\\_utils\\_utils.py:277\u001b[0m, in \u001b[0;36mrequired_args.<locals>.inner.<locals>.wrapper\u001b[1;34m(*args, **kwargs)\u001b[0m\n\u001b[0;32m    275\u001b[0m             msg \u001b[38;5;241m=\u001b[39m \u001b[38;5;124mf\u001b[39m\u001b[38;5;124m\"\u001b[39m\u001b[38;5;124mMissing required argument: \u001b[39m\u001b[38;5;132;01m{\u001b[39;00mquote(missing[\u001b[38;5;241m0\u001b[39m])\u001b[38;5;132;01m}\u001b[39;00m\u001b[38;5;124m\"\u001b[39m\n\u001b[0;32m    276\u001b[0m     \u001b[38;5;28;01mraise\u001b[39;00m \u001b[38;5;167;01mTypeError\u001b[39;00m(msg)\n\u001b[1;32m--> 277\u001b[0m \u001b[38;5;28;01mreturn\u001b[39;00m func(\u001b[38;5;241m*\u001b[39margs, \u001b[38;5;241m*\u001b[39m\u001b[38;5;241m*\u001b[39mkwargs)\n",
      "File \u001b[1;32m~\\anaconda3\\Lib\\site-packages\\openai\\resources\\chat\\completions.py:579\u001b[0m, in \u001b[0;36mCompletions.create\u001b[1;34m(self, messages, model, frequency_penalty, function_call, functions, logit_bias, logprobs, max_tokens, n, presence_penalty, response_format, seed, stop, stream, temperature, tool_choice, tools, top_logprobs, top_p, user, extra_headers, extra_query, extra_body, timeout)\u001b[0m\n\u001b[0;32m    548\u001b[0m \u001b[38;5;129m@required_args\u001b[39m([\u001b[38;5;124m\"\u001b[39m\u001b[38;5;124mmessages\u001b[39m\u001b[38;5;124m\"\u001b[39m, \u001b[38;5;124m\"\u001b[39m\u001b[38;5;124mmodel\u001b[39m\u001b[38;5;124m\"\u001b[39m], [\u001b[38;5;124m\"\u001b[39m\u001b[38;5;124mmessages\u001b[39m\u001b[38;5;124m\"\u001b[39m, \u001b[38;5;124m\"\u001b[39m\u001b[38;5;124mmodel\u001b[39m\u001b[38;5;124m\"\u001b[39m, \u001b[38;5;124m\"\u001b[39m\u001b[38;5;124mstream\u001b[39m\u001b[38;5;124m\"\u001b[39m])\n\u001b[0;32m    549\u001b[0m \u001b[38;5;28;01mdef\u001b[39;00m \u001b[38;5;21mcreate\u001b[39m(\n\u001b[0;32m    550\u001b[0m     \u001b[38;5;28mself\u001b[39m,\n\u001b[1;32m   (...)\u001b[0m\n\u001b[0;32m    577\u001b[0m     timeout: \u001b[38;5;28mfloat\u001b[39m \u001b[38;5;241m|\u001b[39m httpx\u001b[38;5;241m.\u001b[39mTimeout \u001b[38;5;241m|\u001b[39m \u001b[38;5;28;01mNone\u001b[39;00m \u001b[38;5;241m|\u001b[39m NotGiven \u001b[38;5;241m=\u001b[39m NOT_GIVEN,\n\u001b[0;32m    578\u001b[0m ) \u001b[38;5;241m-\u001b[39m\u001b[38;5;241m>\u001b[39m ChatCompletion \u001b[38;5;241m|\u001b[39m Stream[ChatCompletionChunk]:\n\u001b[1;32m--> 579\u001b[0m     \u001b[38;5;28;01mreturn\u001b[39;00m \u001b[38;5;28mself\u001b[39m\u001b[38;5;241m.\u001b[39m_post(\n\u001b[0;32m    580\u001b[0m         \u001b[38;5;124m\"\u001b[39m\u001b[38;5;124m/chat/completions\u001b[39m\u001b[38;5;124m\"\u001b[39m,\n\u001b[0;32m    581\u001b[0m         body\u001b[38;5;241m=\u001b[39mmaybe_transform(\n\u001b[0;32m    582\u001b[0m             {\n\u001b[0;32m    583\u001b[0m                 \u001b[38;5;124m\"\u001b[39m\u001b[38;5;124mmessages\u001b[39m\u001b[38;5;124m\"\u001b[39m: messages,\n\u001b[0;32m    584\u001b[0m                 \u001b[38;5;124m\"\u001b[39m\u001b[38;5;124mmodel\u001b[39m\u001b[38;5;124m\"\u001b[39m: model,\n\u001b[0;32m    585\u001b[0m                 \u001b[38;5;124m\"\u001b[39m\u001b[38;5;124mfrequency_penalty\u001b[39m\u001b[38;5;124m\"\u001b[39m: frequency_penalty,\n\u001b[0;32m    586\u001b[0m                 \u001b[38;5;124m\"\u001b[39m\u001b[38;5;124mfunction_call\u001b[39m\u001b[38;5;124m\"\u001b[39m: function_call,\n\u001b[0;32m    587\u001b[0m                 \u001b[38;5;124m\"\u001b[39m\u001b[38;5;124mfunctions\u001b[39m\u001b[38;5;124m\"\u001b[39m: functions,\n\u001b[0;32m    588\u001b[0m                 \u001b[38;5;124m\"\u001b[39m\u001b[38;5;124mlogit_bias\u001b[39m\u001b[38;5;124m\"\u001b[39m: logit_bias,\n\u001b[0;32m    589\u001b[0m                 \u001b[38;5;124m\"\u001b[39m\u001b[38;5;124mlogprobs\u001b[39m\u001b[38;5;124m\"\u001b[39m: logprobs,\n\u001b[0;32m    590\u001b[0m                 \u001b[38;5;124m\"\u001b[39m\u001b[38;5;124mmax_tokens\u001b[39m\u001b[38;5;124m\"\u001b[39m: max_tokens,\n\u001b[0;32m    591\u001b[0m                 \u001b[38;5;124m\"\u001b[39m\u001b[38;5;124mn\u001b[39m\u001b[38;5;124m\"\u001b[39m: n,\n\u001b[0;32m    592\u001b[0m                 \u001b[38;5;124m\"\u001b[39m\u001b[38;5;124mpresence_penalty\u001b[39m\u001b[38;5;124m\"\u001b[39m: presence_penalty,\n\u001b[0;32m    593\u001b[0m                 \u001b[38;5;124m\"\u001b[39m\u001b[38;5;124mresponse_format\u001b[39m\u001b[38;5;124m\"\u001b[39m: response_format,\n\u001b[0;32m    594\u001b[0m                 \u001b[38;5;124m\"\u001b[39m\u001b[38;5;124mseed\u001b[39m\u001b[38;5;124m\"\u001b[39m: seed,\n\u001b[0;32m    595\u001b[0m                 \u001b[38;5;124m\"\u001b[39m\u001b[38;5;124mstop\u001b[39m\u001b[38;5;124m\"\u001b[39m: stop,\n\u001b[0;32m    596\u001b[0m                 \u001b[38;5;124m\"\u001b[39m\u001b[38;5;124mstream\u001b[39m\u001b[38;5;124m\"\u001b[39m: stream,\n\u001b[0;32m    597\u001b[0m                 \u001b[38;5;124m\"\u001b[39m\u001b[38;5;124mtemperature\u001b[39m\u001b[38;5;124m\"\u001b[39m: temperature,\n\u001b[0;32m    598\u001b[0m                 \u001b[38;5;124m\"\u001b[39m\u001b[38;5;124mtool_choice\u001b[39m\u001b[38;5;124m\"\u001b[39m: tool_choice,\n\u001b[0;32m    599\u001b[0m                 \u001b[38;5;124m\"\u001b[39m\u001b[38;5;124mtools\u001b[39m\u001b[38;5;124m\"\u001b[39m: tools,\n\u001b[0;32m    600\u001b[0m                 \u001b[38;5;124m\"\u001b[39m\u001b[38;5;124mtop_logprobs\u001b[39m\u001b[38;5;124m\"\u001b[39m: top_logprobs,\n\u001b[0;32m    601\u001b[0m                 \u001b[38;5;124m\"\u001b[39m\u001b[38;5;124mtop_p\u001b[39m\u001b[38;5;124m\"\u001b[39m: top_p,\n\u001b[0;32m    602\u001b[0m                 \u001b[38;5;124m\"\u001b[39m\u001b[38;5;124muser\u001b[39m\u001b[38;5;124m\"\u001b[39m: user,\n\u001b[0;32m    603\u001b[0m             },\n\u001b[0;32m    604\u001b[0m             completion_create_params\u001b[38;5;241m.\u001b[39mCompletionCreateParams,\n\u001b[0;32m    605\u001b[0m         ),\n\u001b[0;32m    606\u001b[0m         options\u001b[38;5;241m=\u001b[39mmake_request_options(\n\u001b[0;32m    607\u001b[0m             extra_headers\u001b[38;5;241m=\u001b[39mextra_headers, extra_query\u001b[38;5;241m=\u001b[39mextra_query, extra_body\u001b[38;5;241m=\u001b[39mextra_body, timeout\u001b[38;5;241m=\u001b[39mtimeout\n\u001b[0;32m    608\u001b[0m         ),\n\u001b[0;32m    609\u001b[0m         cast_to\u001b[38;5;241m=\u001b[39mChatCompletion,\n\u001b[0;32m    610\u001b[0m         stream\u001b[38;5;241m=\u001b[39mstream \u001b[38;5;129;01mor\u001b[39;00m \u001b[38;5;28;01mFalse\u001b[39;00m,\n\u001b[0;32m    611\u001b[0m         stream_cls\u001b[38;5;241m=\u001b[39mStream[ChatCompletionChunk],\n\u001b[0;32m    612\u001b[0m     )\n",
      "File \u001b[1;32m~\\anaconda3\\Lib\\site-packages\\openai\\_base_client.py:1240\u001b[0m, in \u001b[0;36mSyncAPIClient.post\u001b[1;34m(self, path, cast_to, body, options, files, stream, stream_cls)\u001b[0m\n\u001b[0;32m   1226\u001b[0m \u001b[38;5;28;01mdef\u001b[39;00m \u001b[38;5;21mpost\u001b[39m(\n\u001b[0;32m   1227\u001b[0m     \u001b[38;5;28mself\u001b[39m,\n\u001b[0;32m   1228\u001b[0m     path: \u001b[38;5;28mstr\u001b[39m,\n\u001b[1;32m   (...)\u001b[0m\n\u001b[0;32m   1235\u001b[0m     stream_cls: \u001b[38;5;28mtype\u001b[39m[_StreamT] \u001b[38;5;241m|\u001b[39m \u001b[38;5;28;01mNone\u001b[39;00m \u001b[38;5;241m=\u001b[39m \u001b[38;5;28;01mNone\u001b[39;00m,\n\u001b[0;32m   1236\u001b[0m ) \u001b[38;5;241m-\u001b[39m\u001b[38;5;241m>\u001b[39m ResponseT \u001b[38;5;241m|\u001b[39m _StreamT:\n\u001b[0;32m   1237\u001b[0m     opts \u001b[38;5;241m=\u001b[39m FinalRequestOptions\u001b[38;5;241m.\u001b[39mconstruct(\n\u001b[0;32m   1238\u001b[0m         method\u001b[38;5;241m=\u001b[39m\u001b[38;5;124m\"\u001b[39m\u001b[38;5;124mpost\u001b[39m\u001b[38;5;124m\"\u001b[39m, url\u001b[38;5;241m=\u001b[39mpath, json_data\u001b[38;5;241m=\u001b[39mbody, files\u001b[38;5;241m=\u001b[39mto_httpx_files(files), \u001b[38;5;241m*\u001b[39m\u001b[38;5;241m*\u001b[39moptions\n\u001b[0;32m   1239\u001b[0m     )\n\u001b[1;32m-> 1240\u001b[0m     \u001b[38;5;28;01mreturn\u001b[39;00m cast(ResponseT, \u001b[38;5;28mself\u001b[39m\u001b[38;5;241m.\u001b[39mrequest(cast_to, opts, stream\u001b[38;5;241m=\u001b[39mstream, stream_cls\u001b[38;5;241m=\u001b[39mstream_cls))\n",
      "File \u001b[1;32m~\\anaconda3\\Lib\\site-packages\\openai\\_base_client.py:921\u001b[0m, in \u001b[0;36mSyncAPIClient.request\u001b[1;34m(self, cast_to, options, remaining_retries, stream, stream_cls)\u001b[0m\n\u001b[0;32m    912\u001b[0m \u001b[38;5;28;01mdef\u001b[39;00m \u001b[38;5;21mrequest\u001b[39m(\n\u001b[0;32m    913\u001b[0m     \u001b[38;5;28mself\u001b[39m,\n\u001b[0;32m    914\u001b[0m     cast_to: Type[ResponseT],\n\u001b[1;32m   (...)\u001b[0m\n\u001b[0;32m    919\u001b[0m     stream_cls: \u001b[38;5;28mtype\u001b[39m[_StreamT] \u001b[38;5;241m|\u001b[39m \u001b[38;5;28;01mNone\u001b[39;00m \u001b[38;5;241m=\u001b[39m \u001b[38;5;28;01mNone\u001b[39;00m,\n\u001b[0;32m    920\u001b[0m ) \u001b[38;5;241m-\u001b[39m\u001b[38;5;241m>\u001b[39m ResponseT \u001b[38;5;241m|\u001b[39m _StreamT:\n\u001b[1;32m--> 921\u001b[0m     \u001b[38;5;28;01mreturn\u001b[39;00m \u001b[38;5;28mself\u001b[39m\u001b[38;5;241m.\u001b[39m_request(\n\u001b[0;32m    922\u001b[0m         cast_to\u001b[38;5;241m=\u001b[39mcast_to,\n\u001b[0;32m    923\u001b[0m         options\u001b[38;5;241m=\u001b[39moptions,\n\u001b[0;32m    924\u001b[0m         stream\u001b[38;5;241m=\u001b[39mstream,\n\u001b[0;32m    925\u001b[0m         stream_cls\u001b[38;5;241m=\u001b[39mstream_cls,\n\u001b[0;32m    926\u001b[0m         remaining_retries\u001b[38;5;241m=\u001b[39mremaining_retries,\n\u001b[0;32m    927\u001b[0m     )\n",
      "File \u001b[1;32m~\\anaconda3\\Lib\\site-packages\\openai\\_base_client.py:1005\u001b[0m, in \u001b[0;36mSyncAPIClient._request\u001b[1;34m(self, cast_to, options, remaining_retries, stream, stream_cls)\u001b[0m\n\u001b[0;32m   1003\u001b[0m \u001b[38;5;28;01mif\u001b[39;00m retries \u001b[38;5;241m>\u001b[39m \u001b[38;5;241m0\u001b[39m \u001b[38;5;129;01mand\u001b[39;00m \u001b[38;5;28mself\u001b[39m\u001b[38;5;241m.\u001b[39m_should_retry(err\u001b[38;5;241m.\u001b[39mresponse):\n\u001b[0;32m   1004\u001b[0m     err\u001b[38;5;241m.\u001b[39mresponse\u001b[38;5;241m.\u001b[39mclose()\n\u001b[1;32m-> 1005\u001b[0m     \u001b[38;5;28;01mreturn\u001b[39;00m \u001b[38;5;28mself\u001b[39m\u001b[38;5;241m.\u001b[39m_retry_request(\n\u001b[0;32m   1006\u001b[0m         options,\n\u001b[0;32m   1007\u001b[0m         cast_to,\n\u001b[0;32m   1008\u001b[0m         retries,\n\u001b[0;32m   1009\u001b[0m         err\u001b[38;5;241m.\u001b[39mresponse\u001b[38;5;241m.\u001b[39mheaders,\n\u001b[0;32m   1010\u001b[0m         stream\u001b[38;5;241m=\u001b[39mstream,\n\u001b[0;32m   1011\u001b[0m         stream_cls\u001b[38;5;241m=\u001b[39mstream_cls,\n\u001b[0;32m   1012\u001b[0m     )\n\u001b[0;32m   1014\u001b[0m \u001b[38;5;66;03m# If the response is streamed then we need to explicitly read the response\u001b[39;00m\n\u001b[0;32m   1015\u001b[0m \u001b[38;5;66;03m# to completion before attempting to access the response text.\u001b[39;00m\n\u001b[0;32m   1016\u001b[0m \u001b[38;5;28;01mif\u001b[39;00m \u001b[38;5;129;01mnot\u001b[39;00m err\u001b[38;5;241m.\u001b[39mresponse\u001b[38;5;241m.\u001b[39mis_closed:\n",
      "File \u001b[1;32m~\\anaconda3\\Lib\\site-packages\\openai\\_base_client.py:1053\u001b[0m, in \u001b[0;36mSyncAPIClient._retry_request\u001b[1;34m(self, options, cast_to, remaining_retries, response_headers, stream, stream_cls)\u001b[0m\n\u001b[0;32m   1049\u001b[0m \u001b[38;5;66;03m# In a synchronous context we are blocking the entire thread. Up to the library user to run the client in a\u001b[39;00m\n\u001b[0;32m   1050\u001b[0m \u001b[38;5;66;03m# different thread if necessary.\u001b[39;00m\n\u001b[0;32m   1051\u001b[0m time\u001b[38;5;241m.\u001b[39msleep(timeout)\n\u001b[1;32m-> 1053\u001b[0m \u001b[38;5;28;01mreturn\u001b[39;00m \u001b[38;5;28mself\u001b[39m\u001b[38;5;241m.\u001b[39m_request(\n\u001b[0;32m   1054\u001b[0m     options\u001b[38;5;241m=\u001b[39moptions,\n\u001b[0;32m   1055\u001b[0m     cast_to\u001b[38;5;241m=\u001b[39mcast_to,\n\u001b[0;32m   1056\u001b[0m     remaining_retries\u001b[38;5;241m=\u001b[39mremaining,\n\u001b[0;32m   1057\u001b[0m     stream\u001b[38;5;241m=\u001b[39mstream,\n\u001b[0;32m   1058\u001b[0m     stream_cls\u001b[38;5;241m=\u001b[39mstream_cls,\n\u001b[0;32m   1059\u001b[0m )\n",
      "File \u001b[1;32m~\\anaconda3\\Lib\\site-packages\\openai\\_base_client.py:1005\u001b[0m, in \u001b[0;36mSyncAPIClient._request\u001b[1;34m(self, cast_to, options, remaining_retries, stream, stream_cls)\u001b[0m\n\u001b[0;32m   1003\u001b[0m \u001b[38;5;28;01mif\u001b[39;00m retries \u001b[38;5;241m>\u001b[39m \u001b[38;5;241m0\u001b[39m \u001b[38;5;129;01mand\u001b[39;00m \u001b[38;5;28mself\u001b[39m\u001b[38;5;241m.\u001b[39m_should_retry(err\u001b[38;5;241m.\u001b[39mresponse):\n\u001b[0;32m   1004\u001b[0m     err\u001b[38;5;241m.\u001b[39mresponse\u001b[38;5;241m.\u001b[39mclose()\n\u001b[1;32m-> 1005\u001b[0m     \u001b[38;5;28;01mreturn\u001b[39;00m \u001b[38;5;28mself\u001b[39m\u001b[38;5;241m.\u001b[39m_retry_request(\n\u001b[0;32m   1006\u001b[0m         options,\n\u001b[0;32m   1007\u001b[0m         cast_to,\n\u001b[0;32m   1008\u001b[0m         retries,\n\u001b[0;32m   1009\u001b[0m         err\u001b[38;5;241m.\u001b[39mresponse\u001b[38;5;241m.\u001b[39mheaders,\n\u001b[0;32m   1010\u001b[0m         stream\u001b[38;5;241m=\u001b[39mstream,\n\u001b[0;32m   1011\u001b[0m         stream_cls\u001b[38;5;241m=\u001b[39mstream_cls,\n\u001b[0;32m   1012\u001b[0m     )\n\u001b[0;32m   1014\u001b[0m \u001b[38;5;66;03m# If the response is streamed then we need to explicitly read the response\u001b[39;00m\n\u001b[0;32m   1015\u001b[0m \u001b[38;5;66;03m# to completion before attempting to access the response text.\u001b[39;00m\n\u001b[0;32m   1016\u001b[0m \u001b[38;5;28;01mif\u001b[39;00m \u001b[38;5;129;01mnot\u001b[39;00m err\u001b[38;5;241m.\u001b[39mresponse\u001b[38;5;241m.\u001b[39mis_closed:\n",
      "File \u001b[1;32m~\\anaconda3\\Lib\\site-packages\\openai\\_base_client.py:1053\u001b[0m, in \u001b[0;36mSyncAPIClient._retry_request\u001b[1;34m(self, options, cast_to, remaining_retries, response_headers, stream, stream_cls)\u001b[0m\n\u001b[0;32m   1049\u001b[0m \u001b[38;5;66;03m# In a synchronous context we are blocking the entire thread. Up to the library user to run the client in a\u001b[39;00m\n\u001b[0;32m   1050\u001b[0m \u001b[38;5;66;03m# different thread if necessary.\u001b[39;00m\n\u001b[0;32m   1051\u001b[0m time\u001b[38;5;241m.\u001b[39msleep(timeout)\n\u001b[1;32m-> 1053\u001b[0m \u001b[38;5;28;01mreturn\u001b[39;00m \u001b[38;5;28mself\u001b[39m\u001b[38;5;241m.\u001b[39m_request(\n\u001b[0;32m   1054\u001b[0m     options\u001b[38;5;241m=\u001b[39moptions,\n\u001b[0;32m   1055\u001b[0m     cast_to\u001b[38;5;241m=\u001b[39mcast_to,\n\u001b[0;32m   1056\u001b[0m     remaining_retries\u001b[38;5;241m=\u001b[39mremaining,\n\u001b[0;32m   1057\u001b[0m     stream\u001b[38;5;241m=\u001b[39mstream,\n\u001b[0;32m   1058\u001b[0m     stream_cls\u001b[38;5;241m=\u001b[39mstream_cls,\n\u001b[0;32m   1059\u001b[0m )\n",
      "File \u001b[1;32m~\\anaconda3\\Lib\\site-packages\\openai\\_base_client.py:1020\u001b[0m, in \u001b[0;36mSyncAPIClient._request\u001b[1;34m(self, cast_to, options, remaining_retries, stream, stream_cls)\u001b[0m\n\u001b[0;32m   1017\u001b[0m         err\u001b[38;5;241m.\u001b[39mresponse\u001b[38;5;241m.\u001b[39mread()\n\u001b[0;32m   1019\u001b[0m     log\u001b[38;5;241m.\u001b[39mdebug(\u001b[38;5;124m\"\u001b[39m\u001b[38;5;124mRe-raising status error\u001b[39m\u001b[38;5;124m\"\u001b[39m)\n\u001b[1;32m-> 1020\u001b[0m     \u001b[38;5;28;01mraise\u001b[39;00m \u001b[38;5;28mself\u001b[39m\u001b[38;5;241m.\u001b[39m_make_status_error_from_response(err\u001b[38;5;241m.\u001b[39mresponse) \u001b[38;5;28;01mfrom\u001b[39;00m \u001b[38;5;28;01mNone\u001b[39;00m\n\u001b[0;32m   1022\u001b[0m \u001b[38;5;28;01mreturn\u001b[39;00m \u001b[38;5;28mself\u001b[39m\u001b[38;5;241m.\u001b[39m_process_response(\n\u001b[0;32m   1023\u001b[0m     cast_to\u001b[38;5;241m=\u001b[39mcast_to,\n\u001b[0;32m   1024\u001b[0m     options\u001b[38;5;241m=\u001b[39moptions,\n\u001b[1;32m   (...)\u001b[0m\n\u001b[0;32m   1027\u001b[0m     stream_cls\u001b[38;5;241m=\u001b[39mstream_cls,\n\u001b[0;32m   1028\u001b[0m )\n",
      "\u001b[1;31mRateLimitError\u001b[0m: Error code: 429 - {'error': {'message': 'You exceeded your current quota, please check your plan and billing details. For more information on this error, read the docs: https://platform.openai.com/docs/guides/error-codes/api-errors.', 'type': 'insufficient_quota', 'param': None, 'code': 'insufficient_quota'}}"
     ]
    }
   ],
   "source": [
    "# Remplacez 'Votre_Cle_API' par votre véritable clé API\n",
    "api_key = \"sk-proj-17CQuXWNpWoNU2vCjxXUT3BlbkFJ6KFmtiG506MzO1QCcbBy\"\n",
    "\n",
    "# Appel de la fonction pour générer les commentaires\n",
    "results = generate_comments_for_each_list(MG, model=\"gpt-3.5-turbo\", api_key=api_key)\n",
    "\n",
    "# Afficher les résultats\n",
    "print(results)\n"
   ]
  },
  {
   "cell_type": "code",
   "execution_count": null,
   "metadata": {},
   "outputs": [],
   "source": []
  }
 ],
 "metadata": {
  "kernelspec": {
   "display_name": "Python 3 (ipykernel)",
   "language": "python",
   "name": "python3"
  },
  "language_info": {
   "codemirror_mode": {
    "name": "ipython",
    "version": 3
   },
   "file_extension": ".py",
   "mimetype": "text/x-python",
   "name": "python",
   "nbconvert_exporter": "python",
   "pygments_lexer": "ipython3",
   "version": "3.11.7"
  }
 },
 "nbformat": 4,
 "nbformat_minor": 4
}
