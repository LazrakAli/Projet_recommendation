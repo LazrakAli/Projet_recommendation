{
 "cells": [
  {
   "cell_type": "code",
   "execution_count": 1,
   "metadata": {},
   "outputs": [
    {
     "name": "stderr",
     "output_type": "stream",
     "text": [
      "/var/folders/5b/qs0n20853dj5x8g98kk2c36h0000gn/T/ipykernel_95261/2255808690.py:1: DeprecationWarning: \n",
      "Pyarrow will become a required dependency of pandas in the next major release of pandas (pandas 3.0),\n",
      "(to allow more performant data types, such as the Arrow string type, and better interoperability with other libraries)\n",
      "but was not found to be installed on your system.\n",
      "If this would cause problems for you,\n",
      "please provide us feedback at https://github.com/pandas-dev/pandas/issues/54466\n",
      "        \n",
      "  import pandas as pd\n"
     ]
    }
   ],
   "source": [
    "import pandas as pd\n",
    "from sklearn.feature_extraction.text import TfidfVectorizer\n",
    "from sklearn.metrics.pairwise import cosine_similarity\n",
    "import nltk\n",
    "from nltk.corpus import stopwords\n",
    "import string\n",
    "import random"
   ]
  },
  {
   "cell_type": "code",
   "execution_count": 2,
   "metadata": {},
   "outputs": [
    {
     "name": "stderr",
     "output_type": "stream",
     "text": [
      "[nltk_data] Downloading package stopwords to\n",
      "[nltk_data]     /Users/martin/nltk_data...\n",
      "[nltk_data]   Package stopwords is already up-to-date!\n",
      "[nltk_data] Downloading package punkt to /Users/martin/nltk_data...\n",
      "[nltk_data]   Package punkt is already up-to-date!\n"
     ]
    },
    {
     "data": {
      "text/plain": [
       "True"
      ]
     },
     "execution_count": 2,
     "metadata": {},
     "output_type": "execute_result"
    }
   ],
   "source": [
    "nltk.download('stopwords')\n",
    "nltk.download('punkt')"
   ]
  },
  {
   "cell_type": "code",
   "execution_count": 3,
   "metadata": {},
   "outputs": [],
   "source": [
    "df = pd.read_csv('details.csv')\n",
    "df_avis = pd.read_csv('avis.csv')"
   ]
  },
  {
   "cell_type": "code",
   "execution_count": 4,
   "metadata": {},
   "outputs": [],
   "source": [
    "stop_words = set(stopwords.words('french'))\n",
    "\n",
    "def preprocess(text):\n",
    "    text = text.lower()\n",
    "    text = ''.join([char for char in text if char not in string.punctuation])\n",
    "    tokens = nltk.word_tokenize(text, language='french')\n",
    "    tokens = [word for word in tokens if word not in stop_words]\n",
    "    return ' '.join(tokens)\n",
    "\n",
    "df['processed_description'] = df['description'].apply(preprocess)"
   ]
  },
  {
   "cell_type": "code",
   "execution_count": 5,
   "metadata": {},
   "outputs": [],
   "source": [
    "# Feature Extraction\n",
    "vectorizer = TfidfVectorizer()\n",
    "tfidf_matrix = vectorizer.fit_transform(df['processed_description'])\n",
    "\n",
    "# Similarity Measure\n",
    "cosine_sim = cosine_similarity(tfidf_matrix, tfidf_matrix)"
   ]
  },
  {
   "cell_type": "code",
   "execution_count": 15,
   "metadata": {},
   "outputs": [],
   "source": [
    "# Recommender Function\n",
    "def recommend_games(title, df, cosine_sim):\n",
    "    # Get the index of the game that matches the title\n",
    "    idx = df.index[df['titre'] == title].tolist()[0]\n",
    "\n",
    "    # Get the pairwise similarity scores of all games with that game\n",
    "    sim_scores = list(enumerate(cosine_sim[idx]))\n",
    "\n",
    "    # Sort the games based on the similarity scores\n",
    "    sim_scores = sorted(sim_scores, key=lambda x: x[1], reverse=True)\n",
    "\n",
    "    # Get the scores of the 10 most similar games\n",
    "    sim_scores = sim_scores[1:21]\n",
    "\n",
    "    # Get the game indices\n",
    "    game_indices = [i[0] for i in sim_scores]\n",
    "\n",
    "    # Return the top 10 most similar games\n",
    "    return df['titre'].iloc[game_indices]"
   ]
  },
  {
   "cell_type": "code",
   "execution_count": 7,
   "metadata": {},
   "outputs": [
    {
     "data": {
      "text/html": [
       "<div>\n",
       "<style scoped>\n",
       "    .dataframe tbody tr th:only-of-type {\n",
       "        vertical-align: middle;\n",
       "    }\n",
       "\n",
       "    .dataframe tbody tr th {\n",
       "        vertical-align: top;\n",
       "    }\n",
       "\n",
       "    .dataframe thead th {\n",
       "        text-align: right;\n",
       "    }\n",
       "</style>\n",
       "<table border=\"1\" class=\"dataframe\">\n",
       "  <thead>\n",
       "    <tr style=\"text-align: right;\">\n",
       "      <th></th>\n",
       "      <th>_id</th>\n",
       "      <th>author</th>\n",
       "      <th>date_published</th>\n",
       "      <th>title_review</th>\n",
       "      <th>note</th>\n",
       "      <th>review_href</th>\n",
       "      <th>title</th>\n",
       "      <th>url</th>\n",
       "      <th>treated</th>\n",
       "      <th>comment</th>\n",
       "    </tr>\n",
       "  </thead>\n",
       "  <tbody>\n",
       "    <tr>\n",
       "      <th>0</th>\n",
       "      <td>63C6726EA81F3E3016AF9A56</td>\n",
       "      <td>Monsieur Guillaume</td>\n",
       "      <td>2021-01-27 11:06:44</td>\n",
       "      <td>Voyages sur les ailes des papillons</td>\n",
       "      <td>8</td>\n",
       "      <td>\"https://www.trictrac.net/avis/vraiment-bon-12...</td>\n",
       "      <td>Mariposas</td>\n",
       "      <td>https://www.trictrac.net/jeu-de-societe/maripo...</td>\n",
       "      <td>1</td>\n",
       "      <td>Lorsque le jeu est jeu, bon, réflexif, joli po...</td>\n",
       "    </tr>\n",
       "    <tr>\n",
       "      <th>1</th>\n",
       "      <td>63C6726EA81F3E3016AF9A57</td>\n",
       "      <td>morlockbob</td>\n",
       "      <td>2020-10-18 10:04:21</td>\n",
       "      <td>le festival de Michoacan</td>\n",
       "      <td>7</td>\n",
       "      <td>\"https://www.trictrac.net/avis/le-festival-de-...</td>\n",
       "      <td>Mariposas</td>\n",
       "      <td>https://www.trictrac.net/jeu-de-societe/maripo...</td>\n",
       "      <td>1</td>\n",
       "      <td>Comment continuer après un mega hit ? Simpleme...</td>\n",
       "    </tr>\n",
       "    <tr>\n",
       "      <th>2</th>\n",
       "      <td>63C6726EA81F3E3016AF9A58</td>\n",
       "      <td>SwatSh</td>\n",
       "      <td>2021-02-01 08:35:08</td>\n",
       "      <td>Vivez la migration des monarques</td>\n",
       "      <td>7</td>\n",
       "      <td>\"https://www.trictrac.net/avis/vivez-la-migrat...</td>\n",
       "      <td>Mariposas</td>\n",
       "      <td>https://www.trictrac.net/jeu-de-societe/maripo...</td>\n",
       "      <td>1</td>\n",
       "      <td>Vin d'jeu: Avec Mariposas, Elizabeth Hargrave ...</td>\n",
       "    </tr>\n",
       "    <tr>\n",
       "      <th>3</th>\n",
       "      <td>63C6726EA81F3E3016AF9A59</td>\n",
       "      <td>Timi JeuxATheme</td>\n",
       "      <td>2020-11-19 17:04:57</td>\n",
       "      <td>Bon</td>\n",
       "      <td>8</td>\n",
       "      <td>NaN</td>\n",
       "      <td>Mariposas</td>\n",
       "      <td>https://www.trictrac.net/jeu-de-societe/maripo...</td>\n",
       "      <td>1</td>\n",
       "      <td>NaN</td>\n",
       "    </tr>\n",
       "    <tr>\n",
       "      <th>4</th>\n",
       "      <td>63C6726EA81F3E3016AF9A5A</td>\n",
       "      <td>prunelles</td>\n",
       "      <td>2021-05-24 12:43:18</td>\n",
       "      <td>Envolez-moi</td>\n",
       "      <td>9</td>\n",
       "      <td>\"https://www.trictrac.net/avis/envolez-moi\"</td>\n",
       "      <td>Mariposas</td>\n",
       "      <td>https://www.trictrac.net/jeu-de-societe/maripo...</td>\n",
       "      <td>1</td>\n",
       "      <td>Très joli bijou que ce jeu-là ! Le matériel, l...</td>\n",
       "    </tr>\n",
       "  </tbody>\n",
       "</table>\n",
       "</div>"
      ],
      "text/plain": [
       "                        _id              author       date_published  \\\n",
       "0  63C6726EA81F3E3016AF9A56  Monsieur Guillaume  2021-01-27 11:06:44   \n",
       "1  63C6726EA81F3E3016AF9A57          morlockbob  2020-10-18 10:04:21   \n",
       "2  63C6726EA81F3E3016AF9A58              SwatSh  2021-02-01 08:35:08   \n",
       "3  63C6726EA81F3E3016AF9A59     Timi JeuxATheme  2020-11-19 17:04:57   \n",
       "4  63C6726EA81F3E3016AF9A5A           prunelles  2021-05-24 12:43:18   \n",
       "\n",
       "                          title_review  note  \\\n",
       "0  Voyages sur les ailes des papillons     8   \n",
       "1             le festival de Michoacan     7   \n",
       "2     Vivez la migration des monarques     7   \n",
       "3                                  Bon     8   \n",
       "4                          Envolez-moi     9   \n",
       "\n",
       "                                         review_href      title  \\\n",
       "0  \"https://www.trictrac.net/avis/vraiment-bon-12...  Mariposas   \n",
       "1  \"https://www.trictrac.net/avis/le-festival-de-...  Mariposas   \n",
       "2  \"https://www.trictrac.net/avis/vivez-la-migrat...  Mariposas   \n",
       "3                                                NaN  Mariposas   \n",
       "4        \"https://www.trictrac.net/avis/envolez-moi\"  Mariposas   \n",
       "\n",
       "                                                 url  treated  \\\n",
       "0  https://www.trictrac.net/jeu-de-societe/maripo...        1   \n",
       "1  https://www.trictrac.net/jeu-de-societe/maripo...        1   \n",
       "2  https://www.trictrac.net/jeu-de-societe/maripo...        1   \n",
       "3  https://www.trictrac.net/jeu-de-societe/maripo...        1   \n",
       "4  https://www.trictrac.net/jeu-de-societe/maripo...        1   \n",
       "\n",
       "                                             comment  \n",
       "0  Lorsque le jeu est jeu, bon, réflexif, joli po...  \n",
       "1  Comment continuer après un mega hit ? Simpleme...  \n",
       "2  Vin d'jeu: Avec Mariposas, Elizabeth Hargrave ...  \n",
       "3                                                NaN  \n",
       "4  Très joli bijou que ce jeu-là ! Le matériel, l...  "
      ]
     },
     "execution_count": 7,
     "metadata": {},
     "output_type": "execute_result"
    }
   ],
   "source": [
    "df_avis.head()"
   ]
  },
  {
   "cell_type": "code",
   "execution_count": 8,
   "metadata": {},
   "outputs": [
    {
     "data": {
      "text/plain": [
       "15558           Bohnkick\n",
       "436              Ballons\n",
       "3478             Ballons\n",
       "18966            Ulysses\n",
       "9897            Cartobut\n",
       "15575       Soccer Chess\n",
       "18050     Orcs et Trolls\n",
       "18905    Avis de Tempête\n",
       "15585          Tipp-Kick\n",
       "18560             Finale\n",
       "Name: titre, dtype: object"
      ]
     },
     "execution_count": 8,
     "metadata": {},
     "output_type": "execute_result"
    }
   ],
   "source": [
    "recommend_games('123Goal',df,cosine_sim)"
   ]
  },
  {
   "cell_type": "code",
   "execution_count": 92,
   "metadata": {},
   "outputs": [],
   "source": [
    "def recommend(username, df_avis):\n",
    "    # Retrieve games and ratings reviewed by the user\n",
    "    df_avis_username = df_avis[['title', 'note']].loc[df_avis['author'] == username]\n",
    "\n",
    "    # Initialize weighted recommendations with all game titles and zero weights\n",
    "    weighted_recommendations = {game: 0 for game in df['titre'].unique()}\n",
    "\n",
    "    # Iterate over the user's reviewed games\n",
    "    for index, row in df_avis_username.iterrows():\n",
    "        title, rating = row['title'], row['note']\n",
    "        similar_games = recommend_games(title, df, cosine_sim)\n",
    "\n",
    "        # Weighting similar games by the user's rating\n",
    "        for sim_game in similar_games:\n",
    "            weighted_recommendations[sim_game] += rating\n",
    "\n",
    "    # Remove any games the user has already reviewed\n",
    "    reviewed_games = set(df_avis_username['title'])\n",
    "    weighted_recommendations = {game: weight for game, weight in weighted_recommendations.items() if game not in reviewed_games}\n",
    "\n",
    "    # Sort recommendations based on weights\n",
    "    sorted_recommendations = sorted(weighted_recommendations, key=weighted_recommendations.get, reverse=True)\n",
    "\n",
    "    return sorted_recommendations[:10]"
   ]
  },
  {
   "cell_type": "code",
   "execution_count": 10,
   "metadata": {},
   "outputs": [
    {
     "data": {
      "text/plain": [
       "['Le Dilemme du Roi',\n",
       " 'Battle Line Médiéval',\n",
       " 'Bluffer',\n",
       " 'Zombie Kidz Évolution',\n",
       " 'Small Detectives',\n",
       " 'Ruse',\n",
       " 'Munchkin Donjon',\n",
       " 'Wacondah',\n",
       " 'Kabuki',\n",
       " \"Zombie 15'\"]"
      ]
     },
     "execution_count": 10,
     "metadata": {},
     "output_type": "execute_result"
    }
   ],
   "source": [
    "recommend('Monsieur Guillaume', df_avis)"
   ]
  },
  {
   "cell_type": "code",
   "execution_count": 30,
   "metadata": {},
   "outputs": [],
   "source": [
    "def test_recommendation_accuracy_random(username, df_avis, test_size=1, threshold_rating=8):\n",
    "    # Retrieve games and ratings reviewed by the user\n",
    "    user_ratings = df_avis[['title', 'note']].loc[df_avis['author'] == username]\n",
    "\n",
    "    # Filter out highly rated games for testing\n",
    "    high_rated_games = user_ratings[user_ratings['note'] >= threshold_rating]\n",
    "    test_games = high_rated_games.sample(n=test_size)\n",
    "    \n",
    "    # Remaining games for training\n",
    "    training_games = user_ratings.drop(test_games.index)\n",
    "\n",
    "    # Create a temporary DataFrame for training\n",
    "    temp_df_avis = df_avis.copy()\n",
    "    temp_df_avis.loc[df_avis['author'] == username] = training_games\n",
    "\n",
    "    # Generate recommendations using the temporary DataFrame\n",
    "    recommendations = recommend(username, temp_df_avis)\n",
    "\n",
    "    # Check if test games are in the recommendations\n",
    "    hits = sum(game in recommendations for game in test_games['title'])\n",
    "    accuracy = hits / test_size\n",
    "\n",
    "    #print(username, \"a\", len(high_rated_games), \"avis avec une note supérieure ou égale à\", threshold_rating)\n",
    "    #print(\"On en retire\",test_size, \"et on regarde combien apparaissent dans les\", len(recommendations), \"recommendations.\")\n",
    "    #print(\"Il y en a \", hits)\n",
    "    #print(accuracy)\n",
    "    return accuracy"
   ]
  },
  {
   "cell_type": "code",
   "execution_count": 95,
   "metadata": {},
   "outputs": [],
   "source": [
    "def test_recommendation_accuracy_moyenne(username, df_avis, test_size=1):\n",
    "    # Retrieve games and ratings reviewed by the user\n",
    "    user_ratings = df_avis[['title', 'note']].loc[df_avis['author'] == username]\n",
    "\n",
    "    # Calculate the user-specific threshold rating as the median rating\n",
    "    threshold_rating = user_ratings['note'].mean()\n",
    "\n",
    "    # Filter out games rated above the user-specific threshold for testing\n",
    "    high_rated_games = user_ratings[user_ratings['note'] > threshold_rating]\n",
    "    if len(high_rated_games) < test_size:\n",
    "        print(f\"Not enough high-rated games above the threshold of {threshold_rating} for user {username}. Adjusting test size to {len(high_rated_games)}.\")\n",
    "        test_size = max(1, len(high_rated_games))  # Ensure at least one game is tested\n",
    "\n",
    "    test_games = high_rated_games.sample(n=test_size)\n",
    "    \n",
    "    # Remaining games for training\n",
    "    training_games = user_ratings.drop(test_games.index)\n",
    "\n",
    "    # Create a temporary DataFrame for training\n",
    "    temp_df_avis = df_avis.copy()\n",
    "    temp_df_avis.loc[df_avis['author'] == username] = training_games\n",
    "\n",
    "    # Generate recommendations using the temporary DataFrame\n",
    "    recommendations = recommend(username, temp_df_avis)\n",
    "\n",
    "    # Check if test games are in the recommendations\n",
    "    hits = sum(game in recommendations for game in test_games['title'])\n",
    "    accuracy = hits / test_size\n",
    "\n",
    "    return accuracy\n"
   ]
  },
  {
   "cell_type": "code",
   "execution_count": 103,
   "metadata": {},
   "outputs": [
    {
     "ename": "AttributeError",
     "evalue": "'Series' object has no attribute 'median_low'",
     "output_type": "error",
     "traceback": [
      "\u001b[0;31m---------------------------------------------------------------------------\u001b[0m",
      "\u001b[0;31mAttributeError\u001b[0m                            Traceback (most recent call last)",
      "\u001b[0;32m/var/folders/5b/qs0n20853dj5x8g98kk2c36h0000gn/T/ipykernel_95261/188225045.py\u001b[0m in \u001b[0;36m?\u001b[0;34m()\u001b[0m\n\u001b[1;32m      2\u001b[0m \u001b[0mmoyenne\u001b[0m\u001b[0;34m=\u001b[0m\u001b[0;36m0\u001b[0m\u001b[0;34m\u001b[0m\u001b[0;34m\u001b[0m\u001b[0m\n\u001b[0;32m----> 3\u001b[0;31m \u001b[0;32mfor\u001b[0m \u001b[0mi\u001b[0m \u001b[0;32min\u001b[0m \u001b[0mrange\u001b[0m\u001b[0;34m(\u001b[0m\u001b[0;36m500\u001b[0m\u001b[0;34m)\u001b[0m\u001b[0;34m:\u001b[0m\u001b[0;34m\u001b[0m\u001b[0;34m\u001b[0m\u001b[0m\n\u001b[0m\u001b[1;32m      4\u001b[0m     \u001b[0mmoyenne\u001b[0m\u001b[0;34m+=\u001b[0m\u001b[0mtest_recommendation_accuracy_medianlow\u001b[0m\u001b[0;34m(\u001b[0m\u001b[0;34m'Monsieur Guillaume'\u001b[0m\u001b[0;34m,\u001b[0m\u001b[0mdf_avis\u001b[0m\u001b[0;34m,\u001b[0m\u001b[0;36m10\u001b[0m\u001b[0;34m)\u001b[0m\u001b[0;34m\u001b[0m\u001b[0;34m\u001b[0m\u001b[0m\n\u001b[1;32m      5\u001b[0m \u001b[0mprint\u001b[0m\u001b[0;34m(\u001b[0m\u001b[0mmoyenne\u001b[0m\u001b[0;34m/\u001b[0m\u001b[0;36m500\u001b[0m\u001b[0;34m)\u001b[0m\u001b[0;34m\u001b[0m\u001b[0;34m\u001b[0m\u001b[0m\n",
      "\u001b[0;32m/var/folders/5b/qs0n20853dj5x8g98kk2c36h0000gn/T/ipykernel_95261/2712398999.py\u001b[0m in \u001b[0;36m?\u001b[0;34m(username, df_avis, test_size)\u001b[0m\n\u001b[1;32m      2\u001b[0m     \u001b[0;31m# Retrieve games and ratings reviewed by the user\u001b[0m\u001b[0;34m\u001b[0m\u001b[0;34m\u001b[0m\u001b[0m\n\u001b[1;32m      3\u001b[0m     \u001b[0muser_ratings\u001b[0m \u001b[0;34m=\u001b[0m \u001b[0mdf_avis\u001b[0m\u001b[0;34m[\u001b[0m\u001b[0;34m[\u001b[0m\u001b[0;34m'title'\u001b[0m\u001b[0;34m,\u001b[0m \u001b[0;34m'note'\u001b[0m\u001b[0;34m]\u001b[0m\u001b[0;34m]\u001b[0m\u001b[0;34m.\u001b[0m\u001b[0mloc\u001b[0m\u001b[0;34m[\u001b[0m\u001b[0mdf_avis\u001b[0m\u001b[0;34m[\u001b[0m\u001b[0;34m'author'\u001b[0m\u001b[0;34m]\u001b[0m \u001b[0;34m==\u001b[0m \u001b[0musername\u001b[0m\u001b[0;34m]\u001b[0m\u001b[0;34m\u001b[0m\u001b[0;34m\u001b[0m\u001b[0m\n\u001b[1;32m      4\u001b[0m \u001b[0;34m\u001b[0m\u001b[0m\n\u001b[1;32m      5\u001b[0m     \u001b[0;31m# Calculate the user-specific threshold rating as the median rating\u001b[0m\u001b[0;34m\u001b[0m\u001b[0;34m\u001b[0m\u001b[0m\n\u001b[0;32m----> 6\u001b[0;31m     \u001b[0mthreshold_rating\u001b[0m \u001b[0;34m=\u001b[0m \u001b[0muser_ratings\u001b[0m\u001b[0;34m[\u001b[0m\u001b[0;34m'note'\u001b[0m\u001b[0;34m]\u001b[0m\u001b[0;34m.\u001b[0m\u001b[0mmedian_low\u001b[0m\u001b[0;34m(\u001b[0m\u001b[0;34m)\u001b[0m\u001b[0;34m\u001b[0m\u001b[0;34m\u001b[0m\u001b[0m\n\u001b[0m\u001b[1;32m      7\u001b[0m \u001b[0;34m\u001b[0m\u001b[0m\n\u001b[1;32m      8\u001b[0m     \u001b[0;31m# Filter out games rated above the user-specific threshold for testing\u001b[0m\u001b[0;34m\u001b[0m\u001b[0;34m\u001b[0m\u001b[0m\n\u001b[1;32m      9\u001b[0m     \u001b[0mhigh_rated_games\u001b[0m \u001b[0;34m=\u001b[0m \u001b[0muser_ratings\u001b[0m\u001b[0;34m[\u001b[0m\u001b[0muser_ratings\u001b[0m\u001b[0;34m[\u001b[0m\u001b[0;34m'note'\u001b[0m\u001b[0;34m]\u001b[0m \u001b[0;34m>\u001b[0m \u001b[0mthreshold_rating\u001b[0m\u001b[0;34m]\u001b[0m\u001b[0;34m\u001b[0m\u001b[0;34m\u001b[0m\u001b[0m\n",
      "\u001b[0;32m~/micromamba/lib/python3.9/site-packages/pandas/core/generic.py\u001b[0m in \u001b[0;36m?\u001b[0;34m(self, name)\u001b[0m\n\u001b[1;32m   6289\u001b[0m             \u001b[0;32mand\u001b[0m \u001b[0mname\u001b[0m \u001b[0;32mnot\u001b[0m \u001b[0;32min\u001b[0m \u001b[0mself\u001b[0m\u001b[0;34m.\u001b[0m\u001b[0m_accessors\u001b[0m\u001b[0;34m\u001b[0m\u001b[0;34m\u001b[0m\u001b[0m\n\u001b[1;32m   6290\u001b[0m             \u001b[0;32mand\u001b[0m \u001b[0mself\u001b[0m\u001b[0;34m.\u001b[0m\u001b[0m_info_axis\u001b[0m\u001b[0;34m.\u001b[0m\u001b[0m_can_hold_identifiers_and_holds_name\u001b[0m\u001b[0;34m(\u001b[0m\u001b[0mname\u001b[0m\u001b[0;34m)\u001b[0m\u001b[0;34m\u001b[0m\u001b[0;34m\u001b[0m\u001b[0m\n\u001b[1;32m   6291\u001b[0m         ):\n\u001b[1;32m   6292\u001b[0m             \u001b[0;32mreturn\u001b[0m \u001b[0mself\u001b[0m\u001b[0;34m[\u001b[0m\u001b[0mname\u001b[0m\u001b[0;34m]\u001b[0m\u001b[0;34m\u001b[0m\u001b[0;34m\u001b[0m\u001b[0m\n\u001b[0;32m-> 6293\u001b[0;31m         \u001b[0;32mreturn\u001b[0m \u001b[0mobject\u001b[0m\u001b[0;34m.\u001b[0m\u001b[0m__getattribute__\u001b[0m\u001b[0;34m(\u001b[0m\u001b[0mself\u001b[0m\u001b[0;34m,\u001b[0m \u001b[0mname\u001b[0m\u001b[0;34m)\u001b[0m\u001b[0;34m\u001b[0m\u001b[0;34m\u001b[0m\u001b[0m\n\u001b[0m",
      "\u001b[0;31mAttributeError\u001b[0m: 'Series' object has no attribute 'median_low'"
     ]
    }
   ],
   "source": [
    "moyenne=0\n",
    "for i in range(500):\n",
    "    moyenne+=test_recommendation_accuracy_moyenne('Monsieur Guillaume',df_avis,10)\n",
    "print(moyenne/500)"
   ]
  },
  {
   "cell_type": "markdown",
   "metadata": {},
   "source": [
    "Modele random : \n",
    "- Sur 500 tests : 0.0564 de precision\n",
    "\n",
    "Modele moyenne :\n",
    "- Sur 500 tests : 0.0604 de precision"
   ]
  },
  {
   "cell_type": "code",
   "execution_count": 104,
   "metadata": {},
   "outputs": [
    {
     "data": {
      "text/plain": [
       "['Deus',\n",
       " 'Punto',\n",
       " 'For Sale',\n",
       " 'Le Dilemme du Roi',\n",
       " 'Rise of Tribes - deluxe upgrade',\n",
       " 'Battle Line Médiéval',\n",
       " 'Targui',\n",
       " 'Puls',\n",
       " 'Tales of Arabian nights',\n",
       " 'Crime Zoom - Sa dernière carte']"
      ]
     },
     "execution_count": 104,
     "metadata": {},
     "output_type": "execute_result"
    }
   ],
   "source": [
    "recommend('Monsieur Guillaume',df_avis)"
   ]
  },
  {
   "cell_type": "code",
   "execution_count": 16,
   "metadata": {},
   "outputs": [
    {
     "data": {
      "text/plain": [
       "411                            Marchands du Nord\n",
       "3433                           Marchands du Nord\n",
       "19414                                  Die Hanse\n",
       "14074                 Great War At Sea : Jutland\n",
       "17064                                      Kogge\n",
       "19449                                     Kontor\n",
       "14918                                     Bounty\n",
       "18193                                    Tortuga\n",
       "19842                                Störtebeker\n",
       "1694                  Galions, Canons & Doublons\n",
       "4804                  Galions, Canons & Doublons\n",
       "9284                                   Merchants\n",
       "10612                       The Kaiser's Pirates\n",
       "7818                                Mundus Novus\n",
       "8835     Metal Adventures - La prise & le profit\n",
       "17891                      Kapitän Wackelpudding\n",
       "17829                                      Hansa\n",
       "17924                                      Tyrus\n",
       "2366                      Race to the North Pole\n",
       "4877                      Race to the North Pole\n",
       "Name: titre, dtype: object"
      ]
     },
     "execution_count": 16,
     "metadata": {},
     "output_type": "execute_result"
    }
   ],
   "source": [
    "recommend_games('Marchands du Nord',df,cosine_sim)"
   ]
  }
 ],
 "metadata": {
  "kernelspec": {
   "display_name": "Python 3",
   "language": "python",
   "name": "python3"
  },
  "language_info": {
   "codemirror_mode": {
    "name": "ipython",
    "version": 3
   },
   "file_extension": ".py",
   "mimetype": "text/x-python",
   "name": "python",
   "nbconvert_exporter": "python",
   "pygments_lexer": "ipython3",
   "version": "3.9.18"
  },
  "orig_nbformat": 4
 },
 "nbformat": 4,
 "nbformat_minor": 2
}
