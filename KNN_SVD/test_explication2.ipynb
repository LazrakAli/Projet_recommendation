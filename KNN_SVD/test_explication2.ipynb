{
 "cells": [
  {
   "cell_type": "code",
   "execution_count": 1,
   "metadata": {},
   "outputs": [
    {
     "name": "stdout",
     "output_type": "stream",
     "text": [
      "Computing the cosine similarity matrix...\n",
      "Done computing similarity matrix.\n"
     ]
    }
   ],
   "source": [
    "from explication import *"
   ]
  },
  {
   "cell_type": "code",
   "execution_count": 2,
   "metadata": {},
   "outputs": [
    {
     "name": "stdout",
     "output_type": "stream",
     "text": [
      "295\n"
     ]
    }
   ],
   "source": [
    "top_comments_with_rank = get_top_comments('Monsieur Guillaume', 'Invasions', 5, 10)\n",
    "print(top_comments_with_rank[0][0])"
   ]
  },
  {
   "cell_type": "code",
   "execution_count": 7,
   "metadata": {},
   "outputs": [],
   "source": [
    "def get_top_comments_filtres(user, title, N, word_count_threshold):\n",
    "    comments = get_top_comments(user, title, N, word_count_threshold)\n",
    "    new_comments = []\n",
    "    \n",
    "    for c in comments:\n",
    "        c_new=list(c)\n",
    "        c_new[2] = filtrer_commentaire(c_new[2])\n",
    "        c_new[2] = tokeniser(c_new[2])\n",
    "        new_comments.append(c_new)\n",
    "    \n",
    "    return new_comments"
   ]
  },
  {
   "cell_type": "code",
   "execution_count": 8,
   "metadata": {},
   "outputs": [
    {
     "name": "stdout",
     "output_type": "stream",
     "text": [
      "[295, 'ioucounou', ['Voilà', 'exactement', 'jeu', 'que', 'j', '’', 'adore', 'L', '’', 'meilleurs', 'sortis', 'année', 'Invasions', 'est', 'typiquement', 'genre', 'jeu', 'a', 'été', 'développé', 'autour', 'thème', 'sent', 'Tout', 'est', 'fait', 'qu', '’', 's', '’', 'croit', 'C', '’', 'est', 'jeu', 'épique', 'l', '’', 'planifie', 'campagnes', 'soins', 'Vais', 'aller', 'piller', 'côte', 'anglaise', 'bien', 'faire', 'commerce', 'l', '’', 'est', 'possibilités', 'sont', 'nombreuses', 'toutes', 'requiert', 'préparation', 'minutieuse', 'peine', 'perdre', 'temps', 'précieux', 'aller', 'retour', 'faut', 'anticiper', 'météo', 'prévoir', 'combien', 'guerriers', 'seront', 'nécessaires', 'surtout', 'c', '’', 'est', 'là', 'que', 'jeu', 'mérite', '5/5', 'faut', 'toujours', 'essayer', 'd', '’', 'anticiper', 'vont', 'faire', 'autres', 'jarls', 'effet', 'Invasions', 'est', 'aussi', 'jeu', 'interactifs', 'l', '’', 'peut', 'être', 'très', 'méchant', 'finesse', 'jeu', 'consiste', 'profiter', 'moindre', 'faiblesse', 'font', 'autres', 'engendre', 'tous', 'coups', 'rancœurs', 'vengeances', 'mémorables', 'Bref', 'Invasions', 'est', 'jeu', 'thème', 'fort', 'très', 'fort', 'même', 'être', 'trop', 'lourd', 'jeu', 'plutôt', 'maîtrisable', 'qu', '’', 'faut', 'jets', 'dés', 'pimenter', 'tout', 'retournements', 'cris', 'joie', 'désespoir).Un', 'très', 'bon', 'compromis', 'jeu', 'l', '’', 'ancienne', 'l', '’', 'école', 'jeux', 'américains', 'années', '80', 'plus', 'léger', 'enrichi', 'l', '’', 'expérience', 'années', 'suivantes', '…', 'J', '’', 'adore']]\n",
      "\n",
      "[288, 'AJF-43', ['Plein', 'parties', 'jouées', 'scores', 'serrés', 'défaut', 'notable', 'possède', 'jeu', 'jeux', 'préférés', 'a', 'possibilités', 'marquer', 'points', 'même', 'si', 'peut', 'temps', 'focaliser', 'moins', 'cinq', 'joueurs', 'peut', 'taper', 'dessus', 'joueurs', 'n', \"'\", 'est', 'pas', 'systématique', 'semble', 'inévitable', 'toute', 'façon', 'ne', 'crée', 'pas', 'conflit', 'joueurs', 'thème', 'est', 'respecté', 'historiquement', 'équilibre', 'commerce', 'raid', 'colonisation', 'évolue', 'temps', 'cohérence', 'Histoire', 'seul', 'petit', 'défaut', 'jeu', 'ponctuellement', 'est', 'amené', 'poser', 'questions', 'deux', 'points', 'règle', 'questions', 'peut', 'résoudre', 'accordant', 'rapidement', 'joueurs', 'aurais', 'voulu', 'être', 'Vikiiiiiiiiiiiing', 'pouvoir', 'naviguer', 'eau', 'Découvrir', 'détroit', 'Bering', 'piller', 'villes', 'péquenooooooots']]\n",
      "\n",
      "[284, 'Emlyn', ['Lors', 'première', 'partie', 'jeu', 'avait', 'fait', 'première', 'impression', 'très', 'positive', 'faut', 'dire', 'que', 'thème', 'est', 'très', 'bien', 'rendu', 'devient', 'rare', 'jours', 'mode', 'est', 'plus', 'plus', 'jeux', 'abstraits', 'colle', 'habillage', 'héroïque', 'deuxième', 'partie', 'amène', 'tempérer', 'enthousiasme', 'initial', 'si', 'partie', 'reste', 'plaisante', 'apparaît', 'cependant', 'qu', \"'\", 'est', 'peu', 'trop', 'longue', 'jeu', 'hasard', 'tient', 'définitive', 'place', 'très', 'importante', 'compter', 'moins', 'deux', 'heures', 'lieu', 'nonante', 'minutes', 'indiquées', 'boite).Je', 'serais', 'tenté', 'rejouer', 'alors', 'retirant', 'avantage', 'cartes', 'Saga', 'façon', 'écourter', 'jeu']]\n",
      "\n",
      "[289, 'Zaroff', ['clair', 'début', 'est', 'peu', 'perdu', 'faut', 'calculer', 'souvenir', 'actions', 'ne', 'coûtent', 'anticiper', 'peu', 'fois', 'pris', 'main', 'vogue', 'drakkar', 'commerçons', 'pillons', 'colonisons', 'N', \"'\", 'hésitez', 'pas', 'coloniser', 'peut', 'rapporter', 'gros', 'Bref', 'bon', 'jeu', 'alors', 'pourquoi', 'pas', 'très', 'bon', 'Eh', 'bien', 'cause', 'cartes', 'runes', 'apportent', 'chaos', 'tempête', 'jeu', 'plus', 'permettent', 'facher', 'amis', '2', 'derniers', 'vikings', 'perdus', 'tempête', 'juste', 'rentrer', 'port', 'Rome', ')', '.Du', 'coup', 'demande', 'si', 'cartes', 'apportent', 'vraiment', 'chose']]\n",
      "\n",
      "[68, 'Xav', ['thème', 'est', 'particulièrement', 'bien', 'retranscrit', 'jeu', 'matériel', 'splendide', 'prend', 'plaisir', 'commercer', 'piller', 'coloniser', 'surtout', 'lorsqu', \"'\", 'peut', 'finir', 'saga', 'nez', 'barbe', 'jarl', 'a', 'entamée', 'existe', 'façons', 'engranger', 'points', 'victoire', 'stratégies', 'jeu', 'peuvent', 'être', 'mises', 'pied', 'dépit', 'part', 'hasard', 'présente', 'pas', 'désagréable', 'souffle', 'épique', 'Walkyries', 'est', 'jeu', 'plaisirs', 'infinis']]\n",
      "\n"
     ]
    }
   ],
   "source": [
    "top_comments_with_rank2 = get_top_comments_filtres('Monsieur Guillaume', 'Invasions', 5, 10)\n",
    "for c in top_comments_with_rank2:\n",
    "    print(c)\n",
    "    print()"
   ]
  }
 ],
 "metadata": {
  "kernelspec": {
   "display_name": "base",
   "language": "python",
   "name": "python3"
  },
  "language_info": {
   "codemirror_mode": {
    "name": "ipython",
    "version": 3
   },
   "file_extension": ".py",
   "mimetype": "text/x-python",
   "name": "python",
   "nbconvert_exporter": "python",
   "pygments_lexer": "ipython3",
   "version": "3.9.18"
  },
  "orig_nbformat": 4
 },
 "nbformat": 4,
 "nbformat_minor": 2
}
