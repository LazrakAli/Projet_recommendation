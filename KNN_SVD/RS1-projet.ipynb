{
 "cells": [
  {
   "cell_type": "markdown",
   "metadata": {},
   "source": [
    "# Recommenders 1 -- (1h) \n",
    "\n",
    "## Goals of this practical:\n",
    "\n",
    "1. Have a quick statistical tour of a recommendation dataset (~10min)\n",
    "2. Understand the classical task of rating prediction (~10min)\n",
    "3. Know and implement really simple but tough baselines (~20min)\n",
    "4. Use a scikit like library to build explicit recommender sysems (~20min)\n",
    "\n",
    "\n",
    "## What is collaborative filtering ?\n",
    "\n",
    "On the internet, people rate items (or simply click on them, showing preference). All these ratings can be seen as a matrix coding for all ratings of size (n_user,n_item). It's worth noting that this matrix is highly sparse: No one rates everything, people only rate a subset of items. **Collaborative filtering** is done by leveraging the similarity in people's rating pattern. It enables to find \n",
    "\n",
    "\n",
    "Recommendation (more specifically **collaborative filtering**) goal can be seen as predicting how someone will rate one item. This is akin to filling this matrix, by predicting all missing ratings. The most used algorithms for this task are matrix factorization ones: they take advantage from the fact that a matrix can be decomposed into two sub-matrices: one coding for the users and one coding for the items.\n",
    "\n",
    "## Why predicting ratings and not directly items:\n",
    "\n",
    "Theoritically, the goal of a recommender system is to cherry pick interesting items for one user within a huge collection. Rating prediction is a surrogate problem of item prediction. To get what item to recommend you can, for exemple, simply sort best rated items. It has been shown that improving rating prediction actually improve item prediction.\n",
    "\n",
    "\n",
    "## Data used : [smallest movie-lens dataset](https://grouplens.org/datasets/movielens/)\n",
    "\n",
    "In this practical we use a small dataset of user ratings on movies. Specifically, we treat the dataset as list of $(user,item,rating)$ triplets.\n",
    "\n",
    "\n",
    "\n",
    "## Notes: \n",
    "\n",
    "We'll be using pandas for data manipulation but it's not needed to know any special tricks. If you have any pandas related questions, just ask !"
   ]
  },
  {
   "cell_type": "markdown",
   "metadata": {},
   "source": [
    "### Prerequisites:\n",
    "\n",
    "First, we install and load some packages"
   ]
  },
  {
   "cell_type": "code",
   "execution_count": 9,
   "metadata": {},
   "outputs": [],
   "source": [
    "## Uncomment this to install required packages if needed (and restart kernel !)\n",
    "#! pip install --upgrade pandas\n",
    "#! pip install --upgrade seaborn\n",
    "#! pip install --upgrade scikit-surprise"
   ]
  },
  {
   "cell_type": "code",
   "execution_count": 10,
   "metadata": {},
   "outputs": [],
   "source": [
    "import pandas as pd # we'll use pandas for data analysis\n",
    "import seaborn as sns # we'll use seaborn for nice plots\n",
    "import numpy as np # we'll use numpy for data also\n",
    "%matplotlib inline"
   ]
  },
  {
   "cell_type": "code",
   "execution_count": 11,
   "metadata": {},
   "outputs": [
    {
     "name": "stdout",
     "output_type": "stream",
     "text": [
      "2.2.0\n",
      "0.13.2\n"
     ]
    }
   ],
   "source": [
    "#Should be 0.25.3\n",
    "print(pd.__version__)\n",
    "\n",
    "#Should be 0.9.0\n",
    "print(sns.__version__)\n",
    "\n",
    "## These are the version the notebook has been built on. It could work on old ones, or it could not :)"
   ]
  },
  {
   "cell_type": "markdown",
   "metadata": {},
   "source": [
    "# 1. Let's have a quick statistical tour of the ml-small dataset"
   ]
  },
  {
   "cell_type": "markdown",
   "metadata": {},
   "source": [
    "This is the [smallest movie-lens dataset](https://grouplens.org/datasets/movielens/) it is a subset of a bigger data set of movie ratings.\n",
    "\n",
    "> This dataset (ml-latest-small) describes 5-star rating and free-text tagging activity from MovieLens, a movie recommendation service. It contains 100836 ratings and 3683 tag applications across 9742 movies. These data were created by 610 users between March 29, 1996 and September 24, 2018. This dataset was generated on September 26, 2018.\n",
    "\n",
    "> Users were selected at random for inclusion. All selected users had rated at least 20 movies. No demographic information is included. Each user is represented by an id, and no other information is provided."
   ]
  },
  {
   "cell_type": "markdown",
   "metadata": {},
   "source": [
    "## First, let's load the data with pandas and see how it looks"
   ]
  },
  {
   "cell_type": "code",
   "execution_count": 12,
   "metadata": {},
   "outputs": [
    {
     "data": {
      "text/html": [
       "<div>\n",
       "<style scoped>\n",
       "    .dataframe tbody tr th:only-of-type {\n",
       "        vertical-align: middle;\n",
       "    }\n",
       "\n",
       "    .dataframe tbody tr th {\n",
       "        vertical-align: top;\n",
       "    }\n",
       "\n",
       "    .dataframe thead th {\n",
       "        text-align: right;\n",
       "    }\n",
       "</style>\n",
       "<table border=\"1\" class=\"dataframe\">\n",
       "  <thead>\n",
       "    <tr style=\"text-align: right;\">\n",
       "      <th></th>\n",
       "      <th>Unnamed: 0</th>\n",
       "      <th>author</th>\n",
       "      <th>title_review</th>\n",
       "      <th>note</th>\n",
       "      <th>title</th>\n",
       "      <th>comment</th>\n",
       "    </tr>\n",
       "  </thead>\n",
       "  <tbody>\n",
       "    <tr>\n",
       "      <th>0</th>\n",
       "      <td>0</td>\n",
       "      <td>Monsieur Guillaume</td>\n",
       "      <td>Voyages sur les ailes des papillons</td>\n",
       "      <td>8</td>\n",
       "      <td>Mariposas</td>\n",
       "      <td>Lorsque le jeu est jeu, bon, réflexif, joli po...</td>\n",
       "    </tr>\n",
       "    <tr>\n",
       "      <th>1</th>\n",
       "      <td>1</td>\n",
       "      <td>morlockbob</td>\n",
       "      <td>le festival de Michoacan</td>\n",
       "      <td>7</td>\n",
       "      <td>Mariposas</td>\n",
       "      <td>Comment continuer après un mega hit ? Simpleme...</td>\n",
       "    </tr>\n",
       "    <tr>\n",
       "      <th>2</th>\n",
       "      <td>2</td>\n",
       "      <td>SwatSh</td>\n",
       "      <td>Vivez la migration des monarques</td>\n",
       "      <td>7</td>\n",
       "      <td>Mariposas</td>\n",
       "      <td>Vin d'jeu: Avec Mariposas, Elizabeth Hargrave ...</td>\n",
       "    </tr>\n",
       "    <tr>\n",
       "      <th>3</th>\n",
       "      <td>3</td>\n",
       "      <td>Timi JeuxATheme</td>\n",
       "      <td>Bon</td>\n",
       "      <td>8</td>\n",
       "      <td>Mariposas</td>\n",
       "      <td>NaN</td>\n",
       "    </tr>\n",
       "    <tr>\n",
       "      <th>4</th>\n",
       "      <td>4</td>\n",
       "      <td>prunelles</td>\n",
       "      <td>Envolez-moi</td>\n",
       "      <td>9</td>\n",
       "      <td>Mariposas</td>\n",
       "      <td>Très joli bijou que ce jeu-là ! Le matériel, l...</td>\n",
       "    </tr>\n",
       "  </tbody>\n",
       "</table>\n",
       "</div>"
      ],
      "text/plain": [
       "   Unnamed: 0              author                         title_review  note  \\\n",
       "0           0  Monsieur Guillaume  Voyages sur les ailes des papillons     8   \n",
       "1           1          morlockbob             le festival de Michoacan     7   \n",
       "2           2              SwatSh     Vivez la migration des monarques     7   \n",
       "3           3     Timi JeuxATheme                                  Bon     8   \n",
       "4           4           prunelles                          Envolez-moi     9   \n",
       "\n",
       "       title                                            comment  \n",
       "0  Mariposas  Lorsque le jeu est jeu, bon, réflexif, joli po...  \n",
       "1  Mariposas  Comment continuer après un mega hit ? Simpleme...  \n",
       "2  Mariposas  Vin d'jeu: Avec Mariposas, Elizabeth Hargrave ...  \n",
       "3  Mariposas                                                NaN  \n",
       "4  Mariposas  Très joli bijou que ce jeu-là ! Le matériel, l...  "
      ]
     },
     "execution_count": 12,
     "metadata": {},
     "output_type": "execute_result"
    }
   ],
   "source": [
    "ratings = pd.read_csv(\"./BDD/avis.csv\")\n",
    "ratings.head(5)"
   ]
  },
  {
   "cell_type": "markdown",
   "metadata": {},
   "source": [
    "## (WARMUP) Some simple questions we'll try to answer:\n",
    "- How many users are there ?\n",
    "- How many items are there ?\n",
    "- How are ratings distributed ? Per users ? Per items ?\n",
    "- What is the mean rating ?\n",
    "...\n"
   ]
  },
  {
   "cell_type": "markdown",
   "metadata": {},
   "source": [
    "## TODO: Find how many user and item there are."
   ]
  },
  {
   "cell_type": "code",
   "execution_count": 13,
   "metadata": {},
   "outputs": [
    {
     "name": "stdout",
     "output_type": "stream",
     "text": [
      "there are 2459 users and 3337 items\n"
     ]
    }
   ],
   "source": [
    "ratings[\"author\"].values #numpy array\n",
    "ratings[\"title\"] #pandas serie\n",
    "#there are 610 users and 9724 items\n",
    "\n",
    "num_users  = ratings[\"author\"].nunique()\n",
    "num_items  = ratings[\"title\"].nunique()\n",
    "\n",
    "print(f\"there are {num_users} users and {num_items} items\")"
   ]
  },
  {
   "cell_type": "markdown",
   "metadata": {},
   "source": [
    "## TODO: Find how sparse the rating matrix is.\n",
    "\n",
    "Rating data is often though of a user/item matrix. Since each user haven't rated every items this matrix is HIGHLY SPARSE (it's mainly filled with zeros). \n",
    "- Find the sparsity of the matrix (spoiler: it's ~1.69% full)"
   ]
  },
  {
   "cell_type": "code",
   "execution_count": 14,
   "metadata": {},
   "outputs": [
    {
     "name": "stdout",
     "output_type": "stream",
     "text": [
      "Rating matrix is only 1.4393317411847375% full\n"
     ]
    }
   ],
   "source": [
    "#Rating matrix is only 1.6999683055613624% full\n",
    "\n",
    "sparsity = (len(ratings) / (num_users*num_items))*100\n",
    "print(f\"Rating matrix is only {sparsity}% full\")\n"
   ]
  },
  {
   "cell_type": "markdown",
   "metadata": {},
   "source": [
    "## TODO: Lets compute some stats:\n",
    "\n",
    "- Find the count/mean/std/min/max of ratings "
   ]
  },
  {
   "cell_type": "code",
   "execution_count": 15,
   "metadata": {},
   "outputs": [
    {
     "data": {
      "text/html": [
       "<div>\n",
       "<style scoped>\n",
       "    .dataframe tbody tr th:only-of-type {\n",
       "        vertical-align: middle;\n",
       "    }\n",
       "\n",
       "    .dataframe tbody tr th {\n",
       "        vertical-align: top;\n",
       "    }\n",
       "\n",
       "    .dataframe thead th {\n",
       "        text-align: right;\n",
       "    }\n",
       "</style>\n",
       "<table border=\"1\" class=\"dataframe\">\n",
       "  <thead>\n",
       "    <tr style=\"text-align: right;\">\n",
       "      <th></th>\n",
       "      <th>Unnamed: 0</th>\n",
       "      <th>note</th>\n",
       "    </tr>\n",
       "  </thead>\n",
       "  <tbody>\n",
       "    <tr>\n",
       "      <th>count</th>\n",
       "      <td>118107.000000</td>\n",
       "      <td>118107.000000</td>\n",
       "    </tr>\n",
       "    <tr>\n",
       "      <th>mean</th>\n",
       "      <td>89016.154800</td>\n",
       "      <td>7.341682</td>\n",
       "    </tr>\n",
       "    <tr>\n",
       "      <th>std</th>\n",
       "      <td>50251.018571</td>\n",
       "      <td>2.104630</td>\n",
       "    </tr>\n",
       "    <tr>\n",
       "      <th>min</th>\n",
       "      <td>0.000000</td>\n",
       "      <td>0.000000</td>\n",
       "    </tr>\n",
       "    <tr>\n",
       "      <th>50%</th>\n",
       "      <td>87879.000000</td>\n",
       "      <td>8.000000</td>\n",
       "    </tr>\n",
       "    <tr>\n",
       "      <th>max</th>\n",
       "      <td>176242.000000</td>\n",
       "      <td>10.000000</td>\n",
       "    </tr>\n",
       "  </tbody>\n",
       "</table>\n",
       "</div>"
      ],
      "text/plain": [
       "          Unnamed: 0           note\n",
       "count  118107.000000  118107.000000\n",
       "mean    89016.154800       7.341682\n",
       "std     50251.018571       2.104630\n",
       "min         0.000000       0.000000\n",
       "50%     87879.000000       8.000000\n",
       "max    176242.000000      10.000000"
      ]
     },
     "execution_count": 15,
     "metadata": {},
     "output_type": "execute_result"
    }
   ],
   "source": [
    "ratings.describe(percentiles=[])"
   ]
  },
  {
   "cell_type": "markdown",
   "metadata": {},
   "source": [
    "- Find/plot the global rating distribution"
   ]
  },
  {
   "cell_type": "code",
   "execution_count": 16,
   "metadata": {},
   "outputs": [
    {
     "data": {
      "text/plain": [
       "<Axes: xlabel='note', ylabel='Count'>"
      ]
     },
     "execution_count": 16,
     "metadata": {},
     "output_type": "execute_result"
    },
    {
     "data": {
      "image/png": "[encoded data removed]",
      "text/plain": [
       "<Figure size 640x480 with 1 Axes>"
      ]
     },
     "metadata": {},
     "output_type": "display_data"
    }
   ],
   "source": [
    "sns.histplot(data=ratings, x = 'note')"
   ]
  },
  {
   "cell_type": "markdown",
   "metadata": {},
   "source": [
    "- Find/plot the user means rating distribution"
   ]
  },
  {
   "cell_type": "code",
   "execution_count": 17,
   "metadata": {
    "scrolled": true
   },
   "outputs": [
    {
     "data": {
      "text/plain": [
       "<Axes: xlabel='avg_rating', ylabel='Count'>"
      ]
     },
     "execution_count": 17,
     "metadata": {},
     "output_type": "execute_result"
    },
    {
     "data": {
      "image/png": "[encoded data removed]",
      "text/plain": [
       "<Figure size 640x480 with 1 Axes>"
      ]
     },
     "metadata": {},
     "output_type": "display_data"
    }
   ],
   "source": [
    "average_ratings = ratings.groupby('author')['note'].mean()\n",
    "avg_ratings_df = pd.DataFrame({'userId':average_ratings.index, 'avg_rating':average_ratings.values})\n",
    "\n",
    "sns.histplot(data=avg_ratings_df, x='avg_rating')"
   ]
  },
  {
   "cell_type": "markdown",
   "metadata": {},
   "source": [
    "- Find/plot the item means rating distribution"
   ]
  },
  {
   "cell_type": "code",
   "execution_count": 18,
   "metadata": {},
   "outputs": [
    {
     "data": {
      "text/plain": [
       "<Axes: xlabel='avg_rating', ylabel='Count'>"
      ]
     },
     "execution_count": 18,
     "metadata": {},
     "output_type": "execute_result"
    },
    {
     "data": {
      "image/png": "[encoded data removed]",
      "text/plain": [
       "<Figure size 640x480 with 1 Axes>"
      ]
     },
     "metadata": {},
     "output_type": "display_data"
    }
   ],
   "source": [
    "rating_items = ratings.groupby('title')['note'].mean()\n",
    "avg_rating = pd.DataFrame({'movieId':rating_items.index,'avg_rating':rating_items.values})\n",
    "\n",
    "sns.histplot(data=avg_rating, x='avg_rating')"
   ]
  },
  {
   "cell_type": "markdown",
   "metadata": {},
   "source": [
    "## Stats Takeways:\n",
    "\n",
    "- as it's often the case on rating data, there is a high biais towards good ratings: people tend to rate things they like more than things they dislike"
   ]
  },
  {
   "cell_type": "markdown",
   "metadata": {},
   "source": [
    "# (Explicit) Collaborative Filtering  by predicting ratings:\n",
    "\n",
    "The Netflix competition introduced the following predictive framework: the goal is to predict missing ratings using existing ones.\n",
    "\n",
    "In short, the goal is to define a model $f$ to predict how a user $u$ would rate an item $i$ : \n",
    "\n",
    "### $$ f(u,i) = r_{ui} $$"
   ]
  },
  {
   "cell_type": "markdown",
   "metadata": {},
   "source": [
    "## First, let's build a train/test set\n",
    "\n",
    "Here, for simplicity, we take the 1 example out of 5 as a test example."
   ]
  },
  {
   "cell_type": "code",
   "execution_count": 19,
   "metadata": {},
   "outputs": [],
   "source": [
    "train_indexes,test_indexes = [],[]\n",
    "\n",
    "for index in range(len(ratings)):\n",
    "    if index%5 == 0:\n",
    "        test_indexes.append(index)\n",
    "    else:\n",
    "        train_indexes.append(index)\n",
    "\n",
    "train_ratings = ratings.iloc[train_indexes].copy()\n",
    "test_ratings = ratings.iloc[test_indexes].copy()"
   ]
  },
  {
   "cell_type": "markdown",
   "metadata": {},
   "source": [
    "In explicit collaborative filtering, the data are triplets of $(user,item,rating)$"
   ]
  },
  {
   "cell_type": "markdown",
   "metadata": {},
   "source": [
    "Let's see how one item is."
   ]
  },
  {
   "cell_type": "code",
   "execution_count": 20,
   "metadata": {},
   "outputs": [
    {
     "data": {
      "text/html": [
       "<div>\n",
       "<style scoped>\n",
       "    .dataframe tbody tr th:only-of-type {\n",
       "        vertical-align: middle;\n",
       "    }\n",
       "\n",
       "    .dataframe tbody tr th {\n",
       "        vertical-align: top;\n",
       "    }\n",
       "\n",
       "    .dataframe thead th {\n",
       "        text-align: right;\n",
       "    }\n",
       "</style>\n",
       "<table border=\"1\" class=\"dataframe\">\n",
       "  <thead>\n",
       "    <tr style=\"text-align: right;\">\n",
       "      <th></th>\n",
       "      <th>Unnamed: 0</th>\n",
       "      <th>author</th>\n",
       "      <th>title_review</th>\n",
       "      <th>note</th>\n",
       "      <th>title</th>\n",
       "      <th>comment</th>\n",
       "    </tr>\n",
       "  </thead>\n",
       "  <tbody>\n",
       "    <tr>\n",
       "      <th>0</th>\n",
       "      <td>0</td>\n",
       "      <td>Monsieur Guillaume</td>\n",
       "      <td>Voyages sur les ailes des papillons</td>\n",
       "      <td>8</td>\n",
       "      <td>Mariposas</td>\n",
       "      <td>Lorsque le jeu est jeu, bon, réflexif, joli po...</td>\n",
       "    </tr>\n",
       "    <tr>\n",
       "      <th>5</th>\n",
       "      <td>5</td>\n",
       "      <td>BSI40</td>\n",
       "      <td>Manque un peu de souffle</td>\n",
       "      <td>7</td>\n",
       "      <td>Mariposas</td>\n",
       "      <td>Mariposas est plutôt beau avec un grand platea...</td>\n",
       "    </tr>\n",
       "    <tr>\n",
       "      <th>10</th>\n",
       "      <td>10</td>\n",
       "      <td>Max Riock</td>\n",
       "      <td>Vraiment bon</td>\n",
       "      <td>9</td>\n",
       "      <td>Mariposas</td>\n",
       "      <td>NaN</td>\n",
       "    </tr>\n",
       "    <tr>\n",
       "      <th>15</th>\n",
       "      <td>15</td>\n",
       "      <td>Lilly</td>\n",
       "      <td>Beau et Doux et Rapide</td>\n",
       "      <td>8</td>\n",
       "      <td>Mariposas</td>\n",
       "      <td>Mariposas est un jeu ou la tension va s'exacer...</td>\n",
       "    </tr>\n",
       "    <tr>\n",
       "      <th>20</th>\n",
       "      <td>22</td>\n",
       "      <td>Ricardo31</td>\n",
       "      <td>Sympa, de bons moments à passer, mais pas un j...</td>\n",
       "      <td>7</td>\n",
       "      <td>Mariposas</td>\n",
       "      <td>J'aime jouer à Mariposas de temps à autre. Qua...</td>\n",
       "    </tr>\n",
       "    <tr>\n",
       "      <th>25</th>\n",
       "      <td>30</td>\n",
       "      <td>Emmanuel72</td>\n",
       "      <td>Bon</td>\n",
       "      <td>7</td>\n",
       "      <td>Mariposas</td>\n",
       "      <td>NaN</td>\n",
       "    </tr>\n",
       "  </tbody>\n",
       "</table>\n",
       "</div>"
      ],
      "text/plain": [
       "    Unnamed: 0              author  \\\n",
       "0            0  Monsieur Guillaume   \n",
       "5            5               BSI40   \n",
       "10          10           Max Riock   \n",
       "15          15               Lilly   \n",
       "20          22           Ricardo31   \n",
       "25          30          Emmanuel72   \n",
       "\n",
       "                                         title_review  note      title  \\\n",
       "0                 Voyages sur les ailes des papillons     8  Mariposas   \n",
       "5                            Manque un peu de souffle     7  Mariposas   \n",
       "10                                       Vraiment bon     9  Mariposas   \n",
       "15                             Beau et Doux et Rapide     8  Mariposas   \n",
       "20  Sympa, de bons moments à passer, mais pas un j...     7  Mariposas   \n",
       "25                                                Bon     7  Mariposas   \n",
       "\n",
       "                                              comment  \n",
       "0   Lorsque le jeu est jeu, bon, réflexif, joli po...  \n",
       "5   Mariposas est plutôt beau avec un grand platea...  \n",
       "10                                                NaN  \n",
       "15  Mariposas est un jeu ou la tension va s'exacer...  \n",
       "20  J'aime jouer à Mariposas de temps à autre. Qua...  \n",
       "25                                                NaN  "
      ]
     },
     "execution_count": 20,
     "metadata": {},
     "output_type": "execute_result"
    }
   ],
   "source": [
    "test_ratings[test_ratings[\"title\"] == 'Mariposas']"
   ]
  },
  {
   "cell_type": "markdown",
   "metadata": {},
   "source": [
    "Given the triplet $(2,131724,5)$, the model goal will be to predict $f(2,131724) = 5$"
   ]
  },
  {
   "cell_type": "markdown",
   "metadata": {},
   "source": [
    "## Basic Recsys **mean** baselines implementations\n",
    "\n",
    "First, before digging into more complicated models, we'll implement three really simple baselines:\n",
    "\n",
    "- The global mean $\\mu$\n",
    "- The user mean $b_u$\n",
    "- The item mean $b_i$\n",
    "\n",
    "Indeed, the rating distribution is not uniform at all (it looks more normal). Therefore, the means are good baselines."
   ]
  },
  {
   "cell_type": "markdown",
   "metadata": {},
   "source": [
    "## TODO: compute the global training mean, user means and item means\n",
    "\n",
    "- First, compute basic means to use them as baseline\n",
    "\n",
    "**NOTE**: User or items can be missing from train-set: be sure to return something in that case"
   ]
  },
  {
   "cell_type": "code",
   "execution_count": 21,
   "metadata": {},
   "outputs": [],
   "source": [
    "MEAN = train_ratings[\"note\"].mean()\n",
    "USER_MEANS = train_ratings.groupby(\"author\")[\"note\"].mean()\n",
    "ITEM_MEANS = train_ratings.groupby(\"title\")[\"note\"].mean()\n",
    "\n",
    "\n",
    "def mean_rating_pred(user_item):\n",
    "    user = user_item[\"author\"]\n",
    "    item = user_item[\"title\"]\n",
    "    \n",
    "    return MEAN\n",
    "\n",
    "def user_mean_rating_pred(user_item):\n",
    "    user = user_item[\"author\"]\n",
    "    item = user_item[\"title\"]\n",
    "    \n",
    "    return USER_MEANS.get(user, default=MEAN)\n",
    "\n",
    "def item_mean_rating_pred(user_item):\n",
    "    user = user_item[\"author\"]\n",
    "    item = user_item[\"title\"]\n",
    "    \n",
    "    return ITEM_MEANS.get(user, default=MEAN)"
   ]
  },
  {
   "cell_type": "markdown",
   "metadata": {},
   "source": [
    "### You should be able to run the following cell to get mean predictions (instead of None's)"
   ]
  },
  {
   "cell_type": "code",
   "execution_count": 22,
   "metadata": {},
   "outputs": [
    {
     "data": {
      "text/html": [
       "<div>\n",
       "<style scoped>\n",
       "    .dataframe tbody tr th:only-of-type {\n",
       "        vertical-align: middle;\n",
       "    }\n",
       "\n",
       "    .dataframe tbody tr th {\n",
       "        vertical-align: top;\n",
       "    }\n",
       "\n",
       "    .dataframe thead th {\n",
       "        text-align: right;\n",
       "    }\n",
       "</style>\n",
       "<table border=\"1\" class=\"dataframe\">\n",
       "  <thead>\n",
       "    <tr style=\"text-align: right;\">\n",
       "      <th></th>\n",
       "      <th>Unnamed: 0</th>\n",
       "      <th>author</th>\n",
       "      <th>title_review</th>\n",
       "      <th>note</th>\n",
       "      <th>title</th>\n",
       "      <th>comment</th>\n",
       "      <th>mean_prediction</th>\n",
       "      <th>muser_prediction</th>\n",
       "      <th>mitem_prediction</th>\n",
       "    </tr>\n",
       "  </thead>\n",
       "  <tbody>\n",
       "    <tr>\n",
       "      <th>0</th>\n",
       "      <td>0</td>\n",
       "      <td>Monsieur Guillaume</td>\n",
       "      <td>Voyages sur les ailes des papillons</td>\n",
       "      <td>8</td>\n",
       "      <td>Mariposas</td>\n",
       "      <td>Lorsque le jeu est jeu, bon, réflexif, joli po...</td>\n",
       "      <td>7.341134</td>\n",
       "      <td>8.000000</td>\n",
       "      <td>7.341134</td>\n",
       "    </tr>\n",
       "    <tr>\n",
       "      <th>5</th>\n",
       "      <td>5</td>\n",
       "      <td>BSI40</td>\n",
       "      <td>Manque un peu de souffle</td>\n",
       "      <td>7</td>\n",
       "      <td>Mariposas</td>\n",
       "      <td>Mariposas est plutôt beau avec un grand platea...</td>\n",
       "      <td>7.341134</td>\n",
       "      <td>7.203704</td>\n",
       "      <td>7.341134</td>\n",
       "    </tr>\n",
       "    <tr>\n",
       "      <th>10</th>\n",
       "      <td>10</td>\n",
       "      <td>Max Riock</td>\n",
       "      <td>Vraiment bon</td>\n",
       "      <td>9</td>\n",
       "      <td>Mariposas</td>\n",
       "      <td>NaN</td>\n",
       "      <td>7.341134</td>\n",
       "      <td>8.507246</td>\n",
       "      <td>7.341134</td>\n",
       "    </tr>\n",
       "    <tr>\n",
       "      <th>15</th>\n",
       "      <td>15</td>\n",
       "      <td>Lilly</td>\n",
       "      <td>Beau et Doux et Rapide</td>\n",
       "      <td>8</td>\n",
       "      <td>Mariposas</td>\n",
       "      <td>Mariposas est un jeu ou la tension va s'exacer...</td>\n",
       "      <td>7.341134</td>\n",
       "      <td>8.250000</td>\n",
       "      <td>7.341134</td>\n",
       "    </tr>\n",
       "    <tr>\n",
       "      <th>20</th>\n",
       "      <td>22</td>\n",
       "      <td>Ricardo31</td>\n",
       "      <td>Sympa, de bons moments à passer, mais pas un j...</td>\n",
       "      <td>7</td>\n",
       "      <td>Mariposas</td>\n",
       "      <td>J'aime jouer à Mariposas de temps à autre. Qua...</td>\n",
       "      <td>7.341134</td>\n",
       "      <td>8.285714</td>\n",
       "      <td>7.341134</td>\n",
       "    </tr>\n",
       "  </tbody>\n",
       "</table>\n",
       "</div>"
      ],
      "text/plain": [
       "    Unnamed: 0              author  \\\n",
       "0            0  Monsieur Guillaume   \n",
       "5            5               BSI40   \n",
       "10          10           Max Riock   \n",
       "15          15               Lilly   \n",
       "20          22           Ricardo31   \n",
       "\n",
       "                                         title_review  note      title  \\\n",
       "0                 Voyages sur les ailes des papillons     8  Mariposas   \n",
       "5                            Manque un peu de souffle     7  Mariposas   \n",
       "10                                       Vraiment bon     9  Mariposas   \n",
       "15                             Beau et Doux et Rapide     8  Mariposas   \n",
       "20  Sympa, de bons moments à passer, mais pas un j...     7  Mariposas   \n",
       "\n",
       "                                              comment  mean_prediction  \\\n",
       "0   Lorsque le jeu est jeu, bon, réflexif, joli po...         7.341134   \n",
       "5   Mariposas est plutôt beau avec un grand platea...         7.341134   \n",
       "10                                                NaN         7.341134   \n",
       "15  Mariposas est un jeu ou la tension va s'exacer...         7.341134   \n",
       "20  J'aime jouer à Mariposas de temps à autre. Qua...         7.341134   \n",
       "\n",
       "    muser_prediction  mitem_prediction  \n",
       "0           8.000000          7.341134  \n",
       "5           7.203704          7.341134  \n",
       "10          8.507246          7.341134  \n",
       "15          8.250000          7.341134  \n",
       "20          8.285714          7.341134  "
      ]
     },
     "execution_count": 22,
     "metadata": {},
     "output_type": "execute_result"
    }
   ],
   "source": [
    "#We create the rating prediction columns\n",
    "test_ratings[\"mean_prediction\"] = test_ratings[[\"author\",\"title\"]].apply(mean_rating_pred,axis=1)\n",
    "test_ratings[\"muser_prediction\"] = test_ratings[[\"author\",\"title\"]].apply(user_mean_rating_pred,axis=1) \n",
    "test_ratings[\"mitem_prediction\"] = test_ratings[[\"author\",\"title\"]].apply(item_mean_rating_pred,axis=1) \n",
    "\n",
    "test_ratings.head(5)"
   ]
  },
  {
   "cell_type": "markdown",
   "metadata": {},
   "source": [
    "#### Ok, now that we've got some predictions, let's evaluate them:"
   ]
  },
  {
   "cell_type": "markdown",
   "metadata": {},
   "source": [
    "## Evaluation metrics:\n",
    "\n",
    "In explicit collaborative filtering there are three common metrics to compare a ground truth $x$ to a predicted $\\hat{x}$:\n",
    "\n",
    "- Mean Average Error (MAE) : $$\\frac{1}{n}\\sum^n|(x-\\hat{x})|$$\n",
    "- Mean Squared Error (MSE) : $$\\frac{1}{n}\\sum^n(x-\\hat{x})^2$$\n",
    "- Rooted Mean Squared Error (RMSE) : $$\\sqrt{\\frac{1}{n}\\sum^n(x-\\hat{x})^2}$$"
   ]
  },
  {
   "cell_type": "markdown",
   "metadata": {},
   "source": [
    "## TODO: Implement those metrics\n",
    "\n",
    "**Note:** The `predictions` and `truth` variables are arrays of predictions/ground_truth"
   ]
  },
  {
   "cell_type": "code",
   "execution_count": 23,
   "metadata": {},
   "outputs": [],
   "source": [
    "from math import sqrt\n",
    "\n",
    "def mae(predictions,truth):\n",
    "    \n",
    "    return ((predictions-truth).abs()).mean()\n",
    "\n",
    "def mse(predictions,truth):\n",
    "    \n",
    "    return ((predictions-truth)**2).mean()\n",
    "\n",
    "def rmse(predictions,truth):\n",
    "    \n",
    "    return sqrt(mse(predictions, truth))\n",
    "\n",
    "\n",
    "def all_metrics(predictions,truth):\n",
    "    return [f(predictions,truth) for f in [mae,mse,rmse]]"
   ]
  },
  {
   "cell_type": "markdown",
   "metadata": {},
   "source": [
    "### You should be able to run the following cell to get the metrics results (Instead of None)"
   ]
  },
  {
   "cell_type": "code",
   "execution_count": 24,
   "metadata": {},
   "outputs": [
    {
     "name": "stdout",
     "output_type": "stream",
     "text": [
      "         mean_prediction  muser_prediction  mitem_prediction\n",
      "metrics                                                     \n",
      "mae             1.703147          1.545615          1.703089\n",
      "mse             4.390987          3.943571          4.390818\n",
      "rmse            2.095468          1.985843          2.095428\n",
      "\n",
      "---Best Models / Metrics: ---\n"
     ]
    },
    {
     "data": {
      "text/plain": [
       "metrics\n",
       "mae     muser_prediction\n",
       "mse     muser_prediction\n",
       "rmse    muser_prediction\n",
       "dtype: object"
      ]
     },
     "execution_count": 24,
     "metadata": {},
     "output_type": "execute_result"
    }
   ],
   "source": [
    "metrics = [\"mae\",\"mse\",\"rmse\"]\n",
    "results = pd.DataFrame()\n",
    "\n",
    "results[\"metrics\"] = metrics\n",
    "results[\"mean_prediction\"] = all_metrics(test_ratings[\"mean_prediction\"],test_ratings[\"note\"])\n",
    "results[\"muser_prediction\"] = all_metrics(test_ratings[\"muser_prediction\"],test_ratings[\"note\"])\n",
    "results[\"mitem_prediction\"] = all_metrics(test_ratings[\"mitem_prediction\"],test_ratings[\"note\"])\n",
    "results = results.set_index(\"metrics\")\n",
    "\n",
    "print(results)\n",
    "print(\"\")\n",
    "print('---Best Models / Metrics: ---')\n",
    "results.idxmin(1)"
   ]
  },
  {
   "cell_type": "markdown",
   "metadata": {},
   "source": [
    "# Basic explicit collaborative filtering models - using surprise library\n",
    "\n",
    "> Surprise is an easy-to-use Python scikit for recommender systems.\n",
    "\n",
    "> Surprise has a set of built-in algorithms and datasets for you to play with. In its simplest form, it only takes a few lines of code to run a cross-validation procedure:\n",
    "\n",
    "[More details on the official documentation](https://surprise.readthedocs.io/en/stable/index.html)"
   ]
  },
  {
   "cell_type": "code",
   "execution_count": 25,
   "metadata": {},
   "outputs": [],
   "source": [
    "## Uncomment this to install required packages if needed (and restart kernel !)\n",
    "#! pip install --upgrade scikit-surprise"
   ]
  },
  {
   "cell_type": "markdown",
   "metadata": {},
   "source": [
    "## Loading custom data\n",
    "\n",
    "We want to be able to load our custom dataset in the framework data structures.  \n",
    "To do so, we could either load from a raw file or from a dataframe. We do the latter.\n",
    "\n",
    "(Here is the [Documentation reference](https://surprise.readthedocs.io/en/stable/getting_started.html#use-a-custom-dataset) for loading custom datasets)"
   ]
  },
  {
   "cell_type": "code",
   "execution_count": 26,
   "metadata": {},
   "outputs": [],
   "source": [
    "from surprise import NormalPredictor, BaselineOnly, SVD\n",
    "from surprise import Dataset\n",
    "from surprise import Reader\n",
    "from surprise.model_selection import cross_validate\n",
    "\n",
    "# The columns must correspond to user id, item id and ratings (in that order).\n",
    "data = Dataset.load_from_df(train_ratings[['author', 'title', 'note']], Reader(rating_scale=(1, 5)))"
   ]
  },
  {
   "cell_type": "markdown",
   "metadata": {},
   "source": [
    "## How do models work in Surprise ?\n",
    "\n",
    "It's fairly easy, Surprise follows the \"scikit\" way of doing things:\n",
    "```python\n",
    "model = GoodModel(params)\n",
    "model.fit(train_data)\n",
    "predictions = model.predict(test_data)\n",
    "```\n",
    "\n",
    "Ok, let's dig in:"
   ]
  },
  {
   "cell_type": "markdown",
   "metadata": {},
   "source": [
    "## The baseline model:\n",
    "\n",
    ">Typical CF data exhibit large user and item effects—systematic tendencies for\n",
    "some users to give higher ratings than others—and for some items to receive\n",
    "higher ratings than others. It is customary to adjust the data by accounting for\n",
    "these effects, which we encapsulate within the baseline estimates. Denote by\n",
    "μ the overall average rating. A baseline estimate for an unknown rating r ui is\n",
    "denoted by b ui and accounts for the user and item effects:\n",
    "\n",
    "## $$ \\hat{r}_{ui} = b_{ui} = \\mu + b_u + b_i $$\n",
    "\n",
    "(If user u is unknown, then the bias bu is assumed to be zero. The same applies for item i with bi.)\n",
    "\n",
    "> The parameters b u and b i indicate the observed deviations of user u and item i,\n",
    "respectively, from the average. For example, suppose that we want a baseline\n",
    "estimate for the rating of the movie Titanic by user Joe. Now, say that the\n",
    "average rating over all movies, μ, is 3.7 stars. Furthermore, Titanic is better\n",
    "than an average movie, so it tends to be rated 0.5 stars above the average. On\n",
    "the other hand, Joe is a critical user, who tends to rate 0.3 stars lower than the\n",
    "average. Thus, the baseline estimate for Titanic’s rating by Joe would be 3.9\n",
    "stars by calculating 3.7 − 0.3 + 0.5.\n",
    "\n",
    "(see [Yehuda Koren. Factor in the neighbors: scalable and accurate collaborative filtering. 2010.](http://courses.ischool.berkeley.edu/i290-dm/s11/SECURE/a1-koren.pdf))\n"
   ]
  },
  {
   "cell_type": "markdown",
   "metadata": {},
   "source": [
    "## (a) Fit"
   ]
  },
  {
   "cell_type": "code",
   "execution_count": 27,
   "metadata": {},
   "outputs": [
    {
     "name": "stdout",
     "output_type": "stream",
     "text": [
      "Estimating biases using als...\n"
     ]
    },
    {
     "data": {
      "text/plain": [
       "<surprise.prediction_algorithms.baseline_only.BaselineOnly at 0x1ffd513d990>"
      ]
     },
     "execution_count": 27,
     "metadata": {},
     "output_type": "execute_result"
    }
   ],
   "source": [
    "BaselineModel = BaselineOnly()\n",
    "BaselineModel.fit(data.build_full_trainset())"
   ]
  },
  {
   "cell_type": "markdown",
   "metadata": {},
   "source": [
    "## (b) Predict\n",
    "If you look at the [Prediction module](https://surprise.readthedocs.io/en/stable/predictions_module.html) documentation,\n",
    "you'll see that it has a little twist w/ respect to the traditional scikit \"predict\". It returns a Prediction \"[namedTuple](https://docs.python.org/3/library/collections.html#collections.namedtuple)\" with the following fields:\n",
    "\n",
    "- uid – The (raw) user id. (raw means it's the one you supplied, not the one automatically computed by surprise)\n",
    "- iid – The (raw) item id.\n",
    "- r_ui (float) – The true rating rui\n",
    "- est (float) – The estimated rating $r_{ui}$\n",
    "- details (dict) – Stores additional details about the prediction that might be useful for later analysis.\n",
    "\n",
    "**=>** if you have a namedTuple `prediction`: `prediction.uid` will contain the user id. "
   ]
  },
  {
   "cell_type": "code",
   "execution_count": 28,
   "metadata": {},
   "outputs": [
    {
     "data": {
      "text/html": [
       "<div>\n",
       "<style scoped>\n",
       "    .dataframe tbody tr th:only-of-type {\n",
       "        vertical-align: middle;\n",
       "    }\n",
       "\n",
       "    .dataframe tbody tr th {\n",
       "        vertical-align: top;\n",
       "    }\n",
       "\n",
       "    .dataframe thead th {\n",
       "        text-align: right;\n",
       "    }\n",
       "</style>\n",
       "<table border=\"1\" class=\"dataframe\">\n",
       "  <thead>\n",
       "    <tr style=\"text-align: right;\">\n",
       "      <th></th>\n",
       "      <th>Unnamed: 0</th>\n",
       "      <th>author</th>\n",
       "      <th>title_review</th>\n",
       "      <th>note</th>\n",
       "      <th>title</th>\n",
       "      <th>comment</th>\n",
       "      <th>mean_prediction</th>\n",
       "      <th>muser_prediction</th>\n",
       "      <th>mitem_prediction</th>\n",
       "      <th>opt_bl_prediction</th>\n",
       "    </tr>\n",
       "  </thead>\n",
       "  <tbody>\n",
       "    <tr>\n",
       "      <th>0</th>\n",
       "      <td>0</td>\n",
       "      <td>Monsieur Guillaume</td>\n",
       "      <td>Voyages sur les ailes des papillons</td>\n",
       "      <td>8</td>\n",
       "      <td>Mariposas</td>\n",
       "      <td>Lorsque le jeu est jeu, bon, réflexif, joli po...</td>\n",
       "      <td>7.341134</td>\n",
       "      <td>8.000000</td>\n",
       "      <td>7.341134</td>\n",
       "      <td>5.0</td>\n",
       "    </tr>\n",
       "    <tr>\n",
       "      <th>5</th>\n",
       "      <td>5</td>\n",
       "      <td>BSI40</td>\n",
       "      <td>Manque un peu de souffle</td>\n",
       "      <td>7</td>\n",
       "      <td>Mariposas</td>\n",
       "      <td>Mariposas est plutôt beau avec un grand platea...</td>\n",
       "      <td>7.341134</td>\n",
       "      <td>7.203704</td>\n",
       "      <td>7.341134</td>\n",
       "      <td>5.0</td>\n",
       "    </tr>\n",
       "    <tr>\n",
       "      <th>10</th>\n",
       "      <td>10</td>\n",
       "      <td>Max Riock</td>\n",
       "      <td>Vraiment bon</td>\n",
       "      <td>9</td>\n",
       "      <td>Mariposas</td>\n",
       "      <td>NaN</td>\n",
       "      <td>7.341134</td>\n",
       "      <td>8.507246</td>\n",
       "      <td>7.341134</td>\n",
       "      <td>5.0</td>\n",
       "    </tr>\n",
       "    <tr>\n",
       "      <th>15</th>\n",
       "      <td>15</td>\n",
       "      <td>Lilly</td>\n",
       "      <td>Beau et Doux et Rapide</td>\n",
       "      <td>8</td>\n",
       "      <td>Mariposas</td>\n",
       "      <td>Mariposas est un jeu ou la tension va s'exacer...</td>\n",
       "      <td>7.341134</td>\n",
       "      <td>8.250000</td>\n",
       "      <td>7.341134</td>\n",
       "      <td>5.0</td>\n",
       "    </tr>\n",
       "    <tr>\n",
       "      <th>20</th>\n",
       "      <td>22</td>\n",
       "      <td>Ricardo31</td>\n",
       "      <td>Sympa, de bons moments à passer, mais pas un j...</td>\n",
       "      <td>7</td>\n",
       "      <td>Mariposas</td>\n",
       "      <td>J'aime jouer à Mariposas de temps à autre. Qua...</td>\n",
       "      <td>7.341134</td>\n",
       "      <td>8.285714</td>\n",
       "      <td>7.341134</td>\n",
       "      <td>5.0</td>\n",
       "    </tr>\n",
       "    <tr>\n",
       "      <th>...</th>\n",
       "      <td>...</td>\n",
       "      <td>...</td>\n",
       "      <td>...</td>\n",
       "      <td>...</td>\n",
       "      <td>...</td>\n",
       "      <td>...</td>\n",
       "      <td>...</td>\n",
       "      <td>...</td>\n",
       "      <td>...</td>\n",
       "      <td>...</td>\n",
       "    </tr>\n",
       "    <tr>\n",
       "      <th>118085</th>\n",
       "      <td>176198</td>\n",
       "      <td>YoshiFR</td>\n",
       "      <td>Piou Piou Piou...</td>\n",
       "      <td>6</td>\n",
       "      <td>Mag Blast</td>\n",
       "      <td>BAh oui il faut faire les bruitages, sinon ça ...</td>\n",
       "      <td>7.341134</td>\n",
       "      <td>6.846154</td>\n",
       "      <td>7.341134</td>\n",
       "      <td>5.0</td>\n",
       "    </tr>\n",
       "    <tr>\n",
       "      <th>118090</th>\n",
       "      <td>176203</td>\n",
       "      <td>Pickouette</td>\n",
       "      <td>Piou!!! Boum!!! Badaboum!!! Crac!!! Et re piou!!!</td>\n",
       "      <td>8</td>\n",
       "      <td>Mag Blast</td>\n",
       "      <td>Petit jeu bien fun ou il faut faire des bruita...</td>\n",
       "      <td>7.341134</td>\n",
       "      <td>8.000000</td>\n",
       "      <td>7.341134</td>\n",
       "      <td>5.0</td>\n",
       "    </tr>\n",
       "    <tr>\n",
       "      <th>118095</th>\n",
       "      <td>176210</td>\n",
       "      <td>Max59</td>\n",
       "      <td>Merde pas les escadrons!!</td>\n",
       "      <td>6</td>\n",
       "      <td>Mag Blast</td>\n",
       "      <td>Je n'y ai joué qu'à deux joeurs, mais il se ré...</td>\n",
       "      <td>7.341134</td>\n",
       "      <td>6.000000</td>\n",
       "      <td>7.341134</td>\n",
       "      <td>5.0</td>\n",
       "    </tr>\n",
       "    <tr>\n",
       "      <th>118100</th>\n",
       "      <td>176230</td>\n",
       "      <td>Zombie Killer</td>\n",
       "      <td>Un bon jeu tactique</td>\n",
       "      <td>8</td>\n",
       "      <td>Zombie Town</td>\n",
       "      <td>J'ai eu l'occasion de tester ce jeu en deux oc...</td>\n",
       "      <td>7.341134</td>\n",
       "      <td>8.125000</td>\n",
       "      <td>7.341134</td>\n",
       "      <td>5.0</td>\n",
       "    </tr>\n",
       "    <tr>\n",
       "      <th>118105</th>\n",
       "      <td>176241</td>\n",
       "      <td>MonsieurDé</td>\n",
       "      <td>Si les chats gardent les chèvres, qui attraper...</td>\n",
       "      <td>10</td>\n",
       "      <td>Tino Topini</td>\n",
       "      <td>NaN</td>\n",
       "      <td>7.341134</td>\n",
       "      <td>7.666667</td>\n",
       "      <td>7.341134</td>\n",
       "      <td>5.0</td>\n",
       "    </tr>\n",
       "  </tbody>\n",
       "</table>\n",
       "<p>23622 rows × 10 columns</p>\n",
       "</div>"
      ],
      "text/plain": [
       "        Unnamed: 0              author  \\\n",
       "0                0  Monsieur Guillaume   \n",
       "5                5               BSI40   \n",
       "10              10           Max Riock   \n",
       "15              15               Lilly   \n",
       "20              22           Ricardo31   \n",
       "...            ...                 ...   \n",
       "118085      176198             YoshiFR   \n",
       "118090      176203          Pickouette   \n",
       "118095      176210               Max59   \n",
       "118100      176230       Zombie Killer   \n",
       "118105      176241          MonsieurDé   \n",
       "\n",
       "                                             title_review  note        title  \\\n",
       "0                     Voyages sur les ailes des papillons     8    Mariposas   \n",
       "5                                Manque un peu de souffle     7    Mariposas   \n",
       "10                                           Vraiment bon     9    Mariposas   \n",
       "15                                 Beau et Doux et Rapide     8    Mariposas   \n",
       "20      Sympa, de bons moments à passer, mais pas un j...     7    Mariposas   \n",
       "...                                                   ...   ...          ...   \n",
       "118085                                  Piou Piou Piou...     6    Mag Blast   \n",
       "118090  Piou!!! Boum!!! Badaboum!!! Crac!!! Et re piou!!!     8    Mag Blast   \n",
       "118095                          Merde pas les escadrons!!     6    Mag Blast   \n",
       "118100                                Un bon jeu tactique     8  Zombie Town   \n",
       "118105  Si les chats gardent les chèvres, qui attraper...    10  Tino Topini   \n",
       "\n",
       "                                                  comment  mean_prediction  \\\n",
       "0       Lorsque le jeu est jeu, bon, réflexif, joli po...         7.341134   \n",
       "5       Mariposas est plutôt beau avec un grand platea...         7.341134   \n",
       "10                                                    NaN         7.341134   \n",
       "15      Mariposas est un jeu ou la tension va s'exacer...         7.341134   \n",
       "20      J'aime jouer à Mariposas de temps à autre. Qua...         7.341134   \n",
       "...                                                   ...              ...   \n",
       "118085  BAh oui il faut faire les bruitages, sinon ça ...         7.341134   \n",
       "118090  Petit jeu bien fun ou il faut faire des bruita...         7.341134   \n",
       "118095  Je n'y ai joué qu'à deux joeurs, mais il se ré...         7.341134   \n",
       "118100  J'ai eu l'occasion de tester ce jeu en deux oc...         7.341134   \n",
       "118105                                                NaN         7.341134   \n",
       "\n",
       "        muser_prediction  mitem_prediction  opt_bl_prediction  \n",
       "0               8.000000          7.341134                5.0  \n",
       "5               7.203704          7.341134                5.0  \n",
       "10              8.507246          7.341134                5.0  \n",
       "15              8.250000          7.341134                5.0  \n",
       "20              8.285714          7.341134                5.0  \n",
       "...                  ...               ...                ...  \n",
       "118085          6.846154          7.341134                5.0  \n",
       "118090          8.000000          7.341134                5.0  \n",
       "118095          6.000000          7.341134                5.0  \n",
       "118100          8.125000          7.341134                5.0  \n",
       "118105          7.666667          7.341134                5.0  \n",
       "\n",
       "[23622 rows x 10 columns]"
      ]
     },
     "execution_count": 28,
     "metadata": {},
     "output_type": "execute_result"
    }
   ],
   "source": [
    "def opt_bl_rating_pred(user_item):\n",
    "    user = user_item[\"author\"]\n",
    "    item = user_item[\"title\"]\n",
    "    \n",
    "    prediction = BaselineModel.predict(user,item)\n",
    "    \n",
    "    return prediction.est\n",
    "\n",
    "test_ratings[\"opt_bl_prediction\"] = test_ratings[[\"author\",\"title\"]].apply(opt_bl_rating_pred,axis=1) \n",
    "\n",
    "test_ratings"
   ]
  },
  {
   "cell_type": "markdown",
   "metadata": {},
   "source": [
    "# Your turn !\n",
    "\n",
    "### __A QUICK NOTE:__ The baseline algorithm is really strong on this dataset, don't worry if the following models performance is worse."
   ]
  },
  {
   "cell_type": "markdown",
   "metadata": {},
   "source": [
    "## SVD Algorithm\n",
    "\n",
    "First, let's try the famous SVD algorithm, as popularized by Simon Funk during the Netflix Prize. \n",
    "\n",
    "> Matrix factorization models map both users and items ratings. to a joint latent factor space of dimensionality f, such that user-item interactions are modeled as inner products in that space.\n",
    "\n",
    "A prediction is made in the following way:\n",
    "\n",
    "## $$\\hat{r}_{ui} = \\mu + b_u + b_i + q_i^Tp_u$$\n",
    "\n",
    " When baselines are not used, this is equivalent to Probabilistic Matrix Factorization. If user u is unknown, then the bias bu and the factors pu are assumed to be zero. The same applies for item i with bi and qi.\n",
    "\n",
    "[This is the seminal paper associated to this model](https://datajobs.com/data-science-repo/Recommender-Systems-[Netflix].pdf)\n",
    " "
   ]
  },
  {
   "cell_type": "markdown",
   "metadata": {},
   "source": [
    "## TODO : Try and use the `SVD` surprise model ([related documentation page](https://surprise.readthedocs.io/en/stable/matrix_factorization.html))"
   ]
  },
  {
   "cell_type": "code",
   "execution_count": 29,
   "metadata": {},
   "outputs": [
    {
     "data": {
      "text/plain": [
       "<surprise.prediction_algorithms.matrix_factorization.SVD at 0x1ffeb812b10>"
      ]
     },
     "execution_count": 29,
     "metadata": {},
     "output_type": "execute_result"
    }
   ],
   "source": [
    "SVDmodel = SVD()\n",
    "SVDmodel.fit(data.build_full_trainset())"
   ]
  },
  {
   "cell_type": "markdown",
   "metadata": {},
   "source": [
    "## TODO: Use the surprise SVD Implementation to predict missing ratings."
   ]
  },
  {
   "cell_type": "code",
   "execution_count": 30,
   "metadata": {},
   "outputs": [],
   "source": [
    "def svd_rating_pred(user_item):\n",
    "    user = user_item[\"author\"]\n",
    "    item = user_item[\"title\"]\n",
    "    \n",
    "    prediction = SVDmodel.predict(user, item)\n",
    "    \n",
    "    return prediction.est\n",
    "\n",
    "test_ratings[\"svd_prediction\"] = test_ratings[[\"author\",\"title\"]].apply(svd_rating_pred,axis=1) "
   ]
  },
  {
   "cell_type": "markdown",
   "metadata": {},
   "source": [
    "## Let's compare every algorithm: the following cell should run and give you the results"
   ]
  },
  {
   "cell_type": "code",
   "execution_count": 31,
   "metadata": {},
   "outputs": [
    {
     "name": "stdout",
     "output_type": "stream",
     "text": [
      "         mean_prediction  muser_prediction  mitem_prediction  \\\n",
      "metrics                                                        \n",
      "mae             1.703147          1.545615          1.703089   \n",
      "mse             4.390987          3.943571          4.390818   \n",
      "rmse            2.095468          1.985843          2.095428   \n",
      "\n",
      "         opt_bl_prediction  svd_prediction  \n",
      "metrics                                     \n",
      "mae               2.748626        2.749256  \n",
      "mse               9.868396        9.876759  \n",
      "rmse              3.141400        3.142731  \n",
      "\n",
      "---Best Models / Metrics: ---\n"
     ]
    },
    {
     "data": {
      "text/plain": [
       "metrics\n",
       "mae     muser_prediction\n",
       "mse     muser_prediction\n",
       "rmse    muser_prediction\n",
       "dtype: object"
      ]
     },
     "execution_count": 31,
     "metadata": {},
     "output_type": "execute_result"
    }
   ],
   "source": [
    "metrics = [\"mae\",\"mse\",\"rmse\"]\n",
    "results = pd.DataFrame()\n",
    "\n",
    "results[\"metrics\"] = metrics\n",
    "results[\"mean_prediction\"] = all_metrics(test_ratings[\"mean_prediction\"],test_ratings[\"note\"])\n",
    "results[\"muser_prediction\"] = all_metrics(test_ratings[\"muser_prediction\"],test_ratings[\"note\"])\n",
    "results[\"mitem_prediction\"] = all_metrics(test_ratings[\"mitem_prediction\"],test_ratings[\"note\"])\n",
    "results[\"opt_bl_prediction\"] = all_metrics(test_ratings[\"opt_bl_prediction\"],test_ratings[\"note\"])\n",
    "results[\"svd_prediction\"] = all_metrics(test_ratings[\"svd_prediction\"],test_ratings[\"note\"])\n",
    "\n",
    "results = results.set_index(\"metrics\")\n",
    "\n",
    "print(results)\n",
    "print(\"\")\n",
    "print('---Best Models / Metrics: ---')\n",
    "results.idxmin(1)"
   ]
  },
  {
   "cell_type": "markdown",
   "metadata": {},
   "source": [
    "## Visualizing learnt embeddings\n",
    "\n",
    "> Factorizing the user-movie matrix allows us to discover the most descriptive dimensions for predicting movie preferences. We can identify the first few most important dimensions from a matrix decomposition and explore the movies’ location in this new space.\n",
    "\n",
    "To do so, we propose to use the [Tensorflow projector](https://projector.tensorflow.org/), an accessible easy to use tool online. The following functions/cells walks you through saving both the learnt movie embeddings and labels. "
   ]
  },
  {
   "cell_type": "markdown",
   "metadata": {},
   "source": [
    "###  The saving function:\n",
    "\n",
    "This function saves embeddings (a numpy array) and associated labels into tsv files which can be used by the [Tensorflow projector](https://projector.tensorflow.org/)"
   ]
  },
  {
   "cell_type": "code",
   "execution_count": 32,
   "metadata": {},
   "outputs": [],
   "source": [
    "def save_embeddings(embs,dict_label,path=\"saved_word_vectors\"):\n",
    "    \"\"\"\n",
    "    embs is Numpy.array(N,size)\n",
    "    dict_label is {str(word)->int(idx)} or {int(idx)->str(word)}\n",
    "    \"\"\"\n",
    "    def int_first(k,v):\n",
    "        if type(k) == int:\n",
    "            return (k,v)\n",
    "        else:\n",
    "            return (v,k)\n",
    "\n",
    "    np.savetxt(f\"{path}_vectors.tsv\", embs, delimiter=\"\\t\")\n",
    "\n",
    "    #labels \n",
    "    if dict_label:\n",
    "        sorted_labs = np.array([lab for idx,lab in sorted([int_first(k,v) for k,v in dict_label.items()])])\n",
    "        print(sorted_labs)\n",
    "        with open(f\"{path}_metadata.tsv\",\"w\") as metadata_file:\n",
    "            for x in sorted_labs: #hack for space\n",
    "                if len(x.strip()) == 0:\n",
    "                    x = f\"space-{len(x)}\"\n",
    "                    \n",
    "                metadata_file.write(f\"{x}\\n\")"
   ]
  },
  {
   "cell_type": "markdown",
   "metadata": {},
   "source": [
    "### (a) Loading the movie titles.\n",
    "\n",
    "We want to label our movie with their titles (indeed, the movieId is not really informative about content)\n",
    "=> We just read the .csv"
   ]
  },
  {
   "cell_type": "code",
   "execution_count": 35,
   "metadata": {},
   "outputs": [
    {
     "data": {
      "text/html": [
       "<div>\n",
       "<style scoped>\n",
       "    .dataframe tbody tr th:only-of-type {\n",
       "        vertical-align: middle;\n",
       "    }\n",
       "\n",
       "    .dataframe tbody tr th {\n",
       "        vertical-align: top;\n",
       "    }\n",
       "\n",
       "    .dataframe thead th {\n",
       "        text-align: right;\n",
       "    }\n",
       "</style>\n",
       "<table border=\"1\" class=\"dataframe\">\n",
       "  <thead>\n",
       "    <tr style=\"text-align: right;\">\n",
       "      <th></th>\n",
       "      <th>Unnamed: 0</th>\n",
       "      <th>author</th>\n",
       "      <th>title_review</th>\n",
       "      <th>note</th>\n",
       "      <th>title</th>\n",
       "      <th>comment</th>\n",
       "    </tr>\n",
       "  </thead>\n",
       "  <tbody>\n",
       "    <tr>\n",
       "      <th>0</th>\n",
       "      <td>0</td>\n",
       "      <td>Monsieur Guillaume</td>\n",
       "      <td>Voyages sur les ailes des papillons</td>\n",
       "      <td>8</td>\n",
       "      <td>Mariposas</td>\n",
       "      <td>Lorsque le jeu est jeu, bon, réflexif, joli po...</td>\n",
       "    </tr>\n",
       "    <tr>\n",
       "      <th>1</th>\n",
       "      <td>1</td>\n",
       "      <td>morlockbob</td>\n",
       "      <td>le festival de Michoacan</td>\n",
       "      <td>7</td>\n",
       "      <td>Mariposas</td>\n",
       "      <td>Comment continuer après un mega hit ? Simpleme...</td>\n",
       "    </tr>\n",
       "    <tr>\n",
       "      <th>2</th>\n",
       "      <td>2</td>\n",
       "      <td>SwatSh</td>\n",
       "      <td>Vivez la migration des monarques</td>\n",
       "      <td>7</td>\n",
       "      <td>Mariposas</td>\n",
       "      <td>Vin d'jeu: Avec Mariposas, Elizabeth Hargrave ...</td>\n",
       "    </tr>\n",
       "    <tr>\n",
       "      <th>3</th>\n",
       "      <td>3</td>\n",
       "      <td>Timi JeuxATheme</td>\n",
       "      <td>Bon</td>\n",
       "      <td>8</td>\n",
       "      <td>Mariposas</td>\n",
       "      <td>NaN</td>\n",
       "    </tr>\n",
       "    <tr>\n",
       "      <th>4</th>\n",
       "      <td>4</td>\n",
       "      <td>prunelles</td>\n",
       "      <td>Envolez-moi</td>\n",
       "      <td>9</td>\n",
       "      <td>Mariposas</td>\n",
       "      <td>Très joli bijou que ce jeu-là ! Le matériel, l...</td>\n",
       "    </tr>\n",
       "  </tbody>\n",
       "</table>\n",
       "</div>"
      ],
      "text/plain": [
       "   Unnamed: 0              author                         title_review  note  \\\n",
       "0           0  Monsieur Guillaume  Voyages sur les ailes des papillons     8   \n",
       "1           1          morlockbob             le festival de Michoacan     7   \n",
       "2           2              SwatSh     Vivez la migration des monarques     7   \n",
       "3           3     Timi JeuxATheme                                  Bon     8   \n",
       "4           4           prunelles                          Envolez-moi     9   \n",
       "\n",
       "       title                                            comment  \n",
       "0  Mariposas  Lorsque le jeu est jeu, bon, réflexif, joli po...  \n",
       "1  Mariposas  Comment continuer après un mega hit ? Simpleme...  \n",
       "2  Mariposas  Vin d'jeu: Avec Mariposas, Elizabeth Hargrave ...  \n",
       "3  Mariposas                                                NaN  \n",
       "4  Mariposas  Très joli bijou que ce jeu-là ! Le matériel, l...  "
      ]
     },
     "execution_count": 35,
     "metadata": {},
     "output_type": "execute_result"
    }
   ],
   "source": [
    "titleCSV = pd.read_csv(\"./BDD/avis.csv\")\n",
    "titleCSV.head(5)"
   ]
  },
  {
   "cell_type": "markdown",
   "metadata": {},
   "source": [
    "### (b) We extract a mapping id => title  "
   ]
  },
  {
   "cell_type": "code",
   "execution_count": 38,
   "metadata": {},
   "outputs": [
    {
     "data": {
      "text/plain": [
       "[(0, 'Mariposas'),\n",
       " (1, 'Mariposas'),\n",
       " (2, 'Mariposas'),\n",
       " (3, 'Mariposas'),\n",
       " (4, 'Mariposas'),\n",
       " (5, 'Mariposas'),\n",
       " (6, 'Mariposas'),\n",
       " (7, 'Mariposas'),\n",
       " (8, 'Mariposas'),\n",
       " (9, 'Mariposas')]"
      ]
     },
     "execution_count": 38,
     "metadata": {},
     "output_type": "execute_result"
    }
   ],
   "source": [
    "id2title = titleCSV[[\"Unnamed: 0\",\"title\"]].set_index(\"Unnamed: 0\").to_dict()[\"title\"]\n",
    "list(id2title.items())[:10]"
   ]
  },
  {
   "cell_type": "markdown",
   "metadata": {},
   "source": [
    "### (c) We map the inner surprise id's to the raw id's to the movie title"
   ]
  },
  {
   "cell_type": "code",
   "execution_count": null,
   "metadata": {},
   "outputs": [
    {
     "data": {
      "text/plain": [
       "array([[ 0.15726828, -0.01277294, -0.06754165, ...,  0.02398902,\n",
       "         0.1612741 ,  0.07342197],\n",
       "       [ 0.02413223,  0.06285161, -0.17121834, ..., -0.00604927,\n",
       "         0.12868196, -0.03585481],\n",
       "       [ 0.0817666 , -0.0936749 , -0.01333008, ...,  0.12509804,\n",
       "        -0.07747281, -0.31368802],\n",
       "       ...,\n",
       "       [ 0.1410841 ,  0.21299011, -0.05928253, ...,  0.17996961,\n",
       "        -0.11796491, -0.13736627],\n",
       "       [-0.03295298, -0.13889179, -0.19366402, ..., -0.08464033,\n",
       "        -0.12922983, -0.08526465],\n",
       "       [ 0.1580264 , -0.02738714, -0.10497621, ..., -0.16588849,\n",
       "         0.0139639 , -0.00225032]])"
      ]
     },
     "execution_count": 31,
     "metadata": {},
     "output_type": "execute_result"
    }
   ],
   "source": [
    "full_data = data.build_full_trainset()\n",
    "index2movie = {x:id2title[full_data.to_raw_iid(x)] for x in full_data.all_items()}\n",
    "SVDmodel.qi # Holds product vectors\n",
    "SVDmodel.pu # Holds user vectors"
   ]
  },
  {
   "cell_type": "markdown",
   "metadata": {},
   "source": [
    "### (d) Finally, we save everything"
   ]
  },
  {
   "cell_type": "code",
   "execution_count": null,
   "metadata": {},
   "outputs": [
    {
     "name": "stdout",
     "output_type": "stream",
     "text": [
      "['Grumpier Old Men (1995)' 'Heat (1995)' 'Seven (a.k.a. Se7en) (1995)' ...\n",
      " 'Hazard (2005)' 'Blair Witch (2016)' '31 (2016)']\n"
     ]
    }
   ],
   "source": [
    "save_embeddings(SVDmodel.qi,index2movie,path=\"svd_items\")"
   ]
  },
  {
   "cell_type": "markdown",
   "metadata": {},
   "source": [
    "## improving your results with GridSearch :\n",
    "\n",
    "Every machine learning model is sensible to hyperparameters: Hopefully, surprise provides a way to do parameter search [(related docs)](https://surprise.readthedocs.io/en/stable/model_selection.html#parameter-search). Here's how it work:"
   ]
  },
  {
   "cell_type": "code",
   "execution_count": null,
   "metadata": {},
   "outputs": [
    {
     "name": "stdout",
     "output_type": "stream",
     "text": [
      "0.9110255133849364\n",
      "{'n_epochs': 4}\n"
     ]
    },
    {
     "data": {
      "text/plain": [
       "<surprise.prediction_algorithms.matrix_factorization.SVD at 0x21b32ebdad0>"
      ]
     },
     "execution_count": 33,
     "metadata": {},
     "output_type": "execute_result"
    }
   ],
   "source": [
    "from surprise.model_selection import GridSearchCV\n",
    "\n",
    "\n",
    "param_grid = {'n_epochs': list(range(2,5)),} #you can add parameters\n",
    "\n",
    "gs = GridSearchCV(SVD, param_grid, measures=['rmse', 'mae'], cv=3) # you choose the algorithm and the measures\n",
    " \n",
    "gs.fit(data) # You look at best combinations (automatically deals with train/validation splits)\n",
    "\n",
    "\n",
    "# best RMSE score\n",
    "print(gs.best_score['rmse'])\n",
    "\n",
    "# combination of parameters that gave the best validation RMSE score\n",
    "print(gs.best_params['rmse'])\n",
    "\n",
    "# We can now use the algorithm that yields the best rmse:\n",
    "algo = gs.best_estimator['rmse']\n",
    "algo.fit(data.build_full_trainset())"
   ]
  },
  {
   "cell_type": "markdown",
   "metadata": {},
   "source": [
    "#  Finally, try improving your score by testing out all of surprise models and possibilities."
   ]
  },
  {
   "cell_type": "markdown",
   "metadata": {},
   "source": [
    "### (TODO)  Use, for example, the KNNs algorithms:"
   ]
  },
  {
   "cell_type": "code",
   "execution_count": null,
   "metadata": {},
   "outputs": [
    {
     "name": "stdout",
     "output_type": "stream",
     "text": [
      "Computing the msd similarity matrix...\n",
      "Done computing similarity matrix.\n"
     ]
    }
   ],
   "source": [
    "from surprise.prediction_algorithms.knns import KNNBasic, KNNWithMeans\n",
    "\n",
    "KNNmodel = KNNBasic()\n",
    "KNNmodel.fit(data.build_full_trainset())\n",
    "\n",
    "def knn_rating_pred(user_item):\n",
    "    user = user_item[\"userId\"]\n",
    "    item = user_item[\"movieId\"]\n",
    "    \n",
    "    prediction = KNNmodel.predict(user,item)\n",
    "    \n",
    "    return prediction.est\n",
    "\n",
    "test_ratings[\"knn_prediction\"] = test_ratings[[\"userId\",\"movieId\"]].apply(knn_rating_pred,axis=1) "
   ]
  },
  {
   "cell_type": "code",
   "execution_count": null,
   "metadata": {},
   "outputs": [
    {
     "name": "stdout",
     "output_type": "stream",
     "text": [
      "         mean_prediction  muser_prediction  mitem_prediction  \\\n",
      "metrics                                                        \n",
      "mae             0.820963          0.729720          0.961571   \n",
      "mse             1.076696          0.879324          1.442640   \n",
      "rmse            1.037640          0.937723          1.201099   \n",
      "\n",
      "         opt_bl_prediction  svd_prediction  knn_prediction  \n",
      "metrics                                                     \n",
      "mae               0.664942        0.665958        0.716865  \n",
      "mse               0.748537        0.756146        0.879350  \n",
      "rmse              0.865180        0.869567        0.937737  \n",
      "\n",
      "---Best Models / Metrics: ---\n"
     ]
    },
    {
     "data": {
      "text/plain": [
       "metrics\n",
       "mae     opt_bl_prediction\n",
       "mse     opt_bl_prediction\n",
       "rmse    opt_bl_prediction\n",
       "dtype: object"
      ]
     },
     "execution_count": 35,
     "metadata": {},
     "output_type": "execute_result"
    }
   ],
   "source": [
    "metrics = [\"mae\",\"mse\",\"rmse\"]\n",
    "results = pd.DataFrame()\n",
    "\n",
    "results[\"metrics\"] = metrics\n",
    "results[\"mean_prediction\"] = all_metrics(test_ratings[\"mean_prediction\"],test_ratings[\"rating\"])\n",
    "results[\"muser_prediction\"] = all_metrics(test_ratings[\"muser_prediction\"],test_ratings[\"rating\"])\n",
    "results[\"mitem_prediction\"] = all_metrics(test_ratings[\"mitem_prediction\"],test_ratings[\"rating\"])\n",
    "results[\"opt_bl_prediction\"] = all_metrics(test_ratings[\"opt_bl_prediction\"],test_ratings[\"rating\"])\n",
    "results[\"svd_prediction\"] = all_metrics(test_ratings[\"svd_prediction\"],test_ratings[\"rating\"])\n",
    "results[\"knn_prediction\"] = all_metrics(test_ratings[\"knn_prediction\"],test_ratings[\"rating\"])\n",
    "\n",
    "results = results.set_index(\"metrics\")\n",
    "\n",
    "print(results)\n",
    "print(\"\")\n",
    "print('---Best Models / Metrics: ---')\n",
    "results.idxmin(1)"
   ]
  },
  {
   "cell_type": "markdown",
   "metadata": {},
   "source": [
    "### Still some time left: [have you tried them all ?](https://surprise.readthedocs.io/en/stable/prediction_algorithms_package.html)"
   ]
  }
 ],
 "metadata": {
  "kernelspec": {
   "display_name": "Python 3",
   "language": "python",
   "name": "python3"
  },
  "language_info": {
   "codemirror_mode": {
    "name": "ipython",
    "version": 3
   },
   "file_extension": ".py",
   "mimetype": "text/x-python",
   "name": "python",
   "nbconvert_exporter": "python",
   "pygments_lexer": "ipython3",
   "version": "3.11.8"
  }
 },
 "nbformat": 4,
 "nbformat_minor": 2
}
