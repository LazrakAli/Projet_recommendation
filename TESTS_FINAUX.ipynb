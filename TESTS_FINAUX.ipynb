{
 "cells": [
  {
   "cell_type": "markdown",
   "metadata": {},
   "source": [
    "# Protocole Expérimental pour Tester les Méthodes d'Extraction de Mots-Clés\n",
    "\n",
    "## Objectif\n",
    "Comparer les mots-clés extraits par différentes méthodes d'extraction à des commentaires d'utilisateurs existants pour évaluer leur pertinence et leur utilité dans l'explication des recommandations de jeux.\n",
    "\n",
    "## Étapes du Protocole\n",
    "\n",
    "### 1. Préparation des Données\n",
    "- **Pretraitement des données, initialisation et entraînement de l'algorithme de recommandation**\n",
    "- **Nettoyage des Commentaires** : Application des techniques de prétraitement telles que la suppression des stop-words, la ponctuation, et la lemmatisation/stemmatisation.\n",
    "\n",
    "### 2. Méthodes d'Extraction\n",
    "- **Méthodes à Tester** :\n",
    "    - Baseline (Comptage de mots fréquents)\n",
    "    - TF-IDF\n",
    "    - LDA \n",
    "    - TextRank\n",
    "    - YAKE\n",
    "    - RAKE (Implémentée mais pas testée)\n",
    "    - KeyBERT (Implémentée mais pas testée)\n",
    "- **Extraction de Mots-Clés** : Application de chaque méthode sur les commentaires sélectionnés pour extraire les mots-clés.\n",
    "\n",
    "### 3. Évaluation de la Pertinence\n",
    "- **Métrique de Performance** :\n",
    "    - **Précision** : Taux d'apparition des mots-clés pertinents parmi ceux extraits.\n",
    "\n",
    "### 4. Analyse des Résultats\n",
    "- **Comparaison des Méthodes** : Comparaison des scores de précision pour chaque méthode. Analyse des feedbacks qualitatifs pour identifier les points forts et les faiblesses de chaque méthode.\n",
    "- **Visualisation des Données** : Graphiques pour représenter les performances des différentes méthodes\n"
   ]
  },
  {
   "cell_type": "code",
   "execution_count": 57,
   "metadata": {},
   "outputs": [],
   "source": [
    "from explication import *\n",
    "from methodes_nlp import *\n",
    "from tqdm import tqdm\n",
    "import numpy as np"
   ]
  },
  {
   "cell_type": "markdown",
   "metadata": {},
   "source": [
    "### 1. Préparation des données"
   ]
  },
  {
   "cell_type": "code",
   "execution_count": 2,
   "metadata": {},
   "outputs": [
    {
     "name": "stdout",
     "output_type": "stream",
     "text": [
      "Computing the cosine similarity matrix...\n",
      "Done computing similarity matrix.\n"
     ]
    }
   ],
   "source": [
    "reco = RecommendationSystem(\"BDD/avis_sans_outliers.csv\")\n",
    "reco.train_algorithm()"
   ]
  },
  {
   "cell_type": "code",
   "execution_count": 3,
   "metadata": {},
   "outputs": [],
   "source": [
    "comments = reco.get_top_comments_filtres('Monsieur Guillaume','Mariposas',5,10)"
   ]
  },
  {
   "cell_type": "markdown",
   "metadata": {},
   "source": [
    "### 2. Méthodes d'Extraction"
   ]
  },
  {
   "cell_type": "markdown",
   "metadata": {},
   "source": [
    "#### BASELINE (Mots les plus fréquents)"
   ]
  },
  {
   "cell_type": "code",
   "execution_count": 4,
   "metadata": {},
   "outputs": [
    {
     "name": "stdout",
     "output_type": "stream",
     "text": [
      "['faire', 'jeu', 'papillon', 'avoir', 'si', 'plus', 'aller', 'pouvoir', 'autre', 'tout', 'mariposer', 'variante', 'donc', 'carte', 'tour', 'pion', 'très', 'vraiment', 'bien', 'courbe', 'bon', 'migration', 'point', 'sembler', 'gagner', 'essayer', 'falloir', 'score', 'retourner', 'simple', 'niveau', 'progression', 'faciliter', 'cycle', 'vie', 'saisonnier', 'mexiqu', 'québec', 'ramener', 'scorer', 'maximum', 'visiter', 'proche', 'nord', 'revenir', 'dare', 'technique', 'coup', 'moins', 'rendre', 'course', 'trop', 'quand', 'encore', 'objectif', 'tenter', 'moment', 'lorsque', 'reste', 'deux', 'mode', 'partie', 'règle', 'familial', 'cach', 'jouer', 'mariposa', 'envie', 'réfléchir', 'joli', 'optimiser', 'déplacement', 'naissance', 'ville', 'voyage', 'départ', 'tension', 'embêter', 'difficile', 'déterminer', 'concevoir', 'particulier', 'devenir', 'utiliser', 'rallonger', 'saison', 'expliquer', 'sensé', 'organiser', 'monarque', 'poindre', 'atteindre', 'systématiquement', 'valider', 'parfaitement', 'arrêter', 'moitié', 'chemin', 'plein', 'façon']\n"
     ]
    }
   ],
   "source": [
    "print(baseline(comments,100))"
   ]
  },
  {
   "cell_type": "markdown",
   "metadata": {},
   "source": [
    "#### TF-IDF"
   ]
  },
  {
   "cell_type": "code",
   "execution_count": 5,
   "metadata": {},
   "outputs": [
    {
     "name": "stdout",
     "output_type": "stream",
     "text": [
      "['faire', 'jeu', 'avoir', 'pion', 'papillon', 'plus', 'simple', 'aller', 'tout', 'embêter', 'si', 'autre', 'carte', 'mariposer', 'donc', 'tour', 'pouvoir', 'variante', 'départ', 'tension', 'falloir', 'point', 'déplacement', 'optimiser', 'envie', 'joli', 'essayer', 'très', 'réfléchir', 'ville', 'retourner', 'courbe', 'bon', 'jouer', 'mariposa', 'naissance', 'voyage', 'course', 'partie', 'proche', 'vie', 'action', 'acumuler', 'balad', 'cours', 'deplacmer', 'devoir', 'dire', 'exacerber', 'fil', 'grâce', 'joue', 'mise', 'optimisation', 'pet', 'possibilité', 'remporter', 'setting', 'somme', 'bien', 'apprentissage', 'arriver', 'aussi', 'bel', 'bemol', 'bijou', 'camoufler', 'concerner', 'contribuer', 'couleur', 'cycl', 'différents', 'donne', 'histoire', 'illustration', 'impossible', 'matériel', 'mini', 'oeil', 'parce', 'permettre', 'propo', 'regarder', 'réussite', 'sauver', 'toujours', 'visualiser', 'gagner', 'migration', 'score', 'sembler', 'vraiment', 'maximum', 'mexiqu', 'moins', 'nord', 'ramener', 'reste', 'revenir', 'deux']\n"
     ]
    }
   ],
   "source": [
    "print(tf_idf(comments, 100))"
   ]
  },
  {
   "cell_type": "markdown",
   "metadata": {},
   "source": [
    "#### LDA"
   ]
  },
  {
   "cell_type": "code",
   "execution_count": 6,
   "metadata": {},
   "outputs": [
    {
     "name": "stdout",
     "output_type": "stream",
     "text": [
      "{'Topic 0': ['jeu', 'tout', 'faire', 'papillon', 'si', 'aller', 'carte', 'courbe', 'variante', 'très', 'proche', 'vie', 'essayer', 'envie', 'propo'], 'Topic 1': ['jeu', 'faire', 'simple', 'papillon', 'si', 'avoir', 'point', 'bon', 'maximum', 'mariposer', 'moins', 'ramener', 'reste', 'revenir', 'évoluer'], 'Topic 2': ['faire', 'avoir', 'embêter', 'plus', 'papillon', 'donc', 'autre', 'jeu', 'aller', 'carte', 'tour', 'mariposer', 'optimiser', 'course', 'déplacement'], 'Topic 3': ['faire', 'jeu', 'plus', 'avoir', 'aller', 'si', 'pouvoir', 'pion', 'autre', 'papillon', 'retourner', 'tout', 'variante', 'bien', 'gagner'], 'Topic 4': ['plus', 'faire', 'pouvoir', 'jeu', 'avoir', 'si', 'aller', 'tour', 'donc', 'papillon', 'autre', 'migration', 'sembler', 'tenter', 'vraiment']}\n"
     ]
    }
   ],
   "source": [
    "print(lda(comments, num_topics=5, num_keywords=15))"
   ]
  },
  {
   "cell_type": "markdown",
   "metadata": {},
   "source": [
    "#### TEXTRANK"
   ]
  },
  {
   "cell_type": "code",
   "execution_count": 7,
   "metadata": {},
   "outputs": [
    {
     "name": "stdout",
     "output_type": "stream",
     "text": [
      "jeu\n",
      "papillon\n",
      "faire point\n",
      "québec avoir\n",
      "essayer aller\n",
      "autre\n",
      "pouvoir\n",
      "nord plus\n",
      "pion retourn\n",
      "donc\n",
      "si mariposer vraiment bien\n",
      "carte\n",
      "retourner\n",
      "sembler tout\n",
      "partie\n",
      "party\n",
      "bon\n",
      "migration\n",
      "visiter\n",
      "tour\n",
      "variante faciliter cycle\n",
      "simple\n",
      "falloir\n",
      "très\n",
      "technique gagner\n",
      "score\n",
      "cycl\n",
      "visite ville\n",
      "reste\n",
      "optimiser\n",
      "optimisation\n",
      "proche\n",
      "niveau courbe\n",
      "moins\n",
      "obligation\n",
      "obliger\n",
      "rendre\n",
      "deux mode\n",
      "tenter\n",
      "temp\n",
      "voyage\n",
      "règle\n",
      "jouer mariposa temps\n",
      "joli\n",
      "ramener\n",
      "lorsque\n",
      "objectif\n",
      "envie réfléchir\n",
      "trop\n",
      "quand\n",
      "encore\n",
      "tension\n",
      "coup\n",
      "départ\n"
     ]
    }
   ],
   "source": [
    "print(textrank(comments))"
   ]
  },
  {
   "cell_type": "markdown",
   "metadata": {},
   "source": [
    "#### YAKE"
   ]
  },
  {
   "cell_type": "code",
   "execution_count": 8,
   "metadata": {},
   "outputs": [
    {
     "name": "stdout",
     "output_type": "stream",
     "text": [
      "{0: ['niveau courbe progression', 'final courbe progression', 'courbe progression long', 'apte final courbe', 'progression long incertaine', 'devenir bon utiliser', 'vie rallonger saison', 'rallonger saison expliquer', 'saison expliquer sensé', 'expliquer sensé organiser'], 1: ['aimer jouer mariposa', 'fois entreprendre voyage', 'jouer mariposa temps', 'adapter prime joli', 'niveau mécanique jeu', 'mécanique jeu calcul', 'jeu calcul optimiser', 'calcul optimiser déplacement', 'optimiser déplacement naissance', 'déplacement naissance papillon'], 2: ['air pittoresque visuel', 'intéressant agréable jouer', 'pittoresque visuel épurer', 'visuel épurer mariposer', 'gestion redoutable mécaniquement', 'profondément riche but', 'nord amériqu créer', 'amériqu créer naissance', 'revenir point départ', 'point départ voyage'], 3: ['vie bel réussite', 'matériel illustration histoire', 'illustration histoire propo', 'donne envie contribuer', 'envie contribuer sauver', 'contribuer sauver courbe', 'sauver courbe apprentissage', 'courbe apprentissage impossible', 'essayer mini bemol', 'mini bemol papillon'], 4: ['mariposer jeu tension', 'faire remporter mise', 'jeu tension aller', 'tension aller exacerber', 'aller exacerber cours', 'exacerber cours partie', 'cours partie devoir', 'fil joue papillon', 'joue papillon balad', 'setting départ grâce']}\n"
     ]
    }
   ],
   "source": [
    "print(yake_extractor(comments))"
   ]
  },
  {
   "cell_type": "markdown",
   "metadata": {},
   "source": [
    "#### RAKE"
   ]
  },
  {
   "cell_type": "code",
   "execution_count": 9,
   "metadata": {},
   "outputs": [
    {
     "name": "stdout",
     "output_type": "stream",
     "text": [
      "{0: [], 1: [], 2: [], 3: [], 4: []}\n"
     ]
    }
   ],
   "source": [
    "print(rake_extractor(comments))"
   ]
  },
  {
   "cell_type": "markdown",
   "metadata": {},
   "source": [
    "La fonction marche, seulement les commentaires ne sont pas assez longs et descriptifs. Ils sont aussi surement trop differents les uns des autres."
   ]
  },
  {
   "cell_type": "markdown",
   "metadata": {},
   "source": [
    "#### KeyBERT"
   ]
  },
  {
   "cell_type": "code",
   "execution_count": 10,
   "metadata": {},
   "outputs": [],
   "source": [
    "#print(keybert_extractor(comments))"
   ]
  },
  {
   "cell_type": "markdown",
   "metadata": {},
   "source": [
    "### 3. Évaluation de la Pertinence"
   ]
  },
  {
   "cell_type": "markdown",
   "metadata": {},
   "source": [
    "- Commentaires test : 100 commentaires de 100 mots minimum\n",
    "- Commentaires des k plus proches voisins : threshold 100 mots\n",
    "- Nb de commentaires des k plus proches voisins utilisés pour l'explication: 5\n",
    "- Mots clés : 10% de la taille des commentaires test"
   ]
  },
  {
   "cell_type": "markdown",
   "metadata": {},
   "source": [
    "#### Sélection des 100 commentaires tests (100 mots minimum)"
   ]
  },
  {
   "cell_type": "code",
   "execution_count": 11,
   "metadata": {},
   "outputs": [],
   "source": [
    "copie = reco.data.copy()\n",
    "def word_count(text):\n",
    "    # Compter les mots dans le texte en ignorant la ponctuation et les espaces\n",
    "    words = text.split()\n",
    "    return len(words)\n",
    "\n",
    "# Appliquer la fonction pour compter les mots dans chaque commentaire\n",
    "copie['word_count'] = copie['comment'].apply(word_count)\n",
    "\n",
    "# Filtrer les commentaires ayant au moins 100 mots\n",
    "filtered_comments = copie[copie['word_count'] >= 100]\n",
    "\n",
    "# Sélectionner aléatoirement 100 commentaires répondant à ce critère\n",
    "if len(filtered_comments) >= 100:\n",
    "    selected_comments = filtered_comments.sample(100, random_state=42)\n",
    "else:\n",
    "    selected_comments = filtered_comments.sample(len(filtered_comments), random_state=42)  # Si moins de 100, prendre tous"
   ]
  },
  {
   "cell_type": "code",
   "execution_count": 12,
   "metadata": {},
   "outputs": [
    {
     "data": {
      "text/plain": [
       "100"
      ]
     },
     "execution_count": 12,
     "metadata": {},
     "output_type": "execute_result"
    }
   ],
   "source": [
    "len(selected_comments)"
   ]
  },
  {
   "cell_type": "markdown",
   "metadata": {},
   "source": [
    "A executer une seule fois :"
   ]
  },
  {
   "cell_type": "code",
   "execution_count": null,
   "metadata": {},
   "outputs": [
    {
     "data": {
      "text/plain": [
       "\"\\nfrom tqdm import tqdm  # Importer tqdm pour la barre de progression\\n\\n# Assurez-vous que selected_comments est bien défini\\nselected_comments['top_comments'] = None  # Créer une colonne pour stocker les commentaires filtrés\\n\\nfor index, row in tqdm(selected_comments.iterrows(), total=selected_comments.shape[0]):\\n    # Vérifier si les données ont déjà été récupérées et stockées\\n    if pd.isna(row['top_comments']):\\n        # Récupérer les commentaires filtrés si non déjà stockés\\n        k_comments = reco.get_top_comments_filtres(row['author'], row['title'], 5, 100)\\n        # Stocker les résultats dans le DataFrame\\n        selected_comments.at[index, 'top_comments'] = k_comments\\n\\n# Sauvegarder le DataFrame pour une utilisation future\\nselected_comments.to_pickle('selected_comments.pkl')\\n\""
      ]
     },
     "execution_count": 13,
     "metadata": {},
     "output_type": "execute_result"
    }
   ],
   "source": [
    "\"\"\"\n",
    "from tqdm import tqdm  # Importer tqdm pour la barre de progression\n",
    "\n",
    "# Assurez-vous que selected_comments est bien défini\n",
    "selected_comments['top_comments'] = None  # Créer une colonne pour stocker les commentaires filtrés\n",
    "\n",
    "for index, row in tqdm(selected_comments.iterrows(), total=selected_comments.shape[0]):\n",
    "    # Vérifier si les données ont déjà été récupérées et stockées\n",
    "    if pd.isna(row['top_comments']):\n",
    "        # Récupérer les commentaires filtrés si non déjà stockés\n",
    "        k_comments = reco.get_top_comments_filtres(row['author'], row['title'], 5, 100)\n",
    "        # Stocker les résultats dans le DataFrame\n",
    "        selected_comments.at[index, 'top_comments'] = k_comments\n",
    "\n",
    "# Sauvegarder le DataFrame pour une utilisation future\n",
    "selected_comments.to_pickle('selected_comments.pkl')\n",
    "\"\"\""
   ]
  },
  {
   "cell_type": "code",
   "execution_count": 14,
   "metadata": {},
   "outputs": [],
   "source": [
    "# Charger le DataFrame depuis le fichier Pickle\n",
    "selected_comments_loaded = pd.read_pickle('selected_comments.pkl')"
   ]
  },
  {
   "cell_type": "markdown",
   "metadata": {},
   "source": [
    "#### Baseline"
   ]
  },
  {
   "cell_type": "code",
   "execution_count": 15,
   "metadata": {},
   "outputs": [
    {
     "name": "stderr",
     "output_type": "stream",
     "text": [
      "100%|██████████| 100/100 [00:00<00:00, 1764.14it/s]\n"
     ]
    }
   ],
   "source": [
    "selected_comments_loaded['baseline'] = None\n",
    "\n",
    "# Utiliser tqdm pour afficher la barre de progression\n",
    "for index, row in tqdm(selected_comments_loaded.iterrows(), total=selected_comments_loaded.shape[0]):\n",
    "    nb_mots = row['word_count']\n",
    "    param_mots = round(0.10 * nb_mots)\n",
    "    keywords = baseline(row['top_comments'], param_mots)\n",
    "    selected_comments_loaded.at[index, 'baseline'] = keywords\n"
   ]
  },
  {
   "cell_type": "code",
   "execution_count": 23,
   "metadata": {},
   "outputs": [
    {
     "data": {
      "text/plain": [
       "12277    [jeu, faire, pouvoir, plus, tout, alors, bien,...\n",
       "41626    [jeu, plus, oui, quoridor, mur, aimer, barrièr...\n",
       "36423    [jeu, pouvoir, tout, bien, enfant, temps, règl...\n",
       "11510    [plus, sushi, jeu, avoir, tout, dé, très, bar,...\n",
       "76089    [jeu, faire, joueur, très, plus, bon, petit, p...\n",
       "Name: baseline, dtype: object"
      ]
     },
     "execution_count": 23,
     "metadata": {},
     "output_type": "execute_result"
    }
   ],
   "source": [
    "selected_comments_loaded['baseline'].head()"
   ]
  },
  {
   "cell_type": "markdown",
   "metadata": {},
   "source": [
    "#### TF-IDF"
   ]
  },
  {
   "cell_type": "code",
   "execution_count": 16,
   "metadata": {},
   "outputs": [
    {
     "name": "stderr",
     "output_type": "stream",
     "text": [
      "100%|██████████| 100/100 [00:00<00:00, 257.24it/s]\n"
     ]
    }
   ],
   "source": [
    "selected_comments_loaded['tf_idf'] = None\n",
    "\n",
    "# Utiliser tqdm pour afficher la barre de progression\n",
    "for index, row in tqdm(selected_comments_loaded.iterrows(), total=selected_comments_loaded.shape[0]):\n",
    "    nb_mots = row['word_count']\n",
    "    param_mots = round(0.10 * nb_mots)\n",
    "    keywords = tf_idf(row['top_comments'], param_mots)\n",
    "    selected_comments_loaded.at[index, 'tf_idf'] = keywords\n"
   ]
  },
  {
   "cell_type": "code",
   "execution_count": 22,
   "metadata": {},
   "outputs": [
    {
     "data": {
      "text/plain": [
       "12277    [jeu, bien, faire, pouvoir, alors, plus, tout,...\n",
       "41626    [jeu, plus, aimer, oui, barrière, mur, quorido...\n",
       "36423    [jeu, pouvoir, très, tout, enfant, peu, règle,...\n",
       "11510    [sushi, plus, jeu, très, avoir, tout, arête, p...\n",
       "76089    [jeu, bon, très, faire, pierre, petit, partie,...\n",
       "Name: tf_idf, dtype: object"
      ]
     },
     "execution_count": 22,
     "metadata": {},
     "output_type": "execute_result"
    }
   ],
   "source": [
    "selected_comments_loaded['tf_idf'].head()"
   ]
  },
  {
   "cell_type": "markdown",
   "metadata": {},
   "source": [
    "#### LDA"
   ]
  },
  {
   "cell_type": "code",
   "execution_count": 19,
   "metadata": {},
   "outputs": [
    {
     "name": "stderr",
     "output_type": "stream",
     "text": [
      "100%|██████████| 100/100 [00:03<00:00, 25.04it/s]\n"
     ]
    }
   ],
   "source": [
    "selected_comments_loaded['lda'] = None\n",
    "\n",
    "# Utiliser tqdm pour afficher la barre de progression\n",
    "for index, row in tqdm(selected_comments_loaded.iterrows(), total=selected_comments_loaded.shape[0]):\n",
    "    nb_mots = row['word_count']\n",
    "    mots_totaux = round(0.10 * nb_mots)\n",
    "    sujets = 5\n",
    "    mots_par_sujet = round(mots_totaux / sujets)\n",
    "    keywords = lda(row['top_comments'], sujets, mots_par_sujet)\n",
    "    selected_comments_loaded.at[index, 'lda'] = keywords\n"
   ]
  },
  {
   "cell_type": "code",
   "execution_count": 21,
   "metadata": {},
   "outputs": [
    {
     "data": {
      "text/plain": [
       "12277    {'Topic 0': ['jeu', 'alors', 'faire', 'tout'],...\n",
       "41626    {'Topic 0': ['plus', 'jeu', 'mur'], 'Topic 1':...\n",
       "36423    {'Topic 0': ['jeu', 'pouvoir', 'enfant', 'avoi...\n",
       "11510    {'Topic 0': ['plus', 'moins', 'jeu', 'si'], 'T...\n",
       "76089    {'Topic 0': ['jeu', 'très'], 'Topic 1': ['jeu'...\n",
       "Name: lda, dtype: object"
      ]
     },
     "execution_count": 21,
     "metadata": {},
     "output_type": "execute_result"
    }
   ],
   "source": [
    "selected_comments_loaded['lda'].head()"
   ]
  },
  {
   "cell_type": "markdown",
   "metadata": {},
   "source": [
    "#### TEXTRANK"
   ]
  },
  {
   "cell_type": "code",
   "execution_count": 26,
   "metadata": {},
   "outputs": [
    {
     "name": "stderr",
     "output_type": "stream",
     "text": [
      "  0%|          | 0/100 [00:00<?, ?it/s]"
     ]
    },
    {
     "name": "stderr",
     "output_type": "stream",
     "text": [
      "100%|██████████| 100/100 [00:19<00:00,  5.23it/s]\n"
     ]
    }
   ],
   "source": [
    "selected_comments_loaded['textrank'] = None\n",
    "\n",
    "# Utiliser tqdm pour afficher la barre de progression\n",
    "for index, row in tqdm(selected_comments_loaded.iterrows(), total=selected_comments_loaded.shape[0]):\n",
    "    keywords = textrank(row['top_comments'], 0.10)\n",
    "    keyword_list = [keyword.strip() for keyword in keywords.split('\\n') if keyword.strip()]\n",
    "    selected_comments_loaded.at[index, 'textrank'] = keyword_list\n"
   ]
  },
  {
   "cell_type": "code",
   "execution_count": 27,
   "metadata": {},
   "outputs": [
    {
     "data": {
      "text/plain": [
       "12277    [jeu, enquête, enquêter, faire, plus, pouvoir ...\n",
       "41626    [jeu, plus, mur, avancer, avance, barrière fai...\n",
       "36423    [avis jeu, tout, partie, peu, joueur pouvoir, ...\n",
       "11510    [sushis, jeu, avoir, tout, sushi bar, plus fai...\n",
       "76089    [jeu, faire, partie, party, joueur plus, très,...\n",
       "Name: textrank, dtype: object"
      ]
     },
     "execution_count": 27,
     "metadata": {},
     "output_type": "execute_result"
    }
   ],
   "source": [
    "selected_comments_loaded['textrank'].head()"
   ]
  },
  {
   "cell_type": "markdown",
   "metadata": {},
   "source": [
    "#### YAKE"
   ]
  },
  {
   "cell_type": "code",
   "execution_count": 43,
   "metadata": {},
   "outputs": [
    {
     "name": "stderr",
     "output_type": "stream",
     "text": [
      "100%|██████████| 100/100 [00:20<00:00,  4.79it/s]\n"
     ]
    }
   ],
   "source": [
    "selected_comments_loaded['yake'] = None\n",
    "\n",
    "# Utiliser tqdm pour afficher la barre de progression\n",
    "for index, row in tqdm(selected_comments_loaded.iterrows(), total=selected_comments_loaded.shape[0]):\n",
    "    nb_mots = row['word_count']\n",
    "    param_mots = round(0.05 * nb_mots)\n",
    "    keywords = yake_extractor(row['top_comments'], param_mots)\n",
    "    selected_comments_loaded.at[index, 'yake'] = keywords\n"
   ]
  },
  {
   "cell_type": "code",
   "execution_count": 44,
   "metadata": {},
   "outputs": [
    {
     "data": {
      "text/plain": [
       "12277    {0: ['faciler faux piste', 'faux piste crédibl...\n",
       "41626    {0: ['nbr party jouer', 'règle extrêmement sim...\n",
       "36423    {0: ['mice and mystic', 'joue mice and', 'reme...\n",
       "11510    {0: ['famille malheureusement graphism', 'malh...\n",
       "76089    {0: ['avis tric trac', 'tric trac inauguration...\n",
       "Name: yake, dtype: object"
      ]
     },
     "execution_count": 44,
     "metadata": {},
     "output_type": "execute_result"
    }
   ],
   "source": [
    "selected_comments_loaded['yake'].head()"
   ]
  },
  {
   "cell_type": "code",
   "execution_count": 45,
   "metadata": {},
   "outputs": [],
   "source": [
    "selected_comments_loaded.to_pickle('selected_comments_loaded.pkl')"
   ]
  },
  {
   "cell_type": "markdown",
   "metadata": {},
   "source": [
    "##### Calcul taux d'apparition"
   ]
  },
  {
   "cell_type": "code",
   "execution_count": 86,
   "metadata": {},
   "outputs": [],
   "source": [
    "liste_taux_baseline = []\n",
    "for index, row in selected_comments_loaded.iterrows():\n",
    "    c = row['comment']\n",
    "    k = row['baseline']\n",
    "    liste_taux_baseline.append(keyword_appearance_rate(c,k))"
   ]
  },
  {
   "cell_type": "code",
   "execution_count": 87,
   "metadata": {},
   "outputs": [],
   "source": [
    "liste_taux_tfidf = []\n",
    "for index, row in selected_comments_loaded.iterrows():\n",
    "    c = row['comment']\n",
    "    k = row['tf_idf']\n",
    "    liste_taux_tfidf.append(keyword_appearance_rate(c,k))"
   ]
  },
  {
   "cell_type": "code",
   "execution_count": 88,
   "metadata": {},
   "outputs": [],
   "source": [
    "liste_taux_textrank = []\n",
    "for index, row in selected_comments_loaded.iterrows():\n",
    "    c = row['comment']\n",
    "    k = row['textrank']\n",
    "    liste_taux_textrank.append(keyword_appearance_rate(c,k))"
   ]
  },
  {
   "cell_type": "markdown",
   "metadata": {},
   "source": [
    "TAUX D'APPARITION"
   ]
  },
  {
   "cell_type": "code",
   "execution_count": 96,
   "metadata": {},
   "outputs": [
    {
     "name": "stdout",
     "output_type": "stream",
     "text": [
      "baseline 0.31047744048142273\n",
      "tf-idf 0.2986116179781543\n",
      "text_rank 0.1970829706278538\n"
     ]
    }
   ],
   "source": [
    "print(f\"baseline {np.mean(liste_taux_baseline)}\")\n",
    "print(f\"tf-idf { np.mean(liste_taux_tfidf)}\")\n",
    "print(f\"text_rank {np.mean(liste_taux_textrank)}\")"
   ]
  },
  {
   "cell_type": "markdown",
   "metadata": {},
   "source": [
    "Note : On a pas calculé le taux d'apparition des mots clés pour les algos LDA et YAKE car les mots clés extraits sont organisés par sujet, cette metrique a donc moins de sens"
   ]
  },
  {
   "cell_type": "markdown",
   "metadata": {},
   "source": [
    "#### Analyse des Resultats"
   ]
  },
  {
   "cell_type": "markdown",
   "metadata": {},
   "source": [
    "Baseline (0.3105) : Ce taux indique que les mots-clés extraits par la méthode Baseline apparaissent dans environ 31% des cas dans les commentaires testés. Le succès relativement élevé de cette méthode pourrait indiquer que les mots les plus fréquents (qui sont souvent choisis dans la méthode Baseline) sont effectivement pertinents pour le contexte des commentaires. Cela peut être dû à une concentration de sujets ou de termes qui sont fréquemment discutés ou mentionnés dans les commentaires.\n",
    "\n",
    "TF-IDF (0.2986) : Un peu moins performante que la méthode Baseline, TF-IDF montre tout de même que près de 30% des mots-clés qu'elle identifie sont présents dans les commentaires. TF-IDF est reconnu pour sa capacité à identifier les mots qui sont importants pour un document mais pas nécessairement communs dans tous les documents (ou commentaires, dans ce cas). Le taux légèrement inférieur par rapport à Baseline pourrait indiquer que TF-IDF capte des termes un peu plus spécifiques qui ne se répètent pas autant à travers les différents commentaires.\n",
    "\n",
    "TextRank (0.1971) : Avec un taux d'apparition de près de 20%, TextRank montre une performance inférieure aux deux autres méthodes. TextRank, étant un algorithme basé sur le graphe qui tente d'extraire des mots-clés en fonction de leur importance structurelle dans le texte, pourrait ne pas aligner aussi efficacement les mots-clés avec le contenu réel discuté, surtout dans les textes où les connexions contextuelles sont moins évidentes ou plus diffuses.\n",
    "\n",
    "Déductions et Implications\n",
    "Pertinence des Mots Clés : Baseline et TF-IDF semblent capturer des mots-clés plus alignés avec les fréquences de discussion dans les commentaires, tandis que TextRank pourrait bénéficier d'une révision ou d'une adaptation pour mieux saisir les mots-clés contextuellement importants.\n",
    "\n",
    "Choix de Méthode : Si la fréquence d'apparition est un indicateur clé de la pertinence, Baseline et TF-IDF sont préférables pour notre contexte spécifique. Cependant, si la diversité des mots-clés et la couverture de sujets uniques sont plus critiques, il peut être bénéfique d'examiner plus en détail pourquoi TextRank est moins performant et comment ses résultats pourraient être complémentaires, plutôt que directement comparables.\n"
   ]
  },
  {
   "cell_type": "markdown",
   "metadata": {},
   "source": [
    "EXEMPLE :"
   ]
  },
  {
   "cell_type": "code",
   "execution_count": 106,
   "metadata": {},
   "outputs": [
    {
     "name": "stdout",
     "output_type": "stream",
     "text": [
      "Commentaire : SHDC est un beau jeu aux règles simples qui ravira les amateurs d'enquêtes et de déduction.La carte de Londres permet de localiser les évènements et les lieux d'habitation des protagonistes.Un joueur lit à haute voix la situation à résoudre et les joueurs choisissent, à l'aide de l'annuaire et du journal du jour (dont 90% des infos sont inutiles) la piste qu'ils vont explorer. Une fois le lieu choisi, le lecteur se reporte au chapitre correspondant dans le livre-enquête et expose de nouveaux éléments pour compléter le puzzle.Les joueurs arrétent quand il pensent avoir résolu l'enquête et marquent des points en fonction de leur niveau de compréhension de celle-ci (via un questionnaire) et du nombre de pistes suivies (souvent entré 5 et 10). Ils comparent ensuite leur score avec le meilleur score, celui de Sherlock Holmes.SHDC fonctionne très bien, peut se pratiquer seul ou à plusieurs. Les discussions sont longues, tellement les fausses pistes sont nombreuses. Un très bon jeu pour les amateurs de déduction narrative,, il demande un attention très forte.Not my cup of tea though.\n",
      "Titre du jeu : Sherlock Holmes Détective Conseil : les meurtres de la Tamise & autres enquêtes\n"
     ]
    }
   ],
   "source": [
    "test_comment = selected_comments_loaded['comment'].iloc[0]\n",
    "print(\"Commentaire : \"+test_comment)\n",
    "print(\"Titre du jeu : \"+selected_comments_loaded['title'].iloc[0])"
   ]
  },
  {
   "cell_type": "code",
   "execution_count": 103,
   "metadata": {},
   "outputs": [
    {
     "name": "stdout",
     "output_type": "stream",
     "text": [
      "Mots clés Baseline :\n",
      "['jeu', 'faire', 'pouvoir', 'plus', 'tout', 'alors', 'bien', 'enquête', 'enquêter', 'avoir', 'très', 'joueur', 'sherlock', 'piste', 'plaisir', 'là', 'peu', 'jouer']\n"
     ]
    }
   ],
   "source": [
    "print(\"Mots clés Baseline :\")\n",
    "print(selected_comments_loaded['baseline'].iloc[0])"
   ]
  },
  {
   "cell_type": "code",
   "execution_count": 105,
   "metadata": {},
   "outputs": [
    {
     "name": "stdout",
     "output_type": "stream",
     "text": [
      "Mots clés TF-IDF :\n",
      "['jeu', 'bien', 'faire', 'pouvoir', 'alors', 'plus', 'tout', 'avoir', 'enquête', 'très', 'dire', 'soirée', 'ami', 'là', 'peu', 'juste', 'enquêter', 'piste']\n"
     ]
    }
   ],
   "source": [
    "print(\"Mots clés TF-IDF :\")\n",
    "print(selected_comments_loaded['tf_idf'].iloc[0])"
   ]
  },
  {
   "cell_type": "code",
   "execution_count": 104,
   "metadata": {},
   "outputs": [
    {
     "name": "stdout",
     "output_type": "stream",
     "text": [
      "Mots clés Textrank\n",
      "['jeu', 'enquête', 'enquêter', 'faire', 'plus', 'pouvoir avoir', 'bien', 'alors', 'plaisir tout', 'piste', 'indication', 'indice', 'indic', 'là', 'très', 'tel pist argumentation', 'sherlock', 'choix joueur', 'argumenter peu', 'party', 'partie', 'ami', 'petit', 'mettre', 'jouer', 'dire', 'argument', 'facile sortir soirée', 'facilement passer', 'toujours', 'personnage', 'faciler', 'rue', 'savoir', 'où']\n"
     ]
    }
   ],
   "source": [
    "print(\"Mots clés Textrank\")\n",
    "print(selected_comments_loaded['textrank'].iloc[0])"
   ]
  },
  {
   "cell_type": "markdown",
   "metadata": {},
   "source": [
    "Feedback qualitatif a faire mais manque de temps..."
   ]
  }
 ],
 "metadata": {
  "kernelspec": {
   "display_name": "base",
   "language": "python",
   "name": "python3"
  },
  "language_info": {
   "codemirror_mode": {
    "name": "ipython",
    "version": 3
   },
   "file_extension": ".py",
   "mimetype": "text/x-python",
   "name": "python",
   "nbconvert_exporter": "python",
   "pygments_lexer": "ipython3",
   "version": "3.9.18"
  },
  "orig_nbformat": 4
 },
 "nbformat": 4,
 "nbformat_minor": 2
}
