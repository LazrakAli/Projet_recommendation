{
 "cells": [
  {
   "cell_type": "markdown",
   "metadata": {},
   "source": [
    "# Protocole Expérimental pour Tester les Méthodes d'Extraction de Mots-Clés\n",
    "\n",
    "## Objectif\n",
    "Comparer les mots-clés extraits par différentes méthodes d'extraction à des commentaires d'utilisateurs existants pour évaluer leur pertinence et leur utilité dans l'explication des recommandations de jeux.\n",
    "\n",
    "## Étapes du Protocole\n",
    "\n",
    "### 1. Préparation des Données\n",
    "- **Pretraitement des données, initialisation et entraînement de l'algorithme de recommandation**\n",
    "- **Nettoyage des Commentaires** : Application des techniques de prétraitement telles que la suppression des stop-words, la ponctuation, et la lemmatisation/stemmatisation.\n",
    "\n",
    "### 2. Méthodes d'Extraction\n",
    "- **Méthodes à Tester** :\n",
    "    - Baseline (Comptage de mots fréquents)\n",
    "    - TF-IDF\n",
    "    - LDA\n",
    "    - TextRank\n",
    "    - YAKE\n",
    "    - RAKE\n",
    "    - KeyBERT\n",
    "- **Extraction de Mots-Clés** : Application de chaque méthode sur les commentaires sélectionnés pour extraire les mots-clés.\n",
    "\n",
    "### 3. Évaluation de la Pertinence\n",
    "- **Métriques de Performance** :\n",
    "    - **Précision** : Pourcentage de mots-clés pertinents parmi ceux extraits.\n",
    "- **Annotation Humaine** : Nous allons noter nous mêmes la pertinence des mots clés sur une echelle de 0 à 5.\n",
    "\n",
    "### 4. Analyse des Résultats\n",
    "- **Comparaison des Méthodes** : Comparaison des scores de précision, de rappel et de F1-score pour chaque méthode. Analyse des feedbacks qualitatifs pour identifier les points forts et les faiblesses de chaque méthode.\n",
    "- **Visualisation des Données** : Graphiques pour représenter les performances des différentes méthodes (par exemple, diagrammes en barres, nuages de mots, etc.).\n",
    "\n",
    "### 5. Interprétation et Recommandations\n",
    "- **Synthèse des Résultats** : Tableau des résultats quantitatifs et qualitatifs pour chaque méthode.\n",
    "- **Suggestions d'Améliorations** : Ajustements ou combinaisons de méthodes pour améliorer davantage l'extraction de mots-clés et la génération d'explications.\n"
   ]
  },
  {
   "cell_type": "code",
   "execution_count": 1,
   "metadata": {},
   "outputs": [
    {
     "name": "stderr",
     "output_type": "stream",
     "text": [
      "[nltk_data] Downloading package stopwords to\n",
      "[nltk_data]     /Users/martin/nltk_data...\n",
      "[nltk_data]   Package stopwords is already up-to-date!\n",
      "[nltk_data] Downloading package punkt to /Users/martin/nltk_data...\n",
      "[nltk_data]   Package punkt is already up-to-date!\n",
      "/Users/martin/micromamba/lib/python3.9/site-packages/tqdm/auto.py:21: TqdmWarning: IProgress not found. Please update jupyter and ipywidgets. See https://ipywidgets.readthedocs.io/en/stable/user_install.html\n",
      "  from .autonotebook import tqdm as notebook_tqdm\n"
     ]
    }
   ],
   "source": [
    "from explication import *\n",
    "from methodes_nlp import *"
   ]
  },
  {
   "cell_type": "markdown",
   "metadata": {},
   "source": [
    "### 1. Préparation des données"
   ]
  },
  {
   "cell_type": "code",
   "execution_count": 2,
   "metadata": {},
   "outputs": [
    {
     "name": "stdout",
     "output_type": "stream",
     "text": [
      "Computing the cosine similarity matrix...\n",
      "Done computing similarity matrix.\n"
     ]
    }
   ],
   "source": [
    "reco = RecommendationSystem(\"BDD/avis_sans_outliers.csv\")\n",
    "reco.train_algorithm()"
   ]
  },
  {
   "cell_type": "code",
   "execution_count": 3,
   "metadata": {},
   "outputs": [],
   "source": [
    "comments = reco.get_top_comments_filtres('Monsieur Guillaume','Mariposas',5,10)"
   ]
  },
  {
   "cell_type": "markdown",
   "metadata": {},
   "source": [
    "### 2. Méthodes d'Extraction"
   ]
  },
  {
   "cell_type": "markdown",
   "metadata": {},
   "source": [
    "#### BASELINE (Mots les plus fréquents)"
   ]
  },
  {
   "cell_type": "code",
   "execution_count": 4,
   "metadata": {},
   "outputs": [
    {
     "name": "stdout",
     "output_type": "stream",
     "text": [
      "['faire', 'jeu', 'papillon', 'avoir', 'si', 'plus', 'aller', 'pouvoir', 'autre', 'tout', 'mariposer', 'variante', 'donc', 'carte', 'tour', 'pion', 'très', 'vraiment', 'bien', 'courbe', 'bon', 'migration', 'point', 'sembler', 'gagner', 'essayer', 'falloir', 'score', 'retourner', 'simple', 'niveau', 'progression', 'faciliter', 'cycle', 'vie', 'saisonnier', 'mexiqu', 'québec', 'ramener', 'scorer', 'maximum', 'visiter', 'proche', 'nord', 'revenir', 'dare', 'technique', 'coup', 'moins', 'rendre', 'course', 'trop', 'quand', 'encore', 'objectif', 'tenter', 'moment', 'lorsque', 'reste', 'deux', 'mode', 'partie', 'règle', 'familial', 'cach', 'jouer', 'mariposa', 'envie', 'réfléchir', 'joli', 'optimiser', 'déplacement', 'naissance', 'ville', 'voyage', 'départ', 'tension', 'embêter', 'difficile', 'déterminer', 'concevoir', 'particulier', 'devenir', 'utiliser', 'rallonger', 'saison', 'expliquer', 'sensé', 'organiser', 'monarque', 'poindre', 'atteindre', 'systématiquement', 'valider', 'parfaitement', 'arrêter', 'moitié', 'chemin', 'plein', 'façon']\n"
     ]
    }
   ],
   "source": [
    "print(baseline(comments,100))"
   ]
  },
  {
   "cell_type": "markdown",
   "metadata": {},
   "source": [
    "#### TF-IDF"
   ]
  },
  {
   "cell_type": "code",
   "execution_count": 5,
   "metadata": {},
   "outputs": [
    {
     "name": "stdout",
     "output_type": "stream",
     "text": [
      "['faire', 'jeu', 'avoir', 'pion', 'papillon', 'plus', 'simple', 'aller', 'tout', 'embêter', 'si', 'autre', 'carte', 'mariposer', 'donc', 'tour', 'pouvoir', 'variante', 'départ', 'tension', 'falloir', 'point', 'déplacement', 'optimiser', 'envie', 'joli', 'essayer', 'très', 'réfléchir', 'ville', 'retourner', 'courbe', 'bon', 'jouer', 'mariposa', 'naissance', 'voyage', 'course', 'partie', 'proche', 'vie', 'action', 'acumuler', 'balad', 'cours', 'deplacmer', 'devoir', 'dire', 'exacerber', 'fil', 'grâce', 'joue', 'mise', 'optimisation', 'pet', 'possibilité', 'remporter', 'setting', 'somme', 'bien', 'apprentissage', 'arriver', 'aussi', 'bel', 'bemol', 'bijou', 'camoufler', 'concerner', 'contribuer', 'couleur', 'cycl', 'différents', 'donne', 'histoire', 'illustration', 'impossible', 'matériel', 'mini', 'oeil', 'parce', 'permettre', 'propo', 'regarder', 'réussite', 'sauver', 'toujours', 'visualiser', 'gagner', 'migration', 'score', 'sembler', 'vraiment', 'maximum', 'mexiqu', 'moins', 'nord', 'ramener', 'reste', 'revenir', 'deux']\n"
     ]
    }
   ],
   "source": [
    "print(tf_idf(comments, 100))"
   ]
  },
  {
   "cell_type": "markdown",
   "metadata": {},
   "source": [
    "#### LDA"
   ]
  },
  {
   "cell_type": "code",
   "execution_count": 6,
   "metadata": {},
   "outputs": [
    {
     "name": "stdout",
     "output_type": "stream",
     "text": [
      "{'Topic 0': ['jeu', 'faire', 'papillon', 'plus', 'avoir', 'pouvoir', 'autre', 'aller', 'donc', 'tour', 'si', 'embêter', 'carte', 'mariposer', 'migration'], 'Topic 1': ['faire', 'avoir', 'jeu', 'embêter', 'falloir', 'départ', 'donc', 'papillon', 'carte', 'mariposer', 'aller', 'plus', 'point', 'simple', 'autre'], 'Topic 2': ['faire', 'plus', 'jeu', 'pouvoir', 'si', 'aller', 'vraiment', 'gagner', 'tour', 'score', 'avoir', 'donc', 'sembler', 'papillon', 'migration'], 'Topic 3': ['jeu', 'faire', 'papillon', 'pion', 'si', 'avoir', 'tout', 'simple', 'aller', 'variante', 'autre', 'retourner', 'joli', 'envie', 'très'], 'Topic 4': ['faire', 'avoir', 'embêter', 'jeu', 'papillon', 'aller', 'plus', 'autre', 'tour', 'donc', 'carte', 'mariposer', 'point', 'falloir', 'optimiser']}\n"
     ]
    }
   ],
   "source": [
    "print(lda(comments, num_topics=5, num_keywords=15))"
   ]
  },
  {
   "cell_type": "markdown",
   "metadata": {},
   "source": [
    "#### TEXTRANK"
   ]
  },
  {
   "cell_type": "code",
   "execution_count": 7,
   "metadata": {},
   "outputs": [
    {
     "name": "stdout",
     "output_type": "stream",
     "text": [
      "jeu\n",
      "papillon\n",
      "faire point\n",
      "québec avoir\n",
      "essayer aller\n",
      "autre\n",
      "pouvoir\n",
      "nord plus\n",
      "pion retourn\n",
      "donc\n",
      "si mariposer vraiment bien\n",
      "carte\n",
      "retourner\n",
      "sembler tout\n",
      "partie\n",
      "party\n",
      "bon\n",
      "migration\n",
      "visiter\n",
      "tour\n",
      "variante faciliter cycle\n",
      "simple\n",
      "falloir\n",
      "très\n",
      "technique gagner\n",
      "score\n",
      "cycl\n",
      "visite ville\n",
      "reste\n",
      "optimiser\n",
      "optimisation\n",
      "proche\n",
      "niveau courbe\n",
      "moins\n",
      "obligation\n",
      "obliger\n",
      "rendre\n",
      "deux mode\n",
      "tenter\n",
      "temp\n",
      "voyage\n",
      "règle\n",
      "jouer mariposa temps\n",
      "joli\n",
      "ramener\n",
      "lorsque\n",
      "objectif\n",
      "envie réfléchir\n",
      "trop\n",
      "quand\n",
      "encore\n",
      "tension\n",
      "coup\n",
      "départ\n"
     ]
    }
   ],
   "source": [
    "print(textrank(comments))"
   ]
  },
  {
   "cell_type": "markdown",
   "metadata": {},
   "source": [
    "#### YAKE"
   ]
  },
  {
   "cell_type": "code",
   "execution_count": 8,
   "metadata": {},
   "outputs": [
    {
     "name": "stdout",
     "output_type": "stream",
     "text": [
      "{0: ['niveau courbe progression', 'final courbe progression', 'courbe progression long', 'apte final courbe', 'progression long incertaine', 'devenir bon utiliser', 'vie rallonger saison', 'rallonger saison expliquer', 'saison expliquer sensé', 'expliquer sensé organiser'], 1: ['aimer jouer mariposa', 'fois entreprendre voyage', 'jouer mariposa temps', 'adapter prime joli', 'niveau mécanique jeu', 'mécanique jeu calcul', 'jeu calcul optimiser', 'calcul optimiser déplacement', 'optimiser déplacement naissance', 'déplacement naissance papillon'], 2: ['air pittoresque visuel', 'intéressant agréable jouer', 'pittoresque visuel épurer', 'visuel épurer mariposer', 'gestion redoutable mécaniquement', 'profondément riche but', 'nord amériqu créer', 'amériqu créer naissance', 'revenir point départ', 'point départ voyage'], 3: ['vie bel réussite', 'matériel illustration histoire', 'illustration histoire propo', 'donne envie contribuer', 'envie contribuer sauver', 'contribuer sauver courbe', 'sauver courbe apprentissage', 'courbe apprentissage impossible', 'essayer mini bemol', 'mini bemol papillon'], 4: ['mariposer jeu tension', 'faire remporter mise', 'jeu tension aller', 'tension aller exacerber', 'aller exacerber cours', 'exacerber cours partie', 'cours partie devoir', 'fil joue papillon', 'joue papillon balad', 'setting départ grâce']}\n"
     ]
    }
   ],
   "source": [
    "print(yake_extractor(comments))"
   ]
  },
  {
   "cell_type": "markdown",
   "metadata": {},
   "source": [
    "#### RAKE"
   ]
  },
  {
   "cell_type": "code",
   "execution_count": 9,
   "metadata": {},
   "outputs": [
    {
     "name": "stdout",
     "output_type": "stream",
     "text": [
      "{0: [], 1: [], 2: [], 3: [], 4: []}\n"
     ]
    }
   ],
   "source": [
    "print(rake_extractor(comments))"
   ]
  },
  {
   "cell_type": "markdown",
   "metadata": {},
   "source": [
    "La fonction marche, seulement les commentaires ne sont pas assez longs et descriptifs. Ils sont aussi surement trop differents les uns des autres."
   ]
  },
  {
   "cell_type": "markdown",
   "metadata": {},
   "source": [
    "#### KeyBERT"
   ]
  },
  {
   "cell_type": "code",
   "execution_count": 10,
   "metadata": {},
   "outputs": [],
   "source": [
    "#print(keybert_extractor(comments))"
   ]
  },
  {
   "cell_type": "markdown",
   "metadata": {},
   "source": [
    "### Évaluation de la Pertinence"
   ]
  },
  {
   "cell_type": "markdown",
   "metadata": {},
   "source": [
    "- Commentaires test : 100 commentaires de 100 mots\n",
    "- Commentaires des k plus proches voisins : threshold 100 mots\n",
    "- Nb de commentaires des k plus proches voisins : 5"
   ]
  },
  {
   "cell_type": "markdown",
   "metadata": {},
   "source": [
    "#### Sélection des 100 commentaires tests (100 mots minimum)"
   ]
  },
  {
   "cell_type": "code",
   "execution_count": 54,
   "metadata": {},
   "outputs": [],
   "source": [
    "copie = reco.data.copy()\n",
    "def word_count(text):\n",
    "    # Compter les mots dans le texte en ignorant la ponctuation et les espaces\n",
    "    words = text.split()\n",
    "    return len(words)\n",
    "\n",
    "# Appliquer la fonction pour compter les mots dans chaque commentaire\n",
    "copie['word_count'] = copie['comment'].apply(word_count)\n",
    "\n",
    "# Filtrer les commentaires ayant au moins 100 mots\n",
    "filtered_comments = copie[copie['word_count'] >= 100]\n",
    "\n",
    "# Sélectionner aléatoirement 100 commentaires répondant à ce critère\n",
    "if len(filtered_comments) >= 100:\n",
    "    selected_comments = filtered_comments.sample(100, random_state=42)\n",
    "else:\n",
    "    selected_comments = filtered_comments.sample(len(filtered_comments), random_state=42)  # Si moins de 100, prendre tous"
   ]
  },
  {
   "cell_type": "code",
   "execution_count": 55,
   "metadata": {},
   "outputs": [
    {
     "data": {
      "text/plain": [
       "100"
      ]
     },
     "execution_count": 55,
     "metadata": {},
     "output_type": "execute_result"
    }
   ],
   "source": [
    "len(selected_comments)"
   ]
  },
  {
   "cell_type": "code",
   "execution_count": 56,
   "metadata": {},
   "outputs": [
    {
     "name": "stderr",
     "output_type": "stream",
     "text": [
      "  0%|          | 0/100 [00:00<?, ?it/s]"
     ]
    },
    {
     "name": "stderr",
     "output_type": "stream",
     "text": [
      "100%|██████████| 100/100 [18:47<00:00, 11.28s/it]\n"
     ]
    }
   ],
   "source": [
    "from tqdm import tqdm  # Importer tqdm pour la barre de progression\n",
    "\n",
    "# Assurez-vous que selected_comments est bien défini\n",
    "selected_comments['top_comments'] = None  # Créer une colonne pour stocker les commentaires filtrés\n",
    "\n",
    "for index, row in tqdm(selected_comments.iterrows(), total=selected_comments.shape[0]):\n",
    "    # Vérifier si les données ont déjà été récupérées et stockées\n",
    "    if pd.isna(row['top_comments']):\n",
    "        # Récupérer les commentaires filtrés si non déjà stockés\n",
    "        k_comments = reco.get_top_comments_filtres(row['author'], row['title'], 5, 100)\n",
    "        # Stocker les résultats dans le DataFrame\n",
    "        selected_comments.at[index, 'top_comments'] = k_comments\n",
    "\n",
    "# Sauvegarder le DataFrame pour une utilisation future\n",
    "selected_comments.to_csv('selected_comments_with_top_comments.csv', index=False)\n"
   ]
  },
  {
   "cell_type": "code",
   "execution_count": 63,
   "metadata": {},
   "outputs": [
    {
     "ename": "JSONDecodeError",
     "evalue": "Expecting value: line 1 column 8 (char 7)",
     "output_type": "error",
     "traceback": [
      "\u001b[0;31m---------------------------------------------------------------------------\u001b[0m",
      "\u001b[0;31mJSONDecodeError\u001b[0m                           Traceback (most recent call last)",
      "\u001b[1;32m/Users/martin/Library/Mobile Documents/com~apple~CloudDocs/L3/Projet_recommendation/TESTS_FINAUX.ipynb Cell 28\u001b[0m line \u001b[0;36m6\n\u001b[1;32m      <a href='vscode-notebook-cell:/Users/martin/Library/Mobile%20Documents/com~apple~CloudDocs/L3/Projet_recommendation/TESTS_FINAUX.ipynb#X61sZmlsZQ%3D%3D?line=3'>4</a>\u001b[0m \u001b[39m# Convertir la colonne de chaîne JSON en listes, si nécessaire\u001b[39;00m\n\u001b[1;32m      <a href='vscode-notebook-cell:/Users/martin/Library/Mobile%20Documents/com~apple~CloudDocs/L3/Projet_recommendation/TESTS_FINAUX.ipynb#X61sZmlsZQ%3D%3D?line=4'>5</a>\u001b[0m \u001b[39mimport\u001b[39;00m \u001b[39mjson\u001b[39;00m\n\u001b[0;32m----> <a href='vscode-notebook-cell:/Users/martin/Library/Mobile%20Documents/com~apple~CloudDocs/L3/Projet_recommendation/TESTS_FINAUX.ipynb#X61sZmlsZQ%3D%3D?line=5'>6</a>\u001b[0m selected_comments[\u001b[39m'\u001b[39m\u001b[39mtop_comments\u001b[39m\u001b[39m'\u001b[39m] \u001b[39m=\u001b[39m selected_comments[\u001b[39m'\u001b[39;49m\u001b[39mtop_comments\u001b[39;49m\u001b[39m'\u001b[39;49m]\u001b[39m.\u001b[39;49mapply(\u001b[39mlambda\u001b[39;49;00m x: json\u001b[39m.\u001b[39;49mloads(x) \u001b[39mif\u001b[39;49;00m pd\u001b[39m.\u001b[39;49mnotna(x) \u001b[39melse\u001b[39;49;00m x)\n\u001b[1;32m      <a href='vscode-notebook-cell:/Users/martin/Library/Mobile%20Documents/com~apple~CloudDocs/L3/Projet_recommendation/TESTS_FINAUX.ipynb#X61sZmlsZQ%3D%3D?line=7'>8</a>\u001b[0m \u001b[39m# Vérifier s'il y a des entrées manquantes dans 'top_comments'\u001b[39;00m\n\u001b[1;32m      <a href='vscode-notebook-cell:/Users/martin/Library/Mobile%20Documents/com~apple~CloudDocs/L3/Projet_recommendation/TESTS_FINAUX.ipynb#X61sZmlsZQ%3D%3D?line=8'>9</a>\u001b[0m \u001b[39mif\u001b[39;00m selected_comments[\u001b[39m'\u001b[39m\u001b[39mtop_comments\u001b[39m\u001b[39m'\u001b[39m]\u001b[39m.\u001b[39misna()\u001b[39m.\u001b[39many():\n",
      "File \u001b[0;32m~/micromamba/lib/python3.9/site-packages/pandas/core/series.py:4908\u001b[0m, in \u001b[0;36mSeries.apply\u001b[0;34m(self, func, convert_dtype, args, by_row, **kwargs)\u001b[0m\n\u001b[1;32m   4780\u001b[0m \u001b[39mdef\u001b[39;00m \u001b[39mapply\u001b[39m(\n\u001b[1;32m   4781\u001b[0m     \u001b[39mself\u001b[39m,\n\u001b[1;32m   4782\u001b[0m     func: AggFuncType,\n\u001b[0;32m   (...)\u001b[0m\n\u001b[1;32m   4787\u001b[0m     \u001b[39m*\u001b[39m\u001b[39m*\u001b[39mkwargs,\n\u001b[1;32m   4788\u001b[0m ) \u001b[39m-\u001b[39m\u001b[39m>\u001b[39m DataFrame \u001b[39m|\u001b[39m Series:\n\u001b[1;32m   4789\u001b[0m \u001b[39m    \u001b[39m\u001b[39m\"\"\"\u001b[39;00m\n\u001b[1;32m   4790\u001b[0m \u001b[39m    Invoke function on values of Series.\u001b[39;00m\n\u001b[1;32m   4791\u001b[0m \n\u001b[0;32m   (...)\u001b[0m\n\u001b[1;32m   4906\u001b[0m \u001b[39m    dtype: float64\u001b[39;00m\n\u001b[1;32m   4907\u001b[0m \u001b[39m    \"\"\"\u001b[39;00m\n\u001b[0;32m-> 4908\u001b[0m     \u001b[39mreturn\u001b[39;00m SeriesApply(\n\u001b[1;32m   4909\u001b[0m         \u001b[39mself\u001b[39;49m,\n\u001b[1;32m   4910\u001b[0m         func,\n\u001b[1;32m   4911\u001b[0m         convert_dtype\u001b[39m=\u001b[39;49mconvert_dtype,\n\u001b[1;32m   4912\u001b[0m         by_row\u001b[39m=\u001b[39;49mby_row,\n\u001b[1;32m   4913\u001b[0m         args\u001b[39m=\u001b[39;49margs,\n\u001b[1;32m   4914\u001b[0m         kwargs\u001b[39m=\u001b[39;49mkwargs,\n\u001b[1;32m   4915\u001b[0m     )\u001b[39m.\u001b[39;49mapply()\n",
      "File \u001b[0;32m~/micromamba/lib/python3.9/site-packages/pandas/core/apply.py:1427\u001b[0m, in \u001b[0;36mSeriesApply.apply\u001b[0;34m(self)\u001b[0m\n\u001b[1;32m   1424\u001b[0m     \u001b[39mreturn\u001b[39;00m \u001b[39mself\u001b[39m\u001b[39m.\u001b[39mapply_compat()\n\u001b[1;32m   1426\u001b[0m \u001b[39m# self.func is Callable\u001b[39;00m\n\u001b[0;32m-> 1427\u001b[0m \u001b[39mreturn\u001b[39;00m \u001b[39mself\u001b[39;49m\u001b[39m.\u001b[39;49mapply_standard()\n",
      "File \u001b[0;32m~/micromamba/lib/python3.9/site-packages/pandas/core/apply.py:1507\u001b[0m, in \u001b[0;36mSeriesApply.apply_standard\u001b[0;34m(self)\u001b[0m\n\u001b[1;32m   1501\u001b[0m \u001b[39m# row-wise access\u001b[39;00m\n\u001b[1;32m   1502\u001b[0m \u001b[39m# apply doesn't have a `na_action` keyword and for backward compat reasons\u001b[39;00m\n\u001b[1;32m   1503\u001b[0m \u001b[39m# we need to give `na_action=\"ignore\"` for categorical data.\u001b[39;00m\n\u001b[1;32m   1504\u001b[0m \u001b[39m# TODO: remove the `na_action=\"ignore\"` when that default has been changed in\u001b[39;00m\n\u001b[1;32m   1505\u001b[0m \u001b[39m#  Categorical (GH51645).\u001b[39;00m\n\u001b[1;32m   1506\u001b[0m action \u001b[39m=\u001b[39m \u001b[39m\"\u001b[39m\u001b[39mignore\u001b[39m\u001b[39m\"\u001b[39m \u001b[39mif\u001b[39;00m \u001b[39misinstance\u001b[39m(obj\u001b[39m.\u001b[39mdtype, CategoricalDtype) \u001b[39melse\u001b[39;00m \u001b[39mNone\u001b[39;00m\n\u001b[0;32m-> 1507\u001b[0m mapped \u001b[39m=\u001b[39m obj\u001b[39m.\u001b[39;49m_map_values(\n\u001b[1;32m   1508\u001b[0m     mapper\u001b[39m=\u001b[39;49mcurried, na_action\u001b[39m=\u001b[39;49maction, convert\u001b[39m=\u001b[39;49m\u001b[39mself\u001b[39;49m\u001b[39m.\u001b[39;49mconvert_dtype\n\u001b[1;32m   1509\u001b[0m )\n\u001b[1;32m   1511\u001b[0m \u001b[39mif\u001b[39;00m \u001b[39mlen\u001b[39m(mapped) \u001b[39mand\u001b[39;00m \u001b[39misinstance\u001b[39m(mapped[\u001b[39m0\u001b[39m], ABCSeries):\n\u001b[1;32m   1512\u001b[0m     \u001b[39m# GH#43986 Need to do list(mapped) in order to get treated as nested\u001b[39;00m\n\u001b[1;32m   1513\u001b[0m     \u001b[39m#  See also GH#25959 regarding EA support\u001b[39;00m\n\u001b[1;32m   1514\u001b[0m     \u001b[39mreturn\u001b[39;00m obj\u001b[39m.\u001b[39m_constructor_expanddim(\u001b[39mlist\u001b[39m(mapped), index\u001b[39m=\u001b[39mobj\u001b[39m.\u001b[39mindex)\n",
      "File \u001b[0;32m~/micromamba/lib/python3.9/site-packages/pandas/core/base.py:921\u001b[0m, in \u001b[0;36mIndexOpsMixin._map_values\u001b[0;34m(self, mapper, na_action, convert)\u001b[0m\n\u001b[1;32m    918\u001b[0m \u001b[39mif\u001b[39;00m \u001b[39misinstance\u001b[39m(arr, ExtensionArray):\n\u001b[1;32m    919\u001b[0m     \u001b[39mreturn\u001b[39;00m arr\u001b[39m.\u001b[39mmap(mapper, na_action\u001b[39m=\u001b[39mna_action)\n\u001b[0;32m--> 921\u001b[0m \u001b[39mreturn\u001b[39;00m algorithms\u001b[39m.\u001b[39;49mmap_array(arr, mapper, na_action\u001b[39m=\u001b[39;49mna_action, convert\u001b[39m=\u001b[39;49mconvert)\n",
      "File \u001b[0;32m~/micromamba/lib/python3.9/site-packages/pandas/core/algorithms.py:1743\u001b[0m, in \u001b[0;36mmap_array\u001b[0;34m(arr, mapper, na_action, convert)\u001b[0m\n\u001b[1;32m   1741\u001b[0m values \u001b[39m=\u001b[39m arr\u001b[39m.\u001b[39mastype(\u001b[39mobject\u001b[39m, copy\u001b[39m=\u001b[39m\u001b[39mFalse\u001b[39;00m)\n\u001b[1;32m   1742\u001b[0m \u001b[39mif\u001b[39;00m na_action \u001b[39mis\u001b[39;00m \u001b[39mNone\u001b[39;00m:\n\u001b[0;32m-> 1743\u001b[0m     \u001b[39mreturn\u001b[39;00m lib\u001b[39m.\u001b[39;49mmap_infer(values, mapper, convert\u001b[39m=\u001b[39;49mconvert)\n\u001b[1;32m   1744\u001b[0m \u001b[39melse\u001b[39;00m:\n\u001b[1;32m   1745\u001b[0m     \u001b[39mreturn\u001b[39;00m lib\u001b[39m.\u001b[39mmap_infer_mask(\n\u001b[1;32m   1746\u001b[0m         values, mapper, mask\u001b[39m=\u001b[39misna(values)\u001b[39m.\u001b[39mview(np\u001b[39m.\u001b[39muint8), convert\u001b[39m=\u001b[39mconvert\n\u001b[1;32m   1747\u001b[0m     )\n",
      "File \u001b[0;32mlib.pyx:2972\u001b[0m, in \u001b[0;36mpandas._libs.lib.map_infer\u001b[0;34m()\u001b[0m\n",
      "\u001b[1;32m/Users/martin/Library/Mobile Documents/com~apple~CloudDocs/L3/Projet_recommendation/TESTS_FINAUX.ipynb Cell 28\u001b[0m line \u001b[0;36m6\n\u001b[1;32m      <a href='vscode-notebook-cell:/Users/martin/Library/Mobile%20Documents/com~apple~CloudDocs/L3/Projet_recommendation/TESTS_FINAUX.ipynb#X61sZmlsZQ%3D%3D?line=3'>4</a>\u001b[0m \u001b[39m# Convertir la colonne de chaîne JSON en listes, si nécessaire\u001b[39;00m\n\u001b[1;32m      <a href='vscode-notebook-cell:/Users/martin/Library/Mobile%20Documents/com~apple~CloudDocs/L3/Projet_recommendation/TESTS_FINAUX.ipynb#X61sZmlsZQ%3D%3D?line=4'>5</a>\u001b[0m \u001b[39mimport\u001b[39;00m \u001b[39mjson\u001b[39;00m\n\u001b[0;32m----> <a href='vscode-notebook-cell:/Users/martin/Library/Mobile%20Documents/com~apple~CloudDocs/L3/Projet_recommendation/TESTS_FINAUX.ipynb#X61sZmlsZQ%3D%3D?line=5'>6</a>\u001b[0m selected_comments[\u001b[39m'\u001b[39m\u001b[39mtop_comments\u001b[39m\u001b[39m'\u001b[39m] \u001b[39m=\u001b[39m selected_comments[\u001b[39m'\u001b[39m\u001b[39mtop_comments\u001b[39m\u001b[39m'\u001b[39m]\u001b[39m.\u001b[39mapply(\u001b[39mlambda\u001b[39;00m x: json\u001b[39m.\u001b[39;49mloads(x) \u001b[39mif\u001b[39;00m pd\u001b[39m.\u001b[39mnotna(x) \u001b[39melse\u001b[39;00m x)\n\u001b[1;32m      <a href='vscode-notebook-cell:/Users/martin/Library/Mobile%20Documents/com~apple~CloudDocs/L3/Projet_recommendation/TESTS_FINAUX.ipynb#X61sZmlsZQ%3D%3D?line=7'>8</a>\u001b[0m \u001b[39m# Vérifier s'il y a des entrées manquantes dans 'top_comments'\u001b[39;00m\n\u001b[1;32m      <a href='vscode-notebook-cell:/Users/martin/Library/Mobile%20Documents/com~apple~CloudDocs/L3/Projet_recommendation/TESTS_FINAUX.ipynb#X61sZmlsZQ%3D%3D?line=8'>9</a>\u001b[0m \u001b[39mif\u001b[39;00m selected_comments[\u001b[39m'\u001b[39m\u001b[39mtop_comments\u001b[39m\u001b[39m'\u001b[39m]\u001b[39m.\u001b[39misna()\u001b[39m.\u001b[39many():\n",
      "File \u001b[0;32m~/micromamba/lib/python3.9/json/__init__.py:346\u001b[0m, in \u001b[0;36mloads\u001b[0;34m(s, cls, object_hook, parse_float, parse_int, parse_constant, object_pairs_hook, **kw)\u001b[0m\n\u001b[1;32m    341\u001b[0m     s \u001b[39m=\u001b[39m s\u001b[39m.\u001b[39mdecode(detect_encoding(s), \u001b[39m'\u001b[39m\u001b[39msurrogatepass\u001b[39m\u001b[39m'\u001b[39m)\n\u001b[1;32m    343\u001b[0m \u001b[39mif\u001b[39;00m (\u001b[39mcls\u001b[39m \u001b[39mis\u001b[39;00m \u001b[39mNone\u001b[39;00m \u001b[39mand\u001b[39;00m object_hook \u001b[39mis\u001b[39;00m \u001b[39mNone\u001b[39;00m \u001b[39mand\u001b[39;00m\n\u001b[1;32m    344\u001b[0m         parse_int \u001b[39mis\u001b[39;00m \u001b[39mNone\u001b[39;00m \u001b[39mand\u001b[39;00m parse_float \u001b[39mis\u001b[39;00m \u001b[39mNone\u001b[39;00m \u001b[39mand\u001b[39;00m\n\u001b[1;32m    345\u001b[0m         parse_constant \u001b[39mis\u001b[39;00m \u001b[39mNone\u001b[39;00m \u001b[39mand\u001b[39;00m object_pairs_hook \u001b[39mis\u001b[39;00m \u001b[39mNone\u001b[39;00m \u001b[39mand\u001b[39;00m \u001b[39mnot\u001b[39;00m kw):\n\u001b[0;32m--> 346\u001b[0m     \u001b[39mreturn\u001b[39;00m _default_decoder\u001b[39m.\u001b[39;49mdecode(s)\n\u001b[1;32m    347\u001b[0m \u001b[39mif\u001b[39;00m \u001b[39mcls\u001b[39m \u001b[39mis\u001b[39;00m \u001b[39mNone\u001b[39;00m:\n\u001b[1;32m    348\u001b[0m     \u001b[39mcls\u001b[39m \u001b[39m=\u001b[39m JSONDecoder\n",
      "File \u001b[0;32m~/micromamba/lib/python3.9/json/decoder.py:337\u001b[0m, in \u001b[0;36mJSONDecoder.decode\u001b[0;34m(self, s, _w)\u001b[0m\n\u001b[1;32m    332\u001b[0m \u001b[39mdef\u001b[39;00m \u001b[39mdecode\u001b[39m(\u001b[39mself\u001b[39m, s, _w\u001b[39m=\u001b[39mWHITESPACE\u001b[39m.\u001b[39mmatch):\n\u001b[1;32m    333\u001b[0m \u001b[39m    \u001b[39m\u001b[39m\"\"\"Return the Python representation of ``s`` (a ``str`` instance\u001b[39;00m\n\u001b[1;32m    334\u001b[0m \u001b[39m    containing a JSON document).\u001b[39;00m\n\u001b[1;32m    335\u001b[0m \n\u001b[1;32m    336\u001b[0m \u001b[39m    \"\"\"\u001b[39;00m\n\u001b[0;32m--> 337\u001b[0m     obj, end \u001b[39m=\u001b[39m \u001b[39mself\u001b[39;49m\u001b[39m.\u001b[39;49mraw_decode(s, idx\u001b[39m=\u001b[39;49m_w(s, \u001b[39m0\u001b[39;49m)\u001b[39m.\u001b[39;49mend())\n\u001b[1;32m    338\u001b[0m     end \u001b[39m=\u001b[39m _w(s, end)\u001b[39m.\u001b[39mend()\n\u001b[1;32m    339\u001b[0m     \u001b[39mif\u001b[39;00m end \u001b[39m!=\u001b[39m \u001b[39mlen\u001b[39m(s):\n",
      "File \u001b[0;32m~/micromamba/lib/python3.9/json/decoder.py:355\u001b[0m, in \u001b[0;36mJSONDecoder.raw_decode\u001b[0;34m(self, s, idx)\u001b[0m\n\u001b[1;32m    353\u001b[0m     obj, end \u001b[39m=\u001b[39m \u001b[39mself\u001b[39m\u001b[39m.\u001b[39mscan_once(s, idx)\n\u001b[1;32m    354\u001b[0m \u001b[39mexcept\u001b[39;00m \u001b[39mStopIteration\u001b[39;00m \u001b[39mas\u001b[39;00m err:\n\u001b[0;32m--> 355\u001b[0m     \u001b[39mraise\u001b[39;00m JSONDecodeError(\u001b[39m\"\u001b[39m\u001b[39mExpecting value\u001b[39m\u001b[39m\"\u001b[39m, s, err\u001b[39m.\u001b[39mvalue) \u001b[39mfrom\u001b[39;00m \u001b[39mNone\u001b[39;00m\n\u001b[1;32m    356\u001b[0m \u001b[39mreturn\u001b[39;00m obj, end\n",
      "\u001b[0;31mJSONDecodeError\u001b[0m: Expecting value: line 1 column 8 (char 7)"
     ]
    }
   ],
   "source": [
    "# Charger le DataFrame si ce n'est pas déjà fait\n",
    "selected_comments = pd.read_csv('selected_comments_with_top_comments.csv')\n",
    "\n",
    "# Convertir la colonne de chaîne JSON en listes, si nécessaire\n",
    "import json\n",
    "selected_comments['top_comments'] = selected_comments['top_comments'].apply(lambda x: json.loads(x) if pd.notna(x) else x)\n",
    "\n",
    "# Vérifier s'il y a des entrées manquantes dans 'top_comments'\n",
    "if selected_comments['top_comments'].isna().any():\n",
    "    for index, row in tqdm(selected_comments[selected_comments['top_comments'].isna()].iterrows(), total=selected_comments['top_comments'].isna().sum()):\n",
    "        k_comments = reco.get_top_comments_filtres(row['author'], row['title'], 5, 100)\n",
    "        selected_comments.at[index, 'top_comments'] = json.dumps(k_comments)  # Sérialiser et stocker\n",
    "\n",
    "    # Sauvegarder à nouveau le DataFrame après mise à jour\n",
    "    selected_comments.to_csv('selected_comments_with_top_comments.csv', index=False)\n"
   ]
  },
  {
   "cell_type": "markdown",
   "metadata": {},
   "source": [
    "#### Baseline"
   ]
  },
  {
   "cell_type": "code",
   "execution_count": 62,
   "metadata": {},
   "outputs": [
    {
     "name": "stderr",
     "output_type": "stream",
     "text": [
      "  0%|          | 0/100 [00:00<?, ?it/s]"
     ]
    },
    {
     "name": "stderr",
     "output_type": "stream",
     "text": [
      "\n"
     ]
    },
    {
     "ename": "AttributeError",
     "evalue": "'str' object has no attribute 'dtype'",
     "output_type": "error",
     "traceback": [
      "\u001b[0;31m---------------------------------------------------------------------------\u001b[0m",
      "\u001b[0;31mAttributeError\u001b[0m                            Traceback (most recent call last)",
      "\u001b[1;32m/Users/martin/Library/Mobile Documents/com~apple~CloudDocs/L3/Projet_recommendation/TESTS_FINAUX.ipynb Cell 29\u001b[0m line \u001b[0;36m8\n\u001b[1;32m      <a href='vscode-notebook-cell:/Users/martin/Library/Mobile%20Documents/com~apple~CloudDocs/L3/Projet_recommendation/TESTS_FINAUX.ipynb#X51sZmlsZQ%3D%3D?line=5'>6</a>\u001b[0m nb_mots \u001b[39m=\u001b[39m row[\u001b[39m'\u001b[39m\u001b[39mword_count\u001b[39m\u001b[39m'\u001b[39m]\n\u001b[1;32m      <a href='vscode-notebook-cell:/Users/martin/Library/Mobile%20Documents/com~apple~CloudDocs/L3/Projet_recommendation/TESTS_FINAUX.ipynb#X51sZmlsZQ%3D%3D?line=6'>7</a>\u001b[0m param_mots \u001b[39m=\u001b[39m \u001b[39mround\u001b[39m(\u001b[39m0.10\u001b[39m \u001b[39m*\u001b[39m nb_mots)\n\u001b[0;32m----> <a href='vscode-notebook-cell:/Users/martin/Library/Mobile%20Documents/com~apple~CloudDocs/L3/Projet_recommendation/TESTS_FINAUX.ipynb#X51sZmlsZQ%3D%3D?line=7'>8</a>\u001b[0m \u001b[39mprint\u001b[39m(row[\u001b[39m'\u001b[39;49m\u001b[39mtop_comments\u001b[39;49m\u001b[39m'\u001b[39;49m]\u001b[39m.\u001b[39;49mdtype)\n\u001b[1;32m      <a href='vscode-notebook-cell:/Users/martin/Library/Mobile%20Documents/com~apple~CloudDocs/L3/Projet_recommendation/TESTS_FINAUX.ipynb#X51sZmlsZQ%3D%3D?line=8'>9</a>\u001b[0m keywords \u001b[39m=\u001b[39m tf_idf(row[\u001b[39m'\u001b[39m\u001b[39mtop_comments\u001b[39m\u001b[39m'\u001b[39m], param_mots)\n\u001b[1;32m     <a href='vscode-notebook-cell:/Users/martin/Library/Mobile%20Documents/com~apple~CloudDocs/L3/Projet_recommendation/TESTS_FINAUX.ipynb#X51sZmlsZQ%3D%3D?line=9'>10</a>\u001b[0m selected_comments\u001b[39m.\u001b[39mat[index, \u001b[39m'\u001b[39m\u001b[39mbaseline\u001b[39m\u001b[39m'\u001b[39m] \u001b[39m=\u001b[39m keywords\n",
      "\u001b[0;31mAttributeError\u001b[0m: 'str' object has no attribute 'dtype'"
     ]
    }
   ],
   "source": [
    "selected_comments = pd.read_csv('selected_comments_with_top_comments.csv')\n",
    "selected_comments['baseline'] = None\n",
    "\n",
    "# Utiliser tqdm pour afficher la barre de progression\n",
    "for index, row in tqdm(selected_comments.iterrows(), total=selected_comments.shape[0]):\n",
    "    nb_mots = row['word_count']\n",
    "    param_mots = round(0.10 * nb_mots)\n",
    "    print(row['top_comments'].dtype)\n",
    "    keywords = tf_idf(row['top_comments'], param_mots)\n",
    "    selected_comments.at[index, 'baseline'] = keywords\n"
   ]
  },
  {
   "cell_type": "markdown",
   "metadata": {},
   "source": [
    "#### TF-IDF"
   ]
  },
  {
   "cell_type": "code",
   "execution_count": null,
   "metadata": {},
   "outputs": [],
   "source": [
    "selected_comments['tf_idf'] = None\n",
    "\n",
    "for index, row in tqdm(selected_comments.iterrows(), total=selected_comments.shape[0]):\n",
    "    k_comments = reco.get_top_comments_filtres(row['author'], row['title'], 5, 100)\n",
    "    nb_mots = row['word_count']\n",
    "    param_mots = round(0.10 * nb_mots)\n",
    "    keywords = baseline(k_comments, param_mots)\n",
    "    selected_comments.at[index, 'baseline'] = keywords"
   ]
  }
 ],
 "metadata": {
  "kernelspec": {
   "display_name": "base",
   "language": "python",
   "name": "python3"
  },
  "language_info": {
   "codemirror_mode": {
    "name": "ipython",
    "version": 3
   },
   "file_extension": ".py",
   "mimetype": "text/x-python",
   "name": "python",
   "nbconvert_exporter": "python",
   "pygments_lexer": "ipython3",
   "version": "3.9.18"
  },
  "orig_nbformat": 4
 },
 "nbformat": 4,
 "nbformat_minor": 2
}
