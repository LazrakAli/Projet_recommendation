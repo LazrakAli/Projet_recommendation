{
 "cells": [
  {
   "cell_type": "markdown",
   "metadata": {},
   "source": [
    "# Protocole Expérimental pour Tester les Méthodes d'Extraction de Mots-Clés\n",
    "\n",
    "## Objectif\n",
    "Comparer les mots-clés extraits par différentes méthodes d'extraction à des commentaires d'utilisateurs existants pour évaluer leur pertinence et leur utilité dans l'explication des recommandations de jeux.\n",
    "\n",
    "## Étapes du Protocole\n",
    "\n",
    "### 1. Préparation des Données\n",
    "- **Pretraitement des données, initialisation et entraînement de l'algorithme de recommandation**\n",
    "- **Nettoyage des Commentaires** : Application des techniques de prétraitement telles que la suppression des stop-words, la ponctuation, et la lemmatisation/stemmatisation.\n",
    "\n",
    "### 2. Méthodes d'Extraction\n",
    "- **Méthodes à Tester** :\n",
    "    - Baseline (Comptage de mots fréquents)\n",
    "    - TF-IDF\n",
    "    - LDA\n",
    "    - TextRank\n",
    "    - YAKE\n",
    "    - RAKE\n",
    "    - KeyBERT\n",
    "- **Extraction de Mots-Clés** : Application de chaque méthode sur les commentaires sélectionnés pour extraire les mots-clés.\n",
    "\n",
    "### 3. Évaluation de la Pertinence\n",
    "- **Correspondance avec les Commentaires Réels** : Comparaison des mots-clés extraits à ceux présents dans les commentaires réels des utilisateurs pour évaluer leur pertinence et leur alignement.\n",
    "- **Annotation Humaine** : Nous allons noter nous mêmes la pertinence des mots clés sur une echelle de 0 à 5.\n",
    "- **Métriques de Performance** :\n",
    "    - **Précision** : Pourcentage de mots-clés pertinents parmi ceux extraits.\n",
    "    - **Rappel** : Pourcentage de mots-clés pertinents identifiés parmi ceux présents dans les commentaires.\n",
    "    - **F1-Score** : Combinaison harmonique de la précision et du rappel.\n",
    "\n",
    "### 4. Analyse des Résultats\n",
    "- **Comparaison des Méthodes** : Comparaison des scores de précision, de rappel et de F1-score pour chaque méthode. Analyse des feedbacks qualitatifs pour identifier les points forts et les faiblesses de chaque méthode.\n",
    "- **Visualisation des Données** : Graphiques pour représenter les performances des différentes méthodes (par exemple, diagrammes en barres, nuages de mots, etc.).\n",
    "\n",
    "### 5. Interprétation et Recommandations\n",
    "- **Synthèse des Résultats** : Tableau des résultats quantitatifs et qualitatifs pour chaque méthode.\n",
    "- **Suggestions d'Améliorations** : Ajustements ou combinaisons de méthodes pour améliorer davantage l'extraction de mots-clés et la génération d'explications.\n"
   ]
  },
  {
   "cell_type": "code",
   "execution_count": 1,
   "metadata": {},
   "outputs": [
    {
     "name": "stderr",
     "output_type": "stream",
     "text": [
      "[nltk_data] Downloading package stopwords to\n",
      "[nltk_data]     /Users/martin/nltk_data...\n",
      "[nltk_data]   Package stopwords is already up-to-date!\n",
      "[nltk_data] Downloading package punkt to /Users/martin/nltk_data...\n",
      "[nltk_data]   Package punkt is already up-to-date!\n"
     ]
    }
   ],
   "source": [
    "from explication import *\n",
    "from methodes_nlp import *"
   ]
  },
  {
   "cell_type": "markdown",
   "metadata": {},
   "source": [
    "### 1. Préparation des données"
   ]
  },
  {
   "cell_type": "code",
   "execution_count": 2,
   "metadata": {},
   "outputs": [
    {
     "name": "stdout",
     "output_type": "stream",
     "text": [
      "Computing the cosine similarity matrix...\n",
      "Done computing similarity matrix.\n"
     ]
    }
   ],
   "source": [
    "reco = RecommendationSystem(\"BDD/avis_sans_outliers.csv\")\n",
    "reco.train_algorithm()"
   ]
  },
  {
   "cell_type": "code",
   "execution_count": 3,
   "metadata": {},
   "outputs": [],
   "source": [
    "comments = reco.get_top_comments_filtres('Monsieur Guillaume','Mariposas',5,10)"
   ]
  },
  {
   "cell_type": "markdown",
   "metadata": {},
   "source": [
    "### 2. Méthodes d'Extraction"
   ]
  },
  {
   "cell_type": "markdown",
   "metadata": {},
   "source": [
    "#### BASELINE (Mots les plus fréquents)"
   ]
  },
  {
   "cell_type": "code",
   "execution_count": 4,
   "metadata": {},
   "outputs": [
    {
     "name": "stdout",
     "output_type": "stream",
     "text": [
      "['faire', 'jeu', 'papillon', 'avoir', 'si', 'plus', 'aller', 'pouvoir', 'autre', 'tout', 'mariposer', 'variante', 'donc', 'carte', 'tour', 'pion', 'très', 'vraiment', 'bien', 'courbe', 'bon', 'migration', 'point', 'sembler', 'gagner', 'essayer', 'falloir', 'score', 'retourner', 'simple', 'niveau', 'progression', 'faciliter', 'cycle', 'vie', 'saisonnier', 'mexiqu', 'québec', 'ramener', 'scorer', 'maximum', 'visiter', 'proche', 'nord', 'revenir', 'dare', 'technique', 'coup', 'moins', 'rendre', 'course', 'trop', 'quand', 'encore', 'objectif', 'tenter', 'moment', 'lorsque', 'reste', 'deux', 'mode', 'partie', 'règle', 'familial', 'cach', 'jouer', 'mariposa', 'envie', 'réfléchir', 'joli', 'optimiser', 'déplacement', 'naissance', 'ville', 'voyage', 'départ', 'tension', 'embêter', 'difficile', 'déterminer', 'concevoir', 'particulier', 'devenir', 'utiliser', 'rallonger', 'saison', 'expliquer', 'sensé', 'organiser', 'monarque', 'poindre', 'atteindre', 'systématiquement', 'valider', 'parfaitement', 'arrêter', 'moitié', 'chemin', 'plein', 'façon']\n"
     ]
    }
   ],
   "source": [
    "print(baseline(comments,100))"
   ]
  },
  {
   "cell_type": "markdown",
   "metadata": {},
   "source": [
    "#### TF-IDF"
   ]
  },
  {
   "cell_type": "code",
   "execution_count": 5,
   "metadata": {},
   "outputs": [
    {
     "name": "stdout",
     "output_type": "stream",
     "text": [
      "['faire', 'jeu', 'avoir', 'pion', 'papillon', 'plus', 'simple', 'aller', 'tout', 'embêter', 'si', 'autre', 'carte', 'mariposer', 'donc', 'tour', 'pouvoir', 'variante', 'départ', 'tension', 'falloir', 'point', 'déplacement', 'optimiser', 'envie', 'joli', 'essayer', 'très', 'réfléchir', 'ville', 'retourner', 'courbe', 'bon', 'jouer', 'mariposa', 'naissance', 'voyage', 'course', 'partie', 'proche', 'vie', 'action', 'acumuler', 'balad', 'cours', 'deplacmer', 'devoir', 'dire', 'exacerber', 'fil', 'grâce', 'joue', 'mise', 'optimisation', 'pet', 'possibilité', 'remporter', 'setting', 'somme', 'bien', 'apprentissage', 'arriver', 'aussi', 'bel', 'bemol', 'bijou', 'camoufler', 'concerner', 'contribuer', 'couleur', 'cycl', 'différents', 'donne', 'histoire', 'illustration', 'impossible', 'matériel', 'mini', 'oeil', 'parce', 'permettre', 'propo', 'regarder', 'réussite', 'sauver', 'toujours', 'visualiser', 'gagner', 'migration', 'score', 'sembler', 'vraiment', 'maximum', 'mexiqu', 'moins', 'nord', 'ramener', 'reste', 'revenir', 'deux']\n"
     ]
    }
   ],
   "source": [
    "print(tf_idf(comments, 100))"
   ]
  },
  {
   "cell_type": "markdown",
   "metadata": {},
   "source": [
    "#### LDA"
   ]
  },
  {
   "cell_type": "code",
   "execution_count": 6,
   "metadata": {},
   "outputs": [
    {
     "name": "stdout",
     "output_type": "stream",
     "text": [
      "{'Topic 0': ['faire', 'jeu', 'plus', 'si', 'papillon', 'aller', 'avoir', 'pion', 'pouvoir', 'tout', 'autre', 'variante', 'essayer', 'carte', 'vraiment'], 'Topic 1': ['jeu', 'tout', 'faire', 'papillon', 'aller', 'si', 'variante', 'carte', 'très', 'courbe', 'joli', 'proche', 'essayer', 'illustration', 'oeil'], 'Topic 2': ['avoir', 'pion', 'autre', 'jeu', 'faire', 'papillon', 'aller', 'embêter', 'optimiser', 'déplacement', 'ville', 'réfléchir', 'retourner', 'plus', 'si'], 'Topic 3': ['faire', 'plus', 'jeu', 'pouvoir', 'aller', 'si', 'papillon', 'avoir', 'tour', 'donc', 'sembler', 'score', 'migration', 'vraiment', 'gagner'], 'Topic 4': ['jeu', 'faire', 'simple', 'papillon', 'si', 'avoir', 'falloir', 'mariposer', 'mexiqu', 'moins', 'bon', 'point', 'nord', 'maximum', 'mariposa']}\n"
     ]
    }
   ],
   "source": [
    "print(lda(comments, num_topics=5, num_keywords=15))"
   ]
  },
  {
   "cell_type": "markdown",
   "metadata": {},
   "source": [
    "#### TEXTRANK"
   ]
  },
  {
   "cell_type": "code",
   "execution_count": 7,
   "metadata": {},
   "outputs": [
    {
     "name": "stdout",
     "output_type": "stream",
     "text": [
      "jeu\n",
      "papillon\n",
      "faire point\n",
      "québec avoir\n",
      "essayer aller\n",
      "autre\n",
      "pouvoir\n",
      "nord plus\n",
      "pion retourn\n",
      "donc\n",
      "si mariposer vraiment bien\n",
      "carte\n",
      "retourner\n",
      "sembler tout\n",
      "partie\n",
      "party\n",
      "bon\n",
      "migration\n",
      "visiter\n",
      "tour\n",
      "variante faciliter cycle\n",
      "simple\n",
      "falloir\n",
      "très\n",
      "technique gagner\n",
      "score\n",
      "cycl\n",
      "visite ville\n",
      "reste\n",
      "optimiser\n",
      "optimisation\n",
      "proche\n",
      "niveau courbe\n",
      "moins\n",
      "obligation\n",
      "obliger\n",
      "rendre\n",
      "deux mode\n",
      "tenter\n",
      "temp\n",
      "voyage\n",
      "règle\n",
      "jouer mariposa temps\n",
      "joli\n",
      "ramener\n",
      "lorsque\n",
      "objectif\n",
      "envie réfléchir\n",
      "trop\n",
      "quand\n",
      "encore\n",
      "tension\n",
      "coup\n",
      "départ\n"
     ]
    }
   ],
   "source": [
    "print(textrank(comments))"
   ]
  },
  {
   "cell_type": "markdown",
   "metadata": {},
   "source": [
    "#### YAKE"
   ]
  },
  {
   "cell_type": "code",
   "execution_count": 8,
   "metadata": {},
   "outputs": [
    {
     "name": "stdout",
     "output_type": "stream",
     "text": [
      "{0: ['niveau courbe progression', 'final courbe progression', 'courbe progression long', 'apte final courbe', 'progression long incertaine', 'devenir bon utiliser', 'vie rallonger saison', 'rallonger saison expliquer', 'saison expliquer sensé', 'expliquer sensé organiser'], 1: ['aimer jouer mariposa', 'fois entreprendre voyage', 'jouer mariposa temps', 'adapter prime joli', 'niveau mécanique jeu', 'mécanique jeu calcul', 'jeu calcul optimiser', 'calcul optimiser déplacement', 'optimiser déplacement naissance', 'déplacement naissance papillon'], 2: ['air pittoresque visuel', 'intéressant agréable jouer', 'pittoresque visuel épurer', 'visuel épurer mariposer', 'gestion redoutable mécaniquement', 'profondément riche but', 'nord amériqu créer', 'amériqu créer naissance', 'revenir point départ', 'point départ voyage'], 3: ['vie bel réussite', 'matériel illustration histoire', 'illustration histoire propo', 'donne envie contribuer', 'envie contribuer sauver', 'contribuer sauver courbe', 'sauver courbe apprentissage', 'courbe apprentissage impossible', 'essayer mini bemol', 'mini bemol papillon'], 4: ['mariposer jeu tension', 'faire remporter mise', 'jeu tension aller', 'tension aller exacerber', 'aller exacerber cours', 'exacerber cours partie', 'cours partie devoir', 'fil joue papillon', 'joue papillon balad', 'setting départ grâce']}\n"
     ]
    }
   ],
   "source": [
    "print(yake_extractor(comments))"
   ]
  },
  {
   "cell_type": "markdown",
   "metadata": {},
   "source": [
    "#### RAKE"
   ]
  }
 ],
 "metadata": {
  "kernelspec": {
   "display_name": "base",
   "language": "python",
   "name": "python3"
  },
  "language_info": {
   "codemirror_mode": {
    "name": "ipython",
    "version": 3
   },
   "file_extension": ".py",
   "mimetype": "text/x-python",
   "name": "python",
   "nbconvert_exporter": "python",
   "pygments_lexer": "ipython3",
   "version": "3.9.18"
  },
  "orig_nbformat": 4
 },
 "nbformat": 4,
 "nbformat_minor": 2
}
