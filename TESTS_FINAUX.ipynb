{
 "cells": [
  {
   "cell_type": "markdown",
   "metadata": {},
   "source": [
    "# Protocole Expérimental pour Tester les Méthodes d'Extraction de Mots-Clés\n",
    "\n",
    "## Objectif\n",
    "Comparer les mots-clés extraits par différentes méthodes d'extraction à des commentaires d'utilisateurs existants pour évaluer leur pertinence et leur utilité dans l'explication des recommandations de jeux.\n",
    "\n",
    "## Étapes du Protocole\n",
    "\n",
    "### 1. Préparation des Données\n",
    "- **Pretraitement des données, initialisation et entraînement de l'algorithme de recommandation**\n",
    "- **Nettoyage des Commentaires** : Application des techniques de prétraitement telles que la suppression des stop-words, la ponctuation, et la lemmatisation/stemmatisation.\n",
    "\n",
    "### 2. Implémentation des Méthodes d'Extraction\n",
    "- **Méthodes à Tester** :\n",
    "    - Baseline (Comptage de mots fréquents)\n",
    "    - TF-IDF\n",
    "    - LDA\n",
    "    - TextRank\n",
    "    - YAKE\n",
    "    - RAKE\n",
    "    - KeyBERT\n",
    "- **Extraction de Mots-Clés** : Application de chaque méthode sur les commentaires sélectionnés pour extraire les mots-clés.\n",
    "\n",
    "### 3. Simulation des Explications\n",
    "- **Génération des Explications** : Pour chaque méthode, affichage des mots-clés extraits.\n",
    "- **Correspondance avec les Commentaires Réels** : Comparaison des mots-clés extraits à ceux présents dans les commentaires réels des utilisateurs pour évaluer leur pertinence et leur alignement.\n",
    "\n",
    "### 4. Évaluation de la Pertinence\n",
    "- **Annotation Humaine** : Nous allons noter nous mêmes la pertinence des mots clés sur une echelle de 0 à 5.\n",
    "- **Métriques de Performance** :\n",
    "    - **Précision** : Pourcentage de mots-clés pertinents parmi ceux extraits.\n",
    "    - **Rappel** : Pourcentage de mots-clés pertinents identifiés parmi ceux présents dans les commentaires.\n",
    "    - **F1-Score** : Combinaison harmonique de la précision et du rappel.\n",
    "\n",
    "### 5. Analyse des Résultats\n",
    "- **Comparaison des Méthodes** : Comparaison des scores de précision, de rappel et de F1-score pour chaque méthode. Analyse des feedbacks qualitatifs pour identifier les points forts et les faiblesses de chaque méthode.\n",
    "- **Visualisation des Données** : Graphiques pour représenter les performances des différentes méthodes (par exemple, diagrammes en barres, nuages de mots, etc.).\n",
    "\n",
    "### 6. Interprétation et Recommandations\n",
    "- **Synthèse des Résultats** : Tableau des résultats quantitatifs et qualitatifs pour chaque méthode.\n",
    "- **Suggestions d'Améliorations** : Ajustements ou combinaisons de méthodes pour améliorer davantage l'extraction de mots-clés et la génération d'explications.\n"
   ]
  },
  {
   "cell_type": "code",
   "execution_count": 14,
   "metadata": {},
   "outputs": [],
   "source": [
    "from explication import *\n",
    "import pandas as pd"
   ]
  },
  {
   "cell_type": "markdown",
   "metadata": {},
   "source": [
    "### 1. Préparation des données"
   ]
  },
  {
   "cell_type": "code",
   "execution_count": 15,
   "metadata": {},
   "outputs": [
    {
     "name": "stdout",
     "output_type": "stream",
     "text": [
      "Computing the cosine similarity matrix...\n",
      "Done computing similarity matrix.\n"
     ]
    }
   ],
   "source": [
    "algo = RecommendationSystem(\"BDD/avis_sans_outliers.csv\")\n",
    "algo.prepare_data()\n",
    "algo.train_algorithm()"
   ]
  },
  {
   "cell_type": "code",
   "execution_count": 16,
   "metadata": {},
   "outputs": [],
   "source": [
    "data = pd.read_csv('BDD/avis_sans_outliers.csv')"
   ]
  },
  {
   "cell_type": "code",
   "execution_count": 13,
   "metadata": {},
   "outputs": [
    {
     "data": {
      "text/html": [
       "<div>\n",
       "<style scoped>\n",
       "    .dataframe tbody tr th:only-of-type {\n",
       "        vertical-align: middle;\n",
       "    }\n",
       "\n",
       "    .dataframe tbody tr th {\n",
       "        vertical-align: top;\n",
       "    }\n",
       "\n",
       "    .dataframe thead th {\n",
       "        text-align: right;\n",
       "    }\n",
       "</style>\n",
       "<table border=\"1\" class=\"dataframe\">\n",
       "  <thead>\n",
       "    <tr style=\"text-align: right;\">\n",
       "      <th></th>\n",
       "      <th>Unnamed: 0</th>\n",
       "      <th>author</th>\n",
       "      <th>note</th>\n",
       "      <th>title</th>\n",
       "      <th>comment</th>\n",
       "    </tr>\n",
       "  </thead>\n",
       "  <tbody>\n",
       "    <tr>\n",
       "      <th>0</th>\n",
       "      <td>0</td>\n",
       "      <td>Monsieur Guillaume</td>\n",
       "      <td>8</td>\n",
       "      <td>Mariposas</td>\n",
       "      <td>Lorsque le jeu est jeu, bon, réflexif, joli po...</td>\n",
       "    </tr>\n",
       "    <tr>\n",
       "      <th>1</th>\n",
       "      <td>1</td>\n",
       "      <td>morlockbob</td>\n",
       "      <td>7</td>\n",
       "      <td>Mariposas</td>\n",
       "      <td>Comment continuer après un mega hit ? Simpleme...</td>\n",
       "    </tr>\n",
       "    <tr>\n",
       "      <th>2</th>\n",
       "      <td>2</td>\n",
       "      <td>SwatSh</td>\n",
       "      <td>7</td>\n",
       "      <td>Mariposas</td>\n",
       "      <td>Vin d'jeu: Avec Mariposas, Elizabeth Hargrave ...</td>\n",
       "    </tr>\n",
       "    <tr>\n",
       "      <th>3</th>\n",
       "      <td>3</td>\n",
       "      <td>Timi JeuxATheme</td>\n",
       "      <td>8</td>\n",
       "      <td>Mariposas</td>\n",
       "      <td>NaN</td>\n",
       "    </tr>\n",
       "    <tr>\n",
       "      <th>4</th>\n",
       "      <td>4</td>\n",
       "      <td>prunelles</td>\n",
       "      <td>9</td>\n",
       "      <td>Mariposas</td>\n",
       "      <td>Très joli bijou que ce jeu-là ! Le matériel, l...</td>\n",
       "    </tr>\n",
       "  </tbody>\n",
       "</table>\n",
       "</div>"
      ],
      "text/plain": [
       "   Unnamed: 0              author  note      title  \\\n",
       "0           0  Monsieur Guillaume     8  Mariposas   \n",
       "1           1          morlockbob     7  Mariposas   \n",
       "2           2              SwatSh     7  Mariposas   \n",
       "3           3     Timi JeuxATheme     8  Mariposas   \n",
       "4           4           prunelles     9  Mariposas   \n",
       "\n",
       "                                             comment  \n",
       "0  Lorsque le jeu est jeu, bon, réflexif, joli po...  \n",
       "1  Comment continuer après un mega hit ? Simpleme...  \n",
       "2  Vin d'jeu: Avec Mariposas, Elizabeth Hargrave ...  \n",
       "3                                                NaN  \n",
       "4  Très joli bijou que ce jeu-là ! Le matériel, l...  "
      ]
     },
     "execution_count": 13,
     "metadata": {},
     "output_type": "execute_result"
    }
   ],
   "source": [
    "data.head()"
   ]
  },
  {
   "cell_type": "code",
   "execution_count": 5,
   "metadata": {},
   "outputs": [
    {
     "name": "stdout",
     "output_type": "stream",
     "text": [
      "        Unnamed: 0           author  note       title comment\n",
      "3                3  Timi JeuxATheme     8   Mariposas     NaN\n",
      "7                7         PawnPawn     6   Mariposas     NaN\n",
      "8                8           M.PinK     7   Mariposas     NaN\n",
      "9                9         micmac85     8   Mariposas     NaN\n",
      "10              10        Max Riock     9   Mariposas     NaN\n",
      "...            ...              ...   ...         ...     ...\n",
      "117608      117608           Glatos     5  Kill Bique     NaN\n",
      "117623      117623           L.S.G.     6   22 Pommes     NaN\n",
      "117633      117633  Monsieur Julien     5   22 Pommes     NaN\n",
      "117655      117655         koumbaia     7   22 Pommes     NaN\n",
      "117678      117678  nicolasthomasse     7   Mag Blast     NaN\n",
      "\n",
      "[21794 rows x 5 columns]\n"
     ]
    }
   ],
   "source": [
    "# Check for non-string entries in the comment column\n",
    "non_string_comments = data[data['comment'].apply(lambda x: not isinstance(x, str))]\n",
    "print(non_string_comments)\n"
   ]
  },
  {
   "cell_type": "code",
   "execution_count": 6,
   "metadata": {},
   "outputs": [
    {
     "name": "stdout",
     "output_type": "stream",
     "text": [
      "object\n"
     ]
    }
   ],
   "source": [
    "print(data['comment'].dtype)"
   ]
  },
  {
   "cell_type": "code",
   "execution_count": 7,
   "metadata": {},
   "outputs": [
    {
     "ename": "AttributeError",
     "evalue": "'float' object has no attribute 'split'",
     "output_type": "error",
     "traceback": [
      "\u001b[0;31m---------------------------------------------------------------------------\u001b[0m",
      "\u001b[0;31mAttributeError\u001b[0m                            Traceback (most recent call last)",
      "\u001b[1;32m/Users/martin/Library/Mobile Documents/com~apple~CloudDocs/L3/Projet_recommendation/TESTS_FINAUX.ipynb Cell 9\u001b[0m line \u001b[0;36m1\n\u001b[0;32m----> <a href='vscode-notebook-cell:/Users/martin/Library/Mobile%20Documents/com~apple~CloudDocs/L3/Projet_recommendation/TESTS_FINAUX.ipynb#X11sZmlsZQ%3D%3D?line=0'>1</a>\u001b[0m \u001b[39mprint\u001b[39m(algo\u001b[39m.\u001b[39;49mget_top_comments(\u001b[39m'\u001b[39;49m\u001b[39mMonsieur Guillaume\u001b[39;49m\u001b[39m'\u001b[39;49m,\u001b[39m'\u001b[39;49m\u001b[39mMariposas\u001b[39;49m\u001b[39m'\u001b[39;49m,\u001b[39m5\u001b[39;49m,\u001b[39m10\u001b[39;49m))\n",
      "File \u001b[0;32m~/Library/Mobile Documents/com~apple~CloudDocs/L3/Projet_recommendation/explication.py:87\u001b[0m, in \u001b[0;36mRecommendationSystem.get_top_comments\u001b[0;34m(self, user_id, game_title, N, word_count_threshold)\u001b[0m\n\u001b[1;32m     85\u001b[0m neighbor_comments \u001b[39m=\u001b[39m \u001b[39mself\u001b[39m\u001b[39m.\u001b[39mdata[(\u001b[39mself\u001b[39m\u001b[39m.\u001b[39mdata[\u001b[39m'\u001b[39m\u001b[39mauthor\u001b[39m\u001b[39m'\u001b[39m] \u001b[39m==\u001b[39m neighbor_id) \u001b[39m&\u001b[39m (\u001b[39mself\u001b[39m\u001b[39m.\u001b[39mdata[\u001b[39m'\u001b[39m\u001b[39mtitle\u001b[39m\u001b[39m'\u001b[39m] \u001b[39m==\u001b[39m game_title)]\n\u001b[1;32m     86\u001b[0m \u001b[39m# Apply enhanced word count filter\u001b[39;00m\n\u001b[0;32m---> 87\u001b[0m valid_comments \u001b[39m=\u001b[39m \u001b[39mself\u001b[39;49m\u001b[39m.\u001b[39;49mfilter_comments_by_word_count(neighbor_comments[\u001b[39m'\u001b[39;49m\u001b[39mcomment\u001b[39;49m\u001b[39m'\u001b[39;49m]\u001b[39m.\u001b[39;49mtolist(), word_count_threshold)\n\u001b[1;32m     88\u001b[0m \u001b[39mfor\u001b[39;00m comment \u001b[39min\u001b[39;00m valid_comments:\n\u001b[1;32m     89\u001b[0m     found_comments\u001b[39m.\u001b[39mappend((rank, neighbor_id, comment))\n",
      "File \u001b[0;32m~/Library/Mobile Documents/com~apple~CloudDocs/L3/Projet_recommendation/explication.py:38\u001b[0m, in \u001b[0;36mRecommendationSystem.filter_comments_by_word_count\u001b[0;34m(self, comments, min_word_count)\u001b[0m\n\u001b[1;32m     34\u001b[0m \u001b[39mdef\u001b[39;00m \u001b[39mfilter_comments_by_word_count\u001b[39m(\u001b[39mself\u001b[39m, comments, min_word_count):\n\u001b[1;32m     35\u001b[0m \u001b[39m    \u001b[39m\u001b[39m\"\"\"\u001b[39;00m\n\u001b[1;32m     36\u001b[0m \u001b[39m    Filters comments by word count.\u001b[39;00m\n\u001b[1;32m     37\u001b[0m \u001b[39m    \"\"\"\u001b[39;00m\n\u001b[0;32m---> 38\u001b[0m     \u001b[39mreturn\u001b[39;00m [comment \u001b[39mfor\u001b[39;00m comment \u001b[39min\u001b[39;00m comments \u001b[39mif\u001b[39;00m \u001b[39mlen\u001b[39m(comment\u001b[39m.\u001b[39msplit()) \u001b[39m>\u001b[39m\u001b[39m=\u001b[39m min_word_count]\n",
      "File \u001b[0;32m~/Library/Mobile Documents/com~apple~CloudDocs/L3/Projet_recommendation/explication.py:38\u001b[0m, in \u001b[0;36m<listcomp>\u001b[0;34m(.0)\u001b[0m\n\u001b[1;32m     34\u001b[0m \u001b[39mdef\u001b[39;00m \u001b[39mfilter_comments_by_word_count\u001b[39m(\u001b[39mself\u001b[39m, comments, min_word_count):\n\u001b[1;32m     35\u001b[0m \u001b[39m    \u001b[39m\u001b[39m\"\"\"\u001b[39;00m\n\u001b[1;32m     36\u001b[0m \u001b[39m    Filters comments by word count.\u001b[39;00m\n\u001b[1;32m     37\u001b[0m \u001b[39m    \"\"\"\u001b[39;00m\n\u001b[0;32m---> 38\u001b[0m     \u001b[39mreturn\u001b[39;00m [comment \u001b[39mfor\u001b[39;00m comment \u001b[39min\u001b[39;00m comments \u001b[39mif\u001b[39;00m \u001b[39mlen\u001b[39m(comment\u001b[39m.\u001b[39;49msplit()) \u001b[39m>\u001b[39m\u001b[39m=\u001b[39m min_word_count]\n",
      "\u001b[0;31mAttributeError\u001b[0m: 'float' object has no attribute 'split'"
     ]
    }
   ],
   "source": [
    "print(algo.get_top_comments('Monsieur Guillaume','Mariposas',5,10))"
   ]
  }
 ],
 "metadata": {
  "kernelspec": {
   "display_name": "base",
   "language": "python",
   "name": "python3"
  },
  "language_info": {
   "codemirror_mode": {
    "name": "ipython",
    "version": 3
   },
   "file_extension": ".py",
   "mimetype": "text/x-python",
   "name": "python",
   "nbconvert_exporter": "python",
   "pygments_lexer": "ipython3",
   "version": "3.9.18"
  },
  "orig_nbformat": 4
 },
 "nbformat": 4,
 "nbformat_minor": 2
}
